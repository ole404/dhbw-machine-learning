{
 "cells": [
  {
   "cell_type": "markdown",
   "source": [
    "# Warum ist es wichtig Elon Musk Tweets zu generieren?\n",
    "Elon Musk ist seit 2020 der reichste Mann der Welt. Zusätzlich ist er eine der einflussreichsten Personen auf der Plattform und baut diesen Einfluss damit aus, dass der seit 2022 der größte Anteilseigner der Plattform ist. Beim Theman Unternehmensanteile, Elon Musk und Twitter wird es auch abseits von Elon Musks persönlicher Finanzlage interessant. Musk ist bekannt dafür, in den letzten Jahren mit seinen Tweets Aktienkurse beeinflusst zu haben. Er hat beispielsweise 2002....\n",
    "Wer finanzielle Interessen hat, könnte sich davon ausgehen damit beschäftigen, ein System zu entwickeln, das anhand von Elon Musks Meinung Aktien und Optionen kauft.\n",
    "Wer finanzielle Interessen hat, sollte sich aber vielleicht auch nicht mit Elon Musks Tweets beschäftigen und denken, dass er anhand dessen der nächste Warren Buffet wird, sondern richtig arbeiten. Viel interessanter wäre es doch eigene Tweets zu generieren."
   ],
   "metadata": {
    "collapsed": false,
    "pycharm": {
     "name": "#%% md\n"
    }
   }
  },
  {
   "cell_type": "code",
   "execution_count": 1,
   "outputs": [],
   "source": [
    "import numpy as np\n",
    "import pandas as pd\n",
    "from tensorflow import keras\n",
    "from sklearn.model_selection import train_test_split\n",
    "import os\n",
    "import torch"
   ],
   "metadata": {
    "collapsed": false,
    "pycharm": {
     "name": "#%%\n"
    }
   }
  },
  {
   "cell_type": "code",
   "execution_count": 2,
   "outputs": [],
   "source": [
    "tweets_from_years = {}"
   ],
   "metadata": {
    "collapsed": false,
    "pycharm": {
     "name": "#%%\n"
    }
   }
  },
  {
   "cell_type": "code",
   "execution_count": 3,
   "outputs": [
    {
     "name": "stdout",
     "output_type": "stream",
     "text": [
      "2020.csv\n",
      "2021.csv\n",
      "2022.csv\n",
      "2019.csv\n",
      "2018.csv\n",
      "2015.csv\n",
      "2014.csv\n",
      "2016.csv\n",
      "2017.csv\n",
      "2013.csv\n",
      "2012.csv\n",
      "2010.csv\n",
      "2011.csv\n"
     ]
    }
   ],
   "source": [
    "for i in os.listdir('musktweets'):\n",
    "    year = i.rstrip('.csv')\n",
    "    print(i)\n",
    "    if i == '2021.csv' or i == '2022.csv':\n",
    "        tweets_from_years[year] = pd.read_csv('musktweets/'+i)\n",
    "    else:\n",
    "        tweets_from_years[year] = pd.read_csv('musktweets/'+i, index_col='index')"
   ],
   "metadata": {
    "collapsed": false,
    "pycharm": {
     "name": "#%%\n"
    }
   }
  },
  {
   "cell_type": "code",
   "execution_count": 4,
   "outputs": [
    {
     "data": {
      "text/plain": "['cashtags',\n 'conversation_id',\n 'created_at',\n 'date',\n 'day',\n 'geo',\n 'hashtags',\n 'hour',\n 'id',\n 'language',\n 'link',\n 'name',\n 'near',\n 'nlikes',\n 'nreplies',\n 'nretweets',\n 'photos',\n 'place',\n 'quote_url',\n 'reply_to',\n 'retweet',\n 'retweet_date',\n 'retweet_id',\n 'search',\n 'source',\n 'thumbnail',\n 'timezone',\n 'trans_dest',\n 'trans_src',\n 'translate',\n 'tweet',\n 'urls',\n 'user_id',\n 'user_id_str',\n 'user_rt',\n 'user_rt_id',\n 'username',\n 'video']"
     },
     "execution_count": 4,
     "metadata": {},
     "output_type": "execute_result"
    }
   ],
   "source": [
    "sorted(tweets_from_years['2020'].columns)"
   ],
   "metadata": {
    "collapsed": false,
    "pycharm": {
     "name": "#%%\n"
    }
   }
  },
  {
   "cell_type": "code",
   "execution_count": 5,
   "outputs": [
    {
     "data": {
      "text/plain": "['cashtags',\n 'conversation_id',\n 'created_at',\n 'date',\n 'geo',\n 'hashtags',\n 'id',\n 'language',\n 'likes_count',\n 'link',\n 'mentions',\n 'name',\n 'near',\n 'photos',\n 'place',\n 'quote_url',\n 'replies_count',\n 'reply_to',\n 'retweet',\n 'retweet_date',\n 'retweet_id',\n 'retweets_count',\n 'source',\n 'thumbnail',\n 'time',\n 'timezone',\n 'trans_dest',\n 'trans_src',\n 'translate',\n 'tweet',\n 'urls',\n 'user_id',\n 'user_rt',\n 'user_rt_id',\n 'username',\n 'video']"
     },
     "execution_count": 5,
     "metadata": {},
     "output_type": "execute_result"
    }
   ],
   "source": [
    "sorted(tweets_from_years['2022'].columns)"
   ],
   "metadata": {
    "collapsed": false,
    "pycharm": {
     "name": "#%%\n"
    }
   }
  },
  {
   "cell_type": "code",
   "execution_count": 6,
   "outputs": [
    {
     "name": "stdout",
     "output_type": "stream",
     "text": [
      "Index(['id', 'conversation_id', 'created_at', 'date', 'timezone', 'place',\n",
      "       'tweet', 'language', 'hashtags', 'cashtags', 'user_id', 'user_id_str',\n",
      "       'username', 'name', 'day', 'hour', 'link', 'urls', 'photos', 'video',\n",
      "       'thumbnail', 'retweet', 'nlikes', 'nreplies', 'nretweets', 'quote_url',\n",
      "       'search', 'near', 'geo', 'source', 'user_rt_id', 'user_rt',\n",
      "       'retweet_id', 'reply_to', 'retweet_date', 'translate', 'trans_src',\n",
      "       'trans_dest'],\n",
      "      dtype='object')\n",
      "Index(['id', 'conversation_id', 'created_at', 'date', 'time', 'timezone',\n",
      "       'user_id', 'username', 'name', 'place', 'tweet', 'language', 'mentions',\n",
      "       'urls', 'photos', 'replies_count', 'retweets_count', 'nlikes',\n",
      "       'hashtags', 'cashtags', 'link', 'retweet', 'quote_url', 'video',\n",
      "       'thumbnail', 'near', 'geo', 'source', 'user_rt_id', 'user_rt',\n",
      "       'retweet_id', 'reply_to', 'retweet_date', 'translate', 'trans_src',\n",
      "       'trans_dest'],\n",
      "      dtype='object')\n",
      "Index(['id', 'conversation_id', 'created_at', 'date', 'time', 'timezone',\n",
      "       'user_id', 'username', 'name', 'place', 'tweet', 'language', 'mentions',\n",
      "       'urls', 'photos', 'replies_count', 'retweets_count', 'nlikes',\n",
      "       'hashtags', 'cashtags', 'link', 'retweet', 'quote_url', 'video',\n",
      "       'thumbnail', 'near', 'geo', 'source', 'user_rt_id', 'user_rt',\n",
      "       'retweet_id', 'reply_to', 'retweet_date', 'translate', 'trans_src',\n",
      "       'trans_dest'],\n",
      "      dtype='object')\n"
     ]
    }
   ],
   "source": [
    "for year in tweets_from_years:\n",
    "    if year == '2022' or year == '2021' or year == '2020':\n",
    "        tweets_from_years[year].rename(columns={'likes_count':'nlikes'}, inplace=True)\n",
    "        print(tweets_from_years[year].columns)"
   ],
   "metadata": {
    "collapsed": false,
    "pycharm": {
     "name": "#%%\n"
    }
   }
  },
  {
   "cell_type": "code",
   "execution_count": 7,
   "outputs": [
    {
     "data": {
      "text/plain": "                       id      conversation_id  \\\n0     1476662222617251846  1476620230692679680   \n1     1476656306610216960  1476644467578859528   \n2     1476651519986614281  1476252898115964928   \n3     1476619907076923398  1476252898115964928   \n4     1476618021024190474  1476252898115964928   \n...                   ...                  ...   \n3110  1345384139969552389  1345382294966571008   \n3111  1345382294966571008  1345382294966571008   \n3112  1345344958710992897  1345334831719337984   \n3113  1345208391958888448  1344675033231237120   \n3114  1344810193952014336  1344518758707113986   \n\n                                     created_at        date      time  \\\n0     2021-12-31 01:11:23 Arabian Standard Time  2021-12-31  01:11:23   \n1     2021-12-31 00:47:53 Arabian Standard Time  2021-12-31  00:47:53   \n2     2021-12-31 00:28:51 Arabian Standard Time  2021-12-31  00:28:51   \n3     2021-12-30 22:23:14 Arabian Standard Time  2021-12-30  22:23:14   \n4     2021-12-30 22:15:45 Arabian Standard Time  2021-12-30  22:15:45   \n...                                         ...         ...       ...   \n3110  2021-01-02 18:59:09 Arabian Standard Time  2021-01-02  18:59:09   \n3111  2021-01-02 18:51:49 Arabian Standard Time  2021-01-02  18:51:49   \n3112  2021-01-02 16:23:28 Arabian Standard Time  2021-01-02  16:23:28   \n3113  2021-01-02 07:20:48 Arabian Standard Time  2021-01-02  07:20:48   \n3114  2021-01-01 04:58:30 Arabian Standard Time  2021-01-01  04:58:30   \n\n      timezone   user_id  username       name  place  ... geo source  \\\n0          400  44196397  elonmusk  Elon Musk    NaN  ... NaN    NaN   \n1          400  44196397  elonmusk  Elon Musk    NaN  ... NaN    NaN   \n2          400  44196397  elonmusk  Elon Musk    NaN  ... NaN    NaN   \n3          400  44196397  elonmusk  Elon Musk    NaN  ... NaN    NaN   \n4          400  44196397  elonmusk  Elon Musk    NaN  ... NaN    NaN   \n...        ...       ...       ...        ...    ...  ...  ..    ...   \n3110       400  44196397  elonmusk  Elon Musk    NaN  ... NaN    NaN   \n3111       400  44196397  elonmusk  Elon Musk    NaN  ... NaN    NaN   \n3112       400  44196397  elonmusk  Elon Musk    NaN  ... NaN    NaN   \n3113       400  44196397  elonmusk  Elon Musk    NaN  ... NaN    NaN   \n3114       400  44196397  elonmusk  Elon Musk    NaN  ... NaN    NaN   \n\n     user_rt_id user_rt retweet_id  \\\n0           NaN     NaN        NaN   \n1           NaN     NaN        NaN   \n2           NaN     NaN        NaN   \n3           NaN     NaN        NaN   \n4           NaN     NaN        NaN   \n...         ...     ...        ...   \n3110        NaN     NaN        NaN   \n3111        NaN     NaN        NaN   \n3112        NaN     NaN        NaN   \n3113        NaN     NaN        NaN   \n3114        NaN     NaN        NaN   \n\n                                               reply_to  retweet_date  \\\n0     [{'screen_name': 'roshanpateI', 'name': 'Rosha...           NaN   \n1     [{'screen_name': 'tesla_raj', 'name': 'Tesla R...           NaN   \n2     [{'screen_name': 'CSmithson80', 'name': 'Chris...           NaN   \n3     [{'screen_name': 'BLKMDL3', 'name': 'Zack', 'i...           NaN   \n4     [{'screen_name': 'mims', 'name': 'Christopher ...           NaN   \n...                                                 ...           ...   \n3110  [{'screen_name': 'flcnhvy', 'name': 'Viv ✶', '...           NaN   \n3111                                                 []           NaN   \n3112  [{'screen_name': 'newscientist', 'name': 'New ...           NaN   \n3113  [{'screen_name': 'comma_ai', 'name': 'comma', ...           NaN   \n3114  [{'screen_name': 'PPathole', 'name': 'Pranay P...           NaN   \n\n      translate trans_src trans_dest  \n0           NaN       NaN        NaN  \n1           NaN       NaN        NaN  \n2           NaN       NaN        NaN  \n3           NaN       NaN        NaN  \n4           NaN       NaN        NaN  \n...         ...       ...        ...  \n3110        NaN       NaN        NaN  \n3111        NaN       NaN        NaN  \n3112        NaN       NaN        NaN  \n3113        NaN       NaN        NaN  \n3114        NaN       NaN        NaN  \n\n[3115 rows x 36 columns]",
      "text/html": "<div>\n<style scoped>\n    .dataframe tbody tr th:only-of-type {\n        vertical-align: middle;\n    }\n\n    .dataframe tbody tr th {\n        vertical-align: top;\n    }\n\n    .dataframe thead th {\n        text-align: right;\n    }\n</style>\n<table border=\"1\" class=\"dataframe\">\n  <thead>\n    <tr style=\"text-align: right;\">\n      <th></th>\n      <th>id</th>\n      <th>conversation_id</th>\n      <th>created_at</th>\n      <th>date</th>\n      <th>time</th>\n      <th>timezone</th>\n      <th>user_id</th>\n      <th>username</th>\n      <th>name</th>\n      <th>place</th>\n      <th>...</th>\n      <th>geo</th>\n      <th>source</th>\n      <th>user_rt_id</th>\n      <th>user_rt</th>\n      <th>retweet_id</th>\n      <th>reply_to</th>\n      <th>retweet_date</th>\n      <th>translate</th>\n      <th>trans_src</th>\n      <th>trans_dest</th>\n    </tr>\n  </thead>\n  <tbody>\n    <tr>\n      <th>0</th>\n      <td>1476662222617251846</td>\n      <td>1476620230692679680</td>\n      <td>2021-12-31 01:11:23 Arabian Standard Time</td>\n      <td>2021-12-31</td>\n      <td>01:11:23</td>\n      <td>400</td>\n      <td>44196397</td>\n      <td>elonmusk</td>\n      <td>Elon Musk</td>\n      <td>NaN</td>\n      <td>...</td>\n      <td>NaN</td>\n      <td>NaN</td>\n      <td>NaN</td>\n      <td>NaN</td>\n      <td>NaN</td>\n      <td>[{'screen_name': 'roshanpateI', 'name': 'Rosha...</td>\n      <td>NaN</td>\n      <td>NaN</td>\n      <td>NaN</td>\n      <td>NaN</td>\n    </tr>\n    <tr>\n      <th>1</th>\n      <td>1476656306610216960</td>\n      <td>1476644467578859528</td>\n      <td>2021-12-31 00:47:53 Arabian Standard Time</td>\n      <td>2021-12-31</td>\n      <td>00:47:53</td>\n      <td>400</td>\n      <td>44196397</td>\n      <td>elonmusk</td>\n      <td>Elon Musk</td>\n      <td>NaN</td>\n      <td>...</td>\n      <td>NaN</td>\n      <td>NaN</td>\n      <td>NaN</td>\n      <td>NaN</td>\n      <td>NaN</td>\n      <td>[{'screen_name': 'tesla_raj', 'name': 'Tesla R...</td>\n      <td>NaN</td>\n      <td>NaN</td>\n      <td>NaN</td>\n      <td>NaN</td>\n    </tr>\n    <tr>\n      <th>2</th>\n      <td>1476651519986614281</td>\n      <td>1476252898115964928</td>\n      <td>2021-12-31 00:28:51 Arabian Standard Time</td>\n      <td>2021-12-31</td>\n      <td>00:28:51</td>\n      <td>400</td>\n      <td>44196397</td>\n      <td>elonmusk</td>\n      <td>Elon Musk</td>\n      <td>NaN</td>\n      <td>...</td>\n      <td>NaN</td>\n      <td>NaN</td>\n      <td>NaN</td>\n      <td>NaN</td>\n      <td>NaN</td>\n      <td>[{'screen_name': 'CSmithson80', 'name': 'Chris...</td>\n      <td>NaN</td>\n      <td>NaN</td>\n      <td>NaN</td>\n      <td>NaN</td>\n    </tr>\n    <tr>\n      <th>3</th>\n      <td>1476619907076923398</td>\n      <td>1476252898115964928</td>\n      <td>2021-12-30 22:23:14 Arabian Standard Time</td>\n      <td>2021-12-30</td>\n      <td>22:23:14</td>\n      <td>400</td>\n      <td>44196397</td>\n      <td>elonmusk</td>\n      <td>Elon Musk</td>\n      <td>NaN</td>\n      <td>...</td>\n      <td>NaN</td>\n      <td>NaN</td>\n      <td>NaN</td>\n      <td>NaN</td>\n      <td>NaN</td>\n      <td>[{'screen_name': 'BLKMDL3', 'name': 'Zack', 'i...</td>\n      <td>NaN</td>\n      <td>NaN</td>\n      <td>NaN</td>\n      <td>NaN</td>\n    </tr>\n    <tr>\n      <th>4</th>\n      <td>1476618021024190474</td>\n      <td>1476252898115964928</td>\n      <td>2021-12-30 22:15:45 Arabian Standard Time</td>\n      <td>2021-12-30</td>\n      <td>22:15:45</td>\n      <td>400</td>\n      <td>44196397</td>\n      <td>elonmusk</td>\n      <td>Elon Musk</td>\n      <td>NaN</td>\n      <td>...</td>\n      <td>NaN</td>\n      <td>NaN</td>\n      <td>NaN</td>\n      <td>NaN</td>\n      <td>NaN</td>\n      <td>[{'screen_name': 'mims', 'name': 'Christopher ...</td>\n      <td>NaN</td>\n      <td>NaN</td>\n      <td>NaN</td>\n      <td>NaN</td>\n    </tr>\n    <tr>\n      <th>...</th>\n      <td>...</td>\n      <td>...</td>\n      <td>...</td>\n      <td>...</td>\n      <td>...</td>\n      <td>...</td>\n      <td>...</td>\n      <td>...</td>\n      <td>...</td>\n      <td>...</td>\n      <td>...</td>\n      <td>...</td>\n      <td>...</td>\n      <td>...</td>\n      <td>...</td>\n      <td>...</td>\n      <td>...</td>\n      <td>...</td>\n      <td>...</td>\n      <td>...</td>\n      <td>...</td>\n    </tr>\n    <tr>\n      <th>3110</th>\n      <td>1345384139969552389</td>\n      <td>1345382294966571008</td>\n      <td>2021-01-02 18:59:09 Arabian Standard Time</td>\n      <td>2021-01-02</td>\n      <td>18:59:09</td>\n      <td>400</td>\n      <td>44196397</td>\n      <td>elonmusk</td>\n      <td>Elon Musk</td>\n      <td>NaN</td>\n      <td>...</td>\n      <td>NaN</td>\n      <td>NaN</td>\n      <td>NaN</td>\n      <td>NaN</td>\n      <td>NaN</td>\n      <td>[{'screen_name': 'flcnhvy', 'name': 'Viv ✶', '...</td>\n      <td>NaN</td>\n      <td>NaN</td>\n      <td>NaN</td>\n      <td>NaN</td>\n    </tr>\n    <tr>\n      <th>3111</th>\n      <td>1345382294966571008</td>\n      <td>1345382294966571008</td>\n      <td>2021-01-02 18:51:49 Arabian Standard Time</td>\n      <td>2021-01-02</td>\n      <td>18:51:49</td>\n      <td>400</td>\n      <td>44196397</td>\n      <td>elonmusk</td>\n      <td>Elon Musk</td>\n      <td>NaN</td>\n      <td>...</td>\n      <td>NaN</td>\n      <td>NaN</td>\n      <td>NaN</td>\n      <td>NaN</td>\n      <td>NaN</td>\n      <td>[]</td>\n      <td>NaN</td>\n      <td>NaN</td>\n      <td>NaN</td>\n      <td>NaN</td>\n    </tr>\n    <tr>\n      <th>3112</th>\n      <td>1345344958710992897</td>\n      <td>1345334831719337984</td>\n      <td>2021-01-02 16:23:28 Arabian Standard Time</td>\n      <td>2021-01-02</td>\n      <td>16:23:28</td>\n      <td>400</td>\n      <td>44196397</td>\n      <td>elonmusk</td>\n      <td>Elon Musk</td>\n      <td>NaN</td>\n      <td>...</td>\n      <td>NaN</td>\n      <td>NaN</td>\n      <td>NaN</td>\n      <td>NaN</td>\n      <td>NaN</td>\n      <td>[{'screen_name': 'newscientist', 'name': 'New ...</td>\n      <td>NaN</td>\n      <td>NaN</td>\n      <td>NaN</td>\n      <td>NaN</td>\n    </tr>\n    <tr>\n      <th>3113</th>\n      <td>1345208391958888448</td>\n      <td>1344675033231237120</td>\n      <td>2021-01-02 07:20:48 Arabian Standard Time</td>\n      <td>2021-01-02</td>\n      <td>07:20:48</td>\n      <td>400</td>\n      <td>44196397</td>\n      <td>elonmusk</td>\n      <td>Elon Musk</td>\n      <td>NaN</td>\n      <td>...</td>\n      <td>NaN</td>\n      <td>NaN</td>\n      <td>NaN</td>\n      <td>NaN</td>\n      <td>NaN</td>\n      <td>[{'screen_name': 'comma_ai', 'name': 'comma', ...</td>\n      <td>NaN</td>\n      <td>NaN</td>\n      <td>NaN</td>\n      <td>NaN</td>\n    </tr>\n    <tr>\n      <th>3114</th>\n      <td>1344810193952014336</td>\n      <td>1344518758707113986</td>\n      <td>2021-01-01 04:58:30 Arabian Standard Time</td>\n      <td>2021-01-01</td>\n      <td>04:58:30</td>\n      <td>400</td>\n      <td>44196397</td>\n      <td>elonmusk</td>\n      <td>Elon Musk</td>\n      <td>NaN</td>\n      <td>...</td>\n      <td>NaN</td>\n      <td>NaN</td>\n      <td>NaN</td>\n      <td>NaN</td>\n      <td>NaN</td>\n      <td>[{'screen_name': 'PPathole', 'name': 'Pranay P...</td>\n      <td>NaN</td>\n      <td>NaN</td>\n      <td>NaN</td>\n      <td>NaN</td>\n    </tr>\n  </tbody>\n</table>\n<p>3115 rows × 36 columns</p>\n</div>"
     },
     "execution_count": 7,
     "metadata": {},
     "output_type": "execute_result"
    }
   ],
   "source": [
    "tweets_from_years['2021']"
   ],
   "metadata": {
    "collapsed": false,
    "pycharm": {
     "name": "#%%\n"
    }
   }
  },
  {
   "cell_type": "code",
   "execution_count": 8,
   "outputs": [
    {
     "name": "stdout",
     "output_type": "stream",
     "text": [
      "2020\n",
      "2021\n",
      "2022\n",
      "2019\n",
      "2018\n",
      "2015\n",
      "2014\n",
      "2016\n",
      "2017\n",
      "2013\n",
      "2012\n",
      "2010\n",
      "2011\n"
     ]
    }
   ],
   "source": [
    "for year in tweets_from_years:\n",
    "    print(year)\n",
    "    tweets_from_years[year] = tweets_from_years[year][['nlikes','date', 'link','photos','reply_to','retweet','source','tweet','video']]\n"
   ],
   "metadata": {
    "collapsed": false,
    "pycharm": {
     "name": "#%%\n"
    }
   }
  },
  {
   "cell_type": "code",
   "execution_count": 9,
   "outputs": [],
   "source": [
    "tweets_from_all_years = pd.concat([tweets_from_years[year] for year in tweets_from_years.keys()])\n",
    "tweets_from_all_years = tweets_from_all_years.reset_index()"
   ],
   "metadata": {
    "collapsed": false,
    "pycharm": {
     "name": "#%%\n"
    }
   }
  },
  {
   "cell_type": "code",
   "execution_count": 16,
   "outputs": [],
   "source": [
    "tweets_from_all_years = tweets_from_all_years[(tweets_from_all_years['reply_to']=='[]') & (tweets_from_all_years['retweet']==False)]"
   ],
   "metadata": {
    "collapsed": false,
    "pycharm": {
     "name": "#%%\n"
    }
   }
  },
  {
   "cell_type": "code",
   "execution_count": 17,
   "outputs": [
    {
     "data": {
      "text/plain": "       index  nlikes                 date  \\\n0          0   55085  2020-12-28 19:46:18   \n3          3   33830  2020-12-28 17:23:31   \n6          6  148037  2020-12-27 22:18:58   \n34        34  187368  2020-12-25 20:54:29   \n35        35  236833  2020-12-25 16:47:04   \n...      ...     ...                  ...   \n34873     22      53  2011-12-03 08:22:07   \n34874     23      29  2011-12-03 08:20:28   \n34875     24      78  2011-12-01 10:29:04   \n34876     25     189  2011-12-01 09:55:11   \n34877     26    4652  2010-06-04 18:31:57   \n\n                                                    link  \\\n0      https://twitter.com/elonmusk/status/1343644462...   \n3      https://twitter.com/elonmusk/status/1343608530...   \n6      https://twitter.com/elonmusk/status/1343320495...   \n34     https://twitter.com/elonmusk/status/1342574459...   \n35     https://twitter.com/elonmusk/status/1342512194...   \n...                                                  ...   \n34873  https://twitter.com/elonmusk/status/1428812840...   \n34874  https://twitter.com/elonmusk/status/1428808713...   \n34875  https://twitter.com/elonmusk/status/1421884581...   \n34876  https://twitter.com/elonmusk/status/1421799282...   \n34877    https://twitter.com/elonmusk/status/15434727182   \n\n                                                  photos reply_to  retweet  \\\n0                                                     []       []    False   \n3                                                     []       []    False   \n6                                                     []       []    False   \n34                                                    []       []    False   \n35     ['https://pbs.twimg.com/media/EqGPuYCUwAIb7_U....       []    False   \n...                                                  ...      ...      ...   \n34873                                                 []       []    False   \n34874                                                 []       []    False   \n34875                                                 []       []    False   \n34876  ['https://pbs.twimg.com/media/Afkf5DMCAAEJGFr....       []    False   \n34877                                                 []       []    False   \n\n       source                                              tweet  video  \n0         NaN  Entertainment will be critical when cars drive...      0  \n3         NaN  What should Tesla do with in-car gaming in an ...      0  \n6         NaN  Try playing Polytopia in your Tesla! Great gam...      0  \n34        NaN  Change your horn sound to 🐐, 🐍🎷, 💨 or holiday ...      0  \n35        NaN  Merry Christmas &amp; happy holidays! 🎁  https...      1  \n...       ...                                                ...    ...  \n34873     NaN                  That was a total non sequitur btw      0  \n34874     NaN  Great Voltaire quote, arguably better than Twa...      0  \n34875     NaN  I made the volume on the Model S  http://t.co/...      0  \n34876     NaN  Went to Iceland on Sat to ride bumper cars on ...      1  \n34877     NaN  Please ignore prior tweets, as that was someon...      0  \n\n[16413 rows x 10 columns]",
      "text/html": "<div>\n<style scoped>\n    .dataframe tbody tr th:only-of-type {\n        vertical-align: middle;\n    }\n\n    .dataframe tbody tr th {\n        vertical-align: top;\n    }\n\n    .dataframe thead th {\n        text-align: right;\n    }\n</style>\n<table border=\"1\" class=\"dataframe\">\n  <thead>\n    <tr style=\"text-align: right;\">\n      <th></th>\n      <th>index</th>\n      <th>nlikes</th>\n      <th>date</th>\n      <th>link</th>\n      <th>photos</th>\n      <th>reply_to</th>\n      <th>retweet</th>\n      <th>source</th>\n      <th>tweet</th>\n      <th>video</th>\n    </tr>\n  </thead>\n  <tbody>\n    <tr>\n      <th>0</th>\n      <td>0</td>\n      <td>55085</td>\n      <td>2020-12-28 19:46:18</td>\n      <td>https://twitter.com/elonmusk/status/1343644462...</td>\n      <td>[]</td>\n      <td>[]</td>\n      <td>False</td>\n      <td>NaN</td>\n      <td>Entertainment will be critical when cars drive...</td>\n      <td>0</td>\n    </tr>\n    <tr>\n      <th>3</th>\n      <td>3</td>\n      <td>33830</td>\n      <td>2020-12-28 17:23:31</td>\n      <td>https://twitter.com/elonmusk/status/1343608530...</td>\n      <td>[]</td>\n      <td>[]</td>\n      <td>False</td>\n      <td>NaN</td>\n      <td>What should Tesla do with in-car gaming in an ...</td>\n      <td>0</td>\n    </tr>\n    <tr>\n      <th>6</th>\n      <td>6</td>\n      <td>148037</td>\n      <td>2020-12-27 22:18:58</td>\n      <td>https://twitter.com/elonmusk/status/1343320495...</td>\n      <td>[]</td>\n      <td>[]</td>\n      <td>False</td>\n      <td>NaN</td>\n      <td>Try playing Polytopia in your Tesla! Great gam...</td>\n      <td>0</td>\n    </tr>\n    <tr>\n      <th>34</th>\n      <td>34</td>\n      <td>187368</td>\n      <td>2020-12-25 20:54:29</td>\n      <td>https://twitter.com/elonmusk/status/1342574459...</td>\n      <td>[]</td>\n      <td>[]</td>\n      <td>False</td>\n      <td>NaN</td>\n      <td>Change your horn sound to 🐐, 🐍🎷, 💨 or holiday ...</td>\n      <td>0</td>\n    </tr>\n    <tr>\n      <th>35</th>\n      <td>35</td>\n      <td>236833</td>\n      <td>2020-12-25 16:47:04</td>\n      <td>https://twitter.com/elonmusk/status/1342512194...</td>\n      <td>['https://pbs.twimg.com/media/EqGPuYCUwAIb7_U....</td>\n      <td>[]</td>\n      <td>False</td>\n      <td>NaN</td>\n      <td>Merry Christmas &amp;amp; happy holidays! 🎁  https...</td>\n      <td>1</td>\n    </tr>\n    <tr>\n      <th>...</th>\n      <td>...</td>\n      <td>...</td>\n      <td>...</td>\n      <td>...</td>\n      <td>...</td>\n      <td>...</td>\n      <td>...</td>\n      <td>...</td>\n      <td>...</td>\n      <td>...</td>\n    </tr>\n    <tr>\n      <th>34873</th>\n      <td>22</td>\n      <td>53</td>\n      <td>2011-12-03 08:22:07</td>\n      <td>https://twitter.com/elonmusk/status/1428812840...</td>\n      <td>[]</td>\n      <td>[]</td>\n      <td>False</td>\n      <td>NaN</td>\n      <td>That was a total non sequitur btw</td>\n      <td>0</td>\n    </tr>\n    <tr>\n      <th>34874</th>\n      <td>23</td>\n      <td>29</td>\n      <td>2011-12-03 08:20:28</td>\n      <td>https://twitter.com/elonmusk/status/1428808713...</td>\n      <td>[]</td>\n      <td>[]</td>\n      <td>False</td>\n      <td>NaN</td>\n      <td>Great Voltaire quote, arguably better than Twa...</td>\n      <td>0</td>\n    </tr>\n    <tr>\n      <th>34875</th>\n      <td>24</td>\n      <td>78</td>\n      <td>2011-12-01 10:29:04</td>\n      <td>https://twitter.com/elonmusk/status/1421884581...</td>\n      <td>[]</td>\n      <td>[]</td>\n      <td>False</td>\n      <td>NaN</td>\n      <td>I made the volume on the Model S  http://t.co/...</td>\n      <td>0</td>\n    </tr>\n    <tr>\n      <th>34876</th>\n      <td>25</td>\n      <td>189</td>\n      <td>2011-12-01 09:55:11</td>\n      <td>https://twitter.com/elonmusk/status/1421799282...</td>\n      <td>['https://pbs.twimg.com/media/Afkf5DMCAAEJGFr....</td>\n      <td>[]</td>\n      <td>False</td>\n      <td>NaN</td>\n      <td>Went to Iceland on Sat to ride bumper cars on ...</td>\n      <td>1</td>\n    </tr>\n    <tr>\n      <th>34877</th>\n      <td>26</td>\n      <td>4652</td>\n      <td>2010-06-04 18:31:57</td>\n      <td>https://twitter.com/elonmusk/status/15434727182</td>\n      <td>[]</td>\n      <td>[]</td>\n      <td>False</td>\n      <td>NaN</td>\n      <td>Please ignore prior tweets, as that was someon...</td>\n      <td>0</td>\n    </tr>\n  </tbody>\n</table>\n<p>16413 rows × 10 columns</p>\n</div>"
     },
     "execution_count": 17,
     "metadata": {},
     "output_type": "execute_result"
    }
   ],
   "source": [
    "tweets_from_all_years"
   ],
   "metadata": {
    "collapsed": false,
    "pycharm": {
     "name": "#%%\n"
    }
   }
  },
  {
   "cell_type": "code",
   "execution_count": 15,
   "outputs": [
    {
     "name": "stderr",
     "output_type": "stream",
     "text": [
      "2022-05-16 22:49:32.863386: I tensorflow/core/platform/cpu_feature_guard.cc:151] This TensorFlow binary is optimized with oneAPI Deep Neural Network Library (oneDNN) to use the following CPU instructions in performance-critical operations:  AVX2 FMA\n",
      "To enable them in other operations, rebuild TensorFlow with the appropriate compiler flags.\n"
     ]
    }
   ],
   "source": [
    "from transformers import pipeline\n",
    "gen = pipeline('text-generation', model='gpt2')"
   ],
   "metadata": {
    "collapsed": false,
    "pycharm": {
     "name": "#%%\n"
    }
   }
  },
  {
   "cell_type": "code",
   "execution_count": 12,
   "outputs": [
    {
     "data": {
      "text/plain": "Downloading:   0%|          | 0.00/523M [00:00<?, ?B/s]",
      "application/vnd.jupyter.widget-view+json": {
       "version_major": 2,
       "version_minor": 0,
       "model_id": "cfcaebb9597542e39318ac07f9342dca"
      }
     },
     "metadata": {},
     "output_type": "display_data"
    }
   ],
   "source": [
    "from transformers import AutoTokenizer, AutoModelForCausalLM\n",
    "\n",
    "tokenizer = AutoTokenizer.from_pretrained(\"gpt2\")\n",
    "\n",
    "model = AutoModelForCausalLM.from_pretrained(\"gpt2\")"
   ],
   "metadata": {
    "collapsed": false,
    "pycharm": {
     "name": "#%%\n"
    }
   }
  },
  {
   "cell_type": "code",
   "execution_count": 18,
   "outputs": [],
   "source": [
    "some_tweets = tweets_from_all_years.sample(n=10, random_state=30)\n",
    "some_tokens = []\n",
    "for i in some_tweets['tweet']:\n",
    "    some_tokens.append(' '.join(i.split(' ')[:5]))"
   ],
   "metadata": {
    "collapsed": false,
    "pycharm": {
     "name": "#%%\n"
    }
   }
  },
  {
   "cell_type": "code",
   "execution_count": 19,
   "outputs": [
    {
     "data": {
      "text/plain": "['3 mins to liftoff',\n \"Congratulations to @OrbitalSciences! “@CNETNews: Orbital's\",\n 'Noodles in Shinjuku  http://t.co/MWztTqByuA',\n 'Starlink has been told by',\n 'Drone spaceport ship heads to',\n 'Excited about the Tesla Autopilot',\n 'Rocket engines are healthy, but',\n 'Preparing to launch a Thaicom',\n \"Can't make this stuff up:\",\n 'First will rewatch Godfather Part']"
     },
     "execution_count": 19,
     "metadata": {},
     "output_type": "execute_result"
    }
   ],
   "source": [
    "some_tokens"
   ],
   "metadata": {
    "collapsed": false,
    "pycharm": {
     "name": "#%%\n"
    }
   }
  },
  {
   "cell_type": "code",
   "execution_count": 21,
   "outputs": [
    {
     "name": "stderr",
     "output_type": "stream",
     "text": [
      "Setting `pad_token_id` to `eos_token_id`:50256 for open-end generation.\n",
      "Setting `pad_token_id` to `eos_token_id`:50256 for open-end generation.\n"
     ]
    },
    {
     "name": "stdout",
     "output_type": "stream",
     "text": [
      "[{'generated_text': '3 mins to liftoff\\n\\n5 min to burn 5 min to burn 5 min to burn\\n\\n1 hr to burn 1 hr to burn 1 hr to burn\\n\\n1 hr and 10 sec to burn 1 hr and 10 sec to burn'}]\n"
     ]
    },
    {
     "name": "stderr",
     "output_type": "stream",
     "text": [
      "Setting `pad_token_id` to `eos_token_id`:50256 for open-end generation.\n"
     ]
    },
    {
     "name": "stdout",
     "output_type": "stream",
     "text": [
      "[{'generated_text': 'Congratulations to @OrbitalSciences! “@CNETNews: Orbital\\'s research team had a blast! Their results are important.\"\\n\\nThe team demonstrated three key stages of the process of liquid-cooling that can help a'}]\n"
     ]
    },
    {
     "name": "stderr",
     "output_type": "stream",
     "text": [
      "Setting `pad_token_id` to `eos_token_id`:50256 for open-end generation.\n"
     ]
    },
    {
     "name": "stdout",
     "output_type": "stream",
     "text": [
      "[{'generated_text': 'Noodles in Shinjuku  http://t.co/MWztTqByuA — R.T.O.\\n\\n\"I had to go after some kind of drug addict,\" says \"Jinny\", an'}]\n"
     ]
    },
    {
     "name": "stderr",
     "output_type": "stream",
     "text": [
      "Setting `pad_token_id` to `eos_token_id`:50256 for open-end generation.\n"
     ]
    },
    {
     "name": "stdout",
     "output_type": "stream",
     "text": [
      "[{'generated_text': 'Starlink has been told by a leading political scientist who supports Corbyn\\'s candidacy that Corbyn \"remains the only candidate who has got in the way of doing business in this country and is the clear winner of the general election.\" [12]\\n'}]\n"
     ]
    },
    {
     "name": "stderr",
     "output_type": "stream",
     "text": [
      "Setting `pad_token_id` to `eos_token_id`:50256 for open-end generation.\n"
     ]
    },
    {
     "name": "stdout",
     "output_type": "stream",
     "text": [
      "[{'generated_text': \"Drone spaceport ship heads to safety in the ocean to rescue a survivor from a sunken vessel, along with several other survivors of Hurricane Florence.\\n\\nThey work by dropping small pieces of the ship's hull and pushing them up a ramp into\"}]\n"
     ]
    },
    {
     "name": "stderr",
     "output_type": "stream",
     "text": [
      "Setting `pad_token_id` to `eos_token_id`:50256 for open-end generation.\n"
     ]
    },
    {
     "name": "stdout",
     "output_type": "stream",
     "text": [
      "[{'generated_text': 'Excited about the Tesla Autopilot upgrade, I was excited to try it out and the experience was pretty interesting. When I installed it, I only received a message from my battery. The Autopilot was an amazing system that took the place'}]\n"
     ]
    },
    {
     "name": "stderr",
     "output_type": "stream",
     "text": [
      "Setting `pad_token_id` to `eos_token_id`:50256 for open-end generation.\n"
     ]
    },
    {
     "name": "stdout",
     "output_type": "stream",
     "text": [
      "[{'generated_text': \"Rocket engines are healthy, but the main problem is that they are extremely brittle. They tend to rust and tear up in the hottest moment. That's why they're used for testing purposes, and to determine whether an engine can withstand a full range of\"}]\n"
     ]
    },
    {
     "name": "stderr",
     "output_type": "stream",
     "text": [
      "Setting `pad_token_id` to `eos_token_id`:50256 for open-end generation.\n"
     ]
    },
    {
     "name": "stdout",
     "output_type": "stream",
     "text": [
      "[{'generated_text': 'Preparing to launch a Thaicom T300 drone requires us to spend more time with our pilots, rather than sitting through three hours of actual video, than spending time with the drone itself.\\n\\nOur ability to communicate with our pilots on the'}]\n"
     ]
    },
    {
     "name": "stderr",
     "output_type": "stream",
     "text": [
      "Setting `pad_token_id` to `eos_token_id`:50256 for open-end generation.\n"
     ]
    },
    {
     "name": "stdout",
     "output_type": "stream",
     "text": [
      "[{'generated_text': \"Can't make this stuff up: That's what I said at this blog. But I do believe that by this time after you have done all this stuff that you'll be able to move on and continue to work on that. And I'm happy\"}]\n",
      "[{'generated_text': \"First will rewatch Godfather Part II - the first time I'm aware of having watched a movie so full of emotional emotion. Yes - it's such a wonderful thing that I have to watch more movies like the one the film made, not only\"}]\n"
     ]
    }
   ],
   "source": [
    "for token in some_tokens:\n",
    "    print(gen(token, max_length=50, num_return_sequences=1))"
   ],
   "metadata": {
    "collapsed": false,
    "pycharm": {
     "name": "#%%\n"
    }
   }
  },
  {
   "cell_type": "code",
   "execution_count": null,
   "outputs": [],
   "source": [],
   "metadata": {
    "collapsed": false,
    "pycharm": {
     "name": "#%%\n"
    }
   }
  }
 ],
 "metadata": {
  "kernelspec": {
   "display_name": "Python 3",
   "language": "python",
   "name": "python3"
  },
  "language_info": {
   "codemirror_mode": {
    "name": "ipython",
    "version": 2
   },
   "file_extension": ".py",
   "mimetype": "text/x-python",
   "name": "python",
   "nbconvert_exporter": "python",
   "pygments_lexer": "ipython2",
   "version": "2.7.6"
  }
 },
 "nbformat": 4,
 "nbformat_minor": 0
}