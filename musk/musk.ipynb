{
 "cells": [
  {
   "cell_type": "markdown",
   "metadata": {
    "pycharm": {
     "name": "#%% md\n"
    }
   },
   "source": [
    "# Warum ist es wichtig Elon Musk Tweets zu generieren?\n",
    "Elon Musk ist seit 2020 der reichste Mann der Welt. Zusätzlich ist er eine der einflussreichsten Personen auf der Plattform und baut diesen Einfluss damit aus, dass der seit 2022 der größte Anteilseigner der Plattform ist. Bei den Theman Unternehmensanteile, Elon Musk und Twitter wird es auch abseits von Elon Musks persönlicher Finanzlage interessant. Musk ist bekannt dafür, in den letzten Jahren mit seinen Tweets Aktienkurse beeinflusst zu haben. Er hat beispielsweise 2018 getwittert, dass er Tesla bei einem Aktienpreis von $420 wieder zu einem privaten, nicht gehandelten, Unternehmen machen würde. Dadurch stieg der Preis für die Aktie in den folgenden Tagen signifikant an [Vgl. SEC 2018](https://www.sec.gov/news/press-release/2018-219)\n",
    "Wer finanzielle Interessen hat, könnte sich davon ausgehen damit beschäftigen, ein System zu entwickeln, das anhand von Elon Musks Meinung Aktien und Optionen kauft.\n",
    "Wer finanzielle Interessen hat, sollte sich aber vielleicht auch nicht mit Elon Musks Tweets beschäftigen und denken, dass er anhand dessen der nächste Warren Buffet wird, sondern arbeiten. Viel interessanter wäre es doch eigene Tweets zu generieren. Einen Wert für die Gesellschaft hat das nicht. Damit lässt sich dennoch eine interessante Beobachtung machen. Textinhalte bei Twitter sind auf 240 Zeichen begrenzt. Komplexe Zusammenhänge mit verschiedenen Aussagen in einzelnen Tweets sind dadurch nur begrenzt möglich. Die meisten Sprachmodelle haben auch genau damit ein Problem, lange zusammenhängende Texte zu generieren in denen verschiedene Aussagen koherent sind.\n",
    "Die Idee Tweets mit einem Sprachmodell zu generieren ist also eigentlich sehr naheliegend und dies auch nicht der erste Ansatz. Diese fokussieren sich aber alle auf Twitter im Allgemeinen und nicht spezifisch auf das Profil eines Nutzers oder eine Nutzerin. Das Interessante an einem einzelnen Profil, ist dass die Sprache und die Gedanken eines einzelnen Menschen nachgestellt werden und nicht einer ganzen Gruppe. Genau ein Mensch nicht wie alle Menschen auf Twitter spricht, soll das Model auch nicht lernen wie alle Menschen zu sprechen, sondern eben nur wie ein Mensch zu sprechen.\n",
    "### Elon Musks Twitter Profil\n",
    "![Elon Musks Twitter Profil](elonmusk_twitter.png)"
   ]
  },
  {
   "cell_type": "code",
   "execution_count": 1,
   "metadata": {
    "pycharm": {
     "name": "#%%\n"
    },
    "scrolled": true
   },
   "outputs": [
    {
     "name": "stderr",
     "output_type": "stream",
     "text": [
      "[nltk_data] Downloading package punkt to\n",
      "[nltk_data]     C:\\Users\\Ole\\AppData\\Roaming\\nltk_data...\n",
      "[nltk_data]   Package punkt is already up-to-date!\n",
      "[nltk_data] Downloading package stopwords to\n",
      "[nltk_data]     C:\\Users\\Ole\\AppData\\Roaming\\nltk_data...\n",
      "[nltk_data]   Package stopwords is already up-to-date!\n"
     ]
    },
    {
     "data": {
      "text/plain": [
       "True"
      ]
     },
     "execution_count": 1,
     "metadata": {},
     "output_type": "execute_result"
    }
   ],
   "source": [
    "import keras\n",
    "import keras_tuner.engine.hyperparameters\n",
    "import re\n",
    "\n",
    "import numpy as np\n",
    "import pandas as pd\n",
    "import tensorflow as tf\n",
    "from sklearn.model_selection import train_test_split\n",
    "import os\n",
    "import torch\n",
    "import datasets\n",
    "from transformers import DefaultDataCollator, pipeline, AutoTokenizer, AutoModelForCausalLM, TFGPT2LMHeadModel, AdamWeightDecay, TFAutoModelForCausalLM\n",
    "from rake_nltk import Rake\n",
    "import nltk\n",
    "from matplotlib import pyplot as plt\n",
    "nltk.download('punkt')\n",
    "nltk.download('stopwords')"
   ]
  },
  {
   "cell_type": "code",
   "execution_count": 2,
   "metadata": {
    "pycharm": {
     "name": "#%%\n"
    }
   },
   "outputs": [
    {
     "name": "stdout",
     "output_type": "stream",
     "text": [
      "[PhysicalDevice(name='/physical_device:GPU:0', device_type='GPU')]\n"
     ]
    },
    {
     "data": {
      "text/plain": [
       "'/device:GPU:0'"
      ]
     },
     "execution_count": 2,
     "metadata": {},
     "output_type": "execute_result"
    }
   ],
   "source": [
    "# Prüfen der Hardwarebeschleunigung\n",
    "tf.debugging.set_log_device_placement(True)\n",
    "\n",
    "gpus = tf.config.experimental.list_physical_devices('GPU')\n",
    "print(gpus)\n",
    "tf.test.gpu_device_name()\n",
    "#tf.config.experimental.set_virtual_device_configuration(gpus[0],[tf.config.experimental.VirtualDeviceConfiguration(memory_limit=1024)])"
   ]
  },
  {
   "cell_type": "markdown",
   "metadata": {},
   "source": [
    "## Daten vorbereiten"
   ]
  },
  {
   "cell_type": "markdown",
   "metadata": {
    "pycharm": {
     "name": "#%% md\n"
    }
   },
   "source": [
    "Zur Datenbeschaffung lässt sich theoretisch die API von Twitter nutzen, allerdings gibt es einen [Kaggle-Datensatz](https://www.kaggle.com/datasets/ayhmrba/elon-musk-tweets-2010-2021), in dem die Tweets der API bereits aufbereitet sind. Der Datensatz enthält zweets von 2010 bis 2022 in einzelnen Dateien. Alle dateien werden eingelesen und in einen DataFrame zusammengefasst."
   ]
  },
  {
   "cell_type": "code",
   "execution_count": 81,
   "metadata": {
    "pycharm": {
     "name": "#%%\n"
    }
   },
   "outputs": [],
   "source": [
    "tweets_from_years = {}"
   ]
  },
  {
   "cell_type": "code",
   "execution_count": 82,
   "metadata": {
    "pycharm": {
     "name": "#%%\n"
    }
   },
   "outputs": [],
   "source": [
    "for i in os.listdir('musktweets'):\n",
    "    year = i.rstrip('.csv')\n",
    "    if i == '2021.csv' or i == '2022.csv':\n",
    "        tweets_from_years[year] = pd.read_csv('musktweets/'+i)\n",
    "    else:\n",
    "        tweets_from_years[year] = pd.read_csv('musktweets/'+i, index_col='index')"
   ]
  },
  {
   "cell_type": "markdown",
   "metadata": {
    "pycharm": {
     "name": "#%% md\n"
    }
   },
   "source": [
    "Die Tabellen ab 2020 haben ein leicht verändertes Schema und müssen an die anderen angepasst werden. Außerdem werden nur bestimmte Felder zu weiteren Arbeit genutzt und die relativ häufigen Duplikate im Datensatz entfernt. Insgesamt sind das nur kosmetische Anpassungen, zur leichteren Arbeit mit dem Datensatz."
   ]
  },
  {
   "cell_type": "code",
   "execution_count": 83,
   "metadata": {
    "pycharm": {
     "name": "#%%\n"
    }
   },
   "outputs": [
    {
     "name": "stdout",
     "output_type": "stream",
     "text": [
      "Index(['id', 'conversation_id', 'created_at', 'date', 'timezone', 'place',\n",
      "       'tweet', 'language', 'hashtags', 'cashtags', 'user_id', 'user_id_str',\n",
      "       'username', 'name', 'day', 'hour', 'link', 'urls', 'photos', 'video',\n",
      "       'thumbnail', 'retweet', 'nlikes', 'nreplies', 'nretweets', 'quote_url',\n",
      "       'search', 'near', 'geo', 'source', 'user_rt_id', 'user_rt',\n",
      "       'retweet_id', 'reply_to', 'retweet_date', 'translate', 'trans_src',\n",
      "       'trans_dest'],\n",
      "      dtype='object')\n",
      "Index(['id', 'conversation_id', 'created_at', 'date', 'time', 'timezone',\n",
      "       'user_id', 'username', 'name', 'place', 'tweet', 'language', 'mentions',\n",
      "       'urls', 'photos', 'replies_count', 'retweets_count', 'nlikes',\n",
      "       'hashtags', 'cashtags', 'link', 'retweet', 'quote_url', 'video',\n",
      "       'thumbnail', 'near', 'geo', 'source', 'user_rt_id', 'user_rt',\n",
      "       'retweet_id', 'reply_to', 'retweet_date', 'translate', 'trans_src',\n",
      "       'trans_dest'],\n",
      "      dtype='object')\n",
      "Index(['id', 'conversation_id', 'created_at', 'date', 'time', 'timezone',\n",
      "       'user_id', 'username', 'name', 'place', 'tweet', 'language', 'mentions',\n",
      "       'urls', 'photos', 'replies_count', 'retweets_count', 'nlikes',\n",
      "       'hashtags', 'cashtags', 'link', 'retweet', 'quote_url', 'video',\n",
      "       'thumbnail', 'near', 'geo', 'source', 'user_rt_id', 'user_rt',\n",
      "       'retweet_id', 'reply_to', 'retweet_date', 'translate', 'trans_src',\n",
      "       'trans_dest'],\n",
      "      dtype='object')\n"
     ]
    }
   ],
   "source": [
    "for year in tweets_from_years:\n",
    "    if year == '2022' or year == '2021' or year == '2020':\n",
    "        tweets_from_years[year].rename(columns={'likes_count':'nlikes'}, inplace=True)\n",
    "        print(tweets_from_years[year].columns)"
   ]
  },
  {
   "cell_type": "code",
   "execution_count": 84,
   "metadata": {
    "pycharm": {
     "name": "#%%\n"
    }
   },
   "outputs": [
    {
     "data": {
      "text/html": [
       "<div>\n",
       "<style scoped>\n",
       "    .dataframe tbody tr th:only-of-type {\n",
       "        vertical-align: middle;\n",
       "    }\n",
       "\n",
       "    .dataframe tbody tr th {\n",
       "        vertical-align: top;\n",
       "    }\n",
       "\n",
       "    .dataframe thead th {\n",
       "        text-align: right;\n",
       "    }\n",
       "</style>\n",
       "<table border=\"1\" class=\"dataframe\">\n",
       "  <thead>\n",
       "    <tr style=\"text-align: right;\">\n",
       "      <th></th>\n",
       "      <th>id</th>\n",
       "      <th>conversation_id</th>\n",
       "      <th>created_at</th>\n",
       "      <th>date</th>\n",
       "      <th>time</th>\n",
       "      <th>timezone</th>\n",
       "      <th>user_id</th>\n",
       "      <th>username</th>\n",
       "      <th>name</th>\n",
       "      <th>place</th>\n",
       "      <th>...</th>\n",
       "      <th>geo</th>\n",
       "      <th>source</th>\n",
       "      <th>user_rt_id</th>\n",
       "      <th>user_rt</th>\n",
       "      <th>retweet_id</th>\n",
       "      <th>reply_to</th>\n",
       "      <th>retweet_date</th>\n",
       "      <th>translate</th>\n",
       "      <th>trans_src</th>\n",
       "      <th>trans_dest</th>\n",
       "    </tr>\n",
       "  </thead>\n",
       "  <tbody>\n",
       "    <tr>\n",
       "      <th>0</th>\n",
       "      <td>1476662222617251846</td>\n",
       "      <td>1476620230692679680</td>\n",
       "      <td>2021-12-31 01:11:23 Arabian Standard Time</td>\n",
       "      <td>2021-12-31</td>\n",
       "      <td>01:11:23</td>\n",
       "      <td>400</td>\n",
       "      <td>44196397</td>\n",
       "      <td>elonmusk</td>\n",
       "      <td>Elon Musk</td>\n",
       "      <td>NaN</td>\n",
       "      <td>...</td>\n",
       "      <td>NaN</td>\n",
       "      <td>NaN</td>\n",
       "      <td>NaN</td>\n",
       "      <td>NaN</td>\n",
       "      <td>NaN</td>\n",
       "      <td>[{'screen_name': 'roshanpateI', 'name': 'Rosha...</td>\n",
       "      <td>NaN</td>\n",
       "      <td>NaN</td>\n",
       "      <td>NaN</td>\n",
       "      <td>NaN</td>\n",
       "    </tr>\n",
       "    <tr>\n",
       "      <th>1</th>\n",
       "      <td>1476656306610216960</td>\n",
       "      <td>1476644467578859528</td>\n",
       "      <td>2021-12-31 00:47:53 Arabian Standard Time</td>\n",
       "      <td>2021-12-31</td>\n",
       "      <td>00:47:53</td>\n",
       "      <td>400</td>\n",
       "      <td>44196397</td>\n",
       "      <td>elonmusk</td>\n",
       "      <td>Elon Musk</td>\n",
       "      <td>NaN</td>\n",
       "      <td>...</td>\n",
       "      <td>NaN</td>\n",
       "      <td>NaN</td>\n",
       "      <td>NaN</td>\n",
       "      <td>NaN</td>\n",
       "      <td>NaN</td>\n",
       "      <td>[{'screen_name': 'tesla_raj', 'name': 'Tesla R...</td>\n",
       "      <td>NaN</td>\n",
       "      <td>NaN</td>\n",
       "      <td>NaN</td>\n",
       "      <td>NaN</td>\n",
       "    </tr>\n",
       "    <tr>\n",
       "      <th>2</th>\n",
       "      <td>1476651519986614281</td>\n",
       "      <td>1476252898115964928</td>\n",
       "      <td>2021-12-31 00:28:51 Arabian Standard Time</td>\n",
       "      <td>2021-12-31</td>\n",
       "      <td>00:28:51</td>\n",
       "      <td>400</td>\n",
       "      <td>44196397</td>\n",
       "      <td>elonmusk</td>\n",
       "      <td>Elon Musk</td>\n",
       "      <td>NaN</td>\n",
       "      <td>...</td>\n",
       "      <td>NaN</td>\n",
       "      <td>NaN</td>\n",
       "      <td>NaN</td>\n",
       "      <td>NaN</td>\n",
       "      <td>NaN</td>\n",
       "      <td>[{'screen_name': 'CSmithson80', 'name': 'Chris...</td>\n",
       "      <td>NaN</td>\n",
       "      <td>NaN</td>\n",
       "      <td>NaN</td>\n",
       "      <td>NaN</td>\n",
       "    </tr>\n",
       "    <tr>\n",
       "      <th>3</th>\n",
       "      <td>1476619907076923398</td>\n",
       "      <td>1476252898115964928</td>\n",
       "      <td>2021-12-30 22:23:14 Arabian Standard Time</td>\n",
       "      <td>2021-12-30</td>\n",
       "      <td>22:23:14</td>\n",
       "      <td>400</td>\n",
       "      <td>44196397</td>\n",
       "      <td>elonmusk</td>\n",
       "      <td>Elon Musk</td>\n",
       "      <td>NaN</td>\n",
       "      <td>...</td>\n",
       "      <td>NaN</td>\n",
       "      <td>NaN</td>\n",
       "      <td>NaN</td>\n",
       "      <td>NaN</td>\n",
       "      <td>NaN</td>\n",
       "      <td>[{'screen_name': 'BLKMDL3', 'name': 'Zack', 'i...</td>\n",
       "      <td>NaN</td>\n",
       "      <td>NaN</td>\n",
       "      <td>NaN</td>\n",
       "      <td>NaN</td>\n",
       "    </tr>\n",
       "    <tr>\n",
       "      <th>4</th>\n",
       "      <td>1476618021024190474</td>\n",
       "      <td>1476252898115964928</td>\n",
       "      <td>2021-12-30 22:15:45 Arabian Standard Time</td>\n",
       "      <td>2021-12-30</td>\n",
       "      <td>22:15:45</td>\n",
       "      <td>400</td>\n",
       "      <td>44196397</td>\n",
       "      <td>elonmusk</td>\n",
       "      <td>Elon Musk</td>\n",
       "      <td>NaN</td>\n",
       "      <td>...</td>\n",
       "      <td>NaN</td>\n",
       "      <td>NaN</td>\n",
       "      <td>NaN</td>\n",
       "      <td>NaN</td>\n",
       "      <td>NaN</td>\n",
       "      <td>[{'screen_name': 'mims', 'name': 'Christopher ...</td>\n",
       "      <td>NaN</td>\n",
       "      <td>NaN</td>\n",
       "      <td>NaN</td>\n",
       "      <td>NaN</td>\n",
       "    </tr>\n",
       "    <tr>\n",
       "      <th>...</th>\n",
       "      <td>...</td>\n",
       "      <td>...</td>\n",
       "      <td>...</td>\n",
       "      <td>...</td>\n",
       "      <td>...</td>\n",
       "      <td>...</td>\n",
       "      <td>...</td>\n",
       "      <td>...</td>\n",
       "      <td>...</td>\n",
       "      <td>...</td>\n",
       "      <td>...</td>\n",
       "      <td>...</td>\n",
       "      <td>...</td>\n",
       "      <td>...</td>\n",
       "      <td>...</td>\n",
       "      <td>...</td>\n",
       "      <td>...</td>\n",
       "      <td>...</td>\n",
       "      <td>...</td>\n",
       "      <td>...</td>\n",
       "      <td>...</td>\n",
       "    </tr>\n",
       "    <tr>\n",
       "      <th>3110</th>\n",
       "      <td>1345384139969552389</td>\n",
       "      <td>1345382294966571008</td>\n",
       "      <td>2021-01-02 18:59:09 Arabian Standard Time</td>\n",
       "      <td>2021-01-02</td>\n",
       "      <td>18:59:09</td>\n",
       "      <td>400</td>\n",
       "      <td>44196397</td>\n",
       "      <td>elonmusk</td>\n",
       "      <td>Elon Musk</td>\n",
       "      <td>NaN</td>\n",
       "      <td>...</td>\n",
       "      <td>NaN</td>\n",
       "      <td>NaN</td>\n",
       "      <td>NaN</td>\n",
       "      <td>NaN</td>\n",
       "      <td>NaN</td>\n",
       "      <td>[{'screen_name': 'flcnhvy', 'name': 'Viv ✶', '...</td>\n",
       "      <td>NaN</td>\n",
       "      <td>NaN</td>\n",
       "      <td>NaN</td>\n",
       "      <td>NaN</td>\n",
       "    </tr>\n",
       "    <tr>\n",
       "      <th>3111</th>\n",
       "      <td>1345382294966571008</td>\n",
       "      <td>1345382294966571008</td>\n",
       "      <td>2021-01-02 18:51:49 Arabian Standard Time</td>\n",
       "      <td>2021-01-02</td>\n",
       "      <td>18:51:49</td>\n",
       "      <td>400</td>\n",
       "      <td>44196397</td>\n",
       "      <td>elonmusk</td>\n",
       "      <td>Elon Musk</td>\n",
       "      <td>NaN</td>\n",
       "      <td>...</td>\n",
       "      <td>NaN</td>\n",
       "      <td>NaN</td>\n",
       "      <td>NaN</td>\n",
       "      <td>NaN</td>\n",
       "      <td>NaN</td>\n",
       "      <td>[]</td>\n",
       "      <td>NaN</td>\n",
       "      <td>NaN</td>\n",
       "      <td>NaN</td>\n",
       "      <td>NaN</td>\n",
       "    </tr>\n",
       "    <tr>\n",
       "      <th>3112</th>\n",
       "      <td>1345344958710992897</td>\n",
       "      <td>1345334831719337984</td>\n",
       "      <td>2021-01-02 16:23:28 Arabian Standard Time</td>\n",
       "      <td>2021-01-02</td>\n",
       "      <td>16:23:28</td>\n",
       "      <td>400</td>\n",
       "      <td>44196397</td>\n",
       "      <td>elonmusk</td>\n",
       "      <td>Elon Musk</td>\n",
       "      <td>NaN</td>\n",
       "      <td>...</td>\n",
       "      <td>NaN</td>\n",
       "      <td>NaN</td>\n",
       "      <td>NaN</td>\n",
       "      <td>NaN</td>\n",
       "      <td>NaN</td>\n",
       "      <td>[{'screen_name': 'newscientist', 'name': 'New ...</td>\n",
       "      <td>NaN</td>\n",
       "      <td>NaN</td>\n",
       "      <td>NaN</td>\n",
       "      <td>NaN</td>\n",
       "    </tr>\n",
       "    <tr>\n",
       "      <th>3113</th>\n",
       "      <td>1345208391958888448</td>\n",
       "      <td>1344675033231237120</td>\n",
       "      <td>2021-01-02 07:20:48 Arabian Standard Time</td>\n",
       "      <td>2021-01-02</td>\n",
       "      <td>07:20:48</td>\n",
       "      <td>400</td>\n",
       "      <td>44196397</td>\n",
       "      <td>elonmusk</td>\n",
       "      <td>Elon Musk</td>\n",
       "      <td>NaN</td>\n",
       "      <td>...</td>\n",
       "      <td>NaN</td>\n",
       "      <td>NaN</td>\n",
       "      <td>NaN</td>\n",
       "      <td>NaN</td>\n",
       "      <td>NaN</td>\n",
       "      <td>[{'screen_name': 'comma_ai', 'name': 'comma', ...</td>\n",
       "      <td>NaN</td>\n",
       "      <td>NaN</td>\n",
       "      <td>NaN</td>\n",
       "      <td>NaN</td>\n",
       "    </tr>\n",
       "    <tr>\n",
       "      <th>3114</th>\n",
       "      <td>1344810193952014336</td>\n",
       "      <td>1344518758707113986</td>\n",
       "      <td>2021-01-01 04:58:30 Arabian Standard Time</td>\n",
       "      <td>2021-01-01</td>\n",
       "      <td>04:58:30</td>\n",
       "      <td>400</td>\n",
       "      <td>44196397</td>\n",
       "      <td>elonmusk</td>\n",
       "      <td>Elon Musk</td>\n",
       "      <td>NaN</td>\n",
       "      <td>...</td>\n",
       "      <td>NaN</td>\n",
       "      <td>NaN</td>\n",
       "      <td>NaN</td>\n",
       "      <td>NaN</td>\n",
       "      <td>NaN</td>\n",
       "      <td>[{'screen_name': 'PPathole', 'name': 'Pranay P...</td>\n",
       "      <td>NaN</td>\n",
       "      <td>NaN</td>\n",
       "      <td>NaN</td>\n",
       "      <td>NaN</td>\n",
       "    </tr>\n",
       "  </tbody>\n",
       "</table>\n",
       "<p>3115 rows × 36 columns</p>\n",
       "</div>"
      ],
      "text/plain": [
       "                       id      conversation_id  \\\n",
       "0     1476662222617251846  1476620230692679680   \n",
       "1     1476656306610216960  1476644467578859528   \n",
       "2     1476651519986614281  1476252898115964928   \n",
       "3     1476619907076923398  1476252898115964928   \n",
       "4     1476618021024190474  1476252898115964928   \n",
       "...                   ...                  ...   \n",
       "3110  1345384139969552389  1345382294966571008   \n",
       "3111  1345382294966571008  1345382294966571008   \n",
       "3112  1345344958710992897  1345334831719337984   \n",
       "3113  1345208391958888448  1344675033231237120   \n",
       "3114  1344810193952014336  1344518758707113986   \n",
       "\n",
       "                                     created_at        date      time  \\\n",
       "0     2021-12-31 01:11:23 Arabian Standard Time  2021-12-31  01:11:23   \n",
       "1     2021-12-31 00:47:53 Arabian Standard Time  2021-12-31  00:47:53   \n",
       "2     2021-12-31 00:28:51 Arabian Standard Time  2021-12-31  00:28:51   \n",
       "3     2021-12-30 22:23:14 Arabian Standard Time  2021-12-30  22:23:14   \n",
       "4     2021-12-30 22:15:45 Arabian Standard Time  2021-12-30  22:15:45   \n",
       "...                                         ...         ...       ...   \n",
       "3110  2021-01-02 18:59:09 Arabian Standard Time  2021-01-02  18:59:09   \n",
       "3111  2021-01-02 18:51:49 Arabian Standard Time  2021-01-02  18:51:49   \n",
       "3112  2021-01-02 16:23:28 Arabian Standard Time  2021-01-02  16:23:28   \n",
       "3113  2021-01-02 07:20:48 Arabian Standard Time  2021-01-02  07:20:48   \n",
       "3114  2021-01-01 04:58:30 Arabian Standard Time  2021-01-01  04:58:30   \n",
       "\n",
       "      timezone   user_id  username       name  place  ... geo source  \\\n",
       "0          400  44196397  elonmusk  Elon Musk    NaN  ... NaN    NaN   \n",
       "1          400  44196397  elonmusk  Elon Musk    NaN  ... NaN    NaN   \n",
       "2          400  44196397  elonmusk  Elon Musk    NaN  ... NaN    NaN   \n",
       "3          400  44196397  elonmusk  Elon Musk    NaN  ... NaN    NaN   \n",
       "4          400  44196397  elonmusk  Elon Musk    NaN  ... NaN    NaN   \n",
       "...        ...       ...       ...        ...    ...  ...  ..    ...   \n",
       "3110       400  44196397  elonmusk  Elon Musk    NaN  ... NaN    NaN   \n",
       "3111       400  44196397  elonmusk  Elon Musk    NaN  ... NaN    NaN   \n",
       "3112       400  44196397  elonmusk  Elon Musk    NaN  ... NaN    NaN   \n",
       "3113       400  44196397  elonmusk  Elon Musk    NaN  ... NaN    NaN   \n",
       "3114       400  44196397  elonmusk  Elon Musk    NaN  ... NaN    NaN   \n",
       "\n",
       "     user_rt_id user_rt retweet_id  \\\n",
       "0           NaN     NaN        NaN   \n",
       "1           NaN     NaN        NaN   \n",
       "2           NaN     NaN        NaN   \n",
       "3           NaN     NaN        NaN   \n",
       "4           NaN     NaN        NaN   \n",
       "...         ...     ...        ...   \n",
       "3110        NaN     NaN        NaN   \n",
       "3111        NaN     NaN        NaN   \n",
       "3112        NaN     NaN        NaN   \n",
       "3113        NaN     NaN        NaN   \n",
       "3114        NaN     NaN        NaN   \n",
       "\n",
       "                                               reply_to  retweet_date  \\\n",
       "0     [{'screen_name': 'roshanpateI', 'name': 'Rosha...           NaN   \n",
       "1     [{'screen_name': 'tesla_raj', 'name': 'Tesla R...           NaN   \n",
       "2     [{'screen_name': 'CSmithson80', 'name': 'Chris...           NaN   \n",
       "3     [{'screen_name': 'BLKMDL3', 'name': 'Zack', 'i...           NaN   \n",
       "4     [{'screen_name': 'mims', 'name': 'Christopher ...           NaN   \n",
       "...                                                 ...           ...   \n",
       "3110  [{'screen_name': 'flcnhvy', 'name': 'Viv ✶', '...           NaN   \n",
       "3111                                                 []           NaN   \n",
       "3112  [{'screen_name': 'newscientist', 'name': 'New ...           NaN   \n",
       "3113  [{'screen_name': 'comma_ai', 'name': 'comma', ...           NaN   \n",
       "3114  [{'screen_name': 'PPathole', 'name': 'Pranay P...           NaN   \n",
       "\n",
       "      translate trans_src trans_dest  \n",
       "0           NaN       NaN        NaN  \n",
       "1           NaN       NaN        NaN  \n",
       "2           NaN       NaN        NaN  \n",
       "3           NaN       NaN        NaN  \n",
       "4           NaN       NaN        NaN  \n",
       "...         ...       ...        ...  \n",
       "3110        NaN       NaN        NaN  \n",
       "3111        NaN       NaN        NaN  \n",
       "3112        NaN       NaN        NaN  \n",
       "3113        NaN       NaN        NaN  \n",
       "3114        NaN       NaN        NaN  \n",
       "\n",
       "[3115 rows x 36 columns]"
      ]
     },
     "execution_count": 84,
     "metadata": {},
     "output_type": "execute_result"
    }
   ],
   "source": [
    "tweets_from_years['2021']"
   ]
  },
  {
   "cell_type": "code",
   "execution_count": 85,
   "metadata": {
    "pycharm": {
     "name": "#%%\n"
    }
   },
   "outputs": [
    {
     "data": {
      "text/html": [
       "<div>\n",
       "<style scoped>\n",
       "    .dataframe tbody tr th:only-of-type {\n",
       "        vertical-align: middle;\n",
       "    }\n",
       "\n",
       "    .dataframe tbody tr th {\n",
       "        vertical-align: top;\n",
       "    }\n",
       "\n",
       "    .dataframe thead th {\n",
       "        text-align: right;\n",
       "    }\n",
       "</style>\n",
       "<table border=\"1\" class=\"dataframe\">\n",
       "  <thead>\n",
       "    <tr style=\"text-align: right;\">\n",
       "      <th></th>\n",
       "      <th>index</th>\n",
       "      <th>nlikes</th>\n",
       "      <th>date</th>\n",
       "      <th>link</th>\n",
       "      <th>photos</th>\n",
       "      <th>reply_to</th>\n",
       "      <th>retweet</th>\n",
       "      <th>source</th>\n",
       "      <th>tweet</th>\n",
       "      <th>video</th>\n",
       "    </tr>\n",
       "  </thead>\n",
       "  <tbody>\n",
       "    <tr>\n",
       "      <th>0</th>\n",
       "      <td>0</td>\n",
       "      <td>4652</td>\n",
       "      <td>2010-06-04 18:31:57</td>\n",
       "      <td>https://twitter.com/elonmusk/status/15434727182</td>\n",
       "      <td>[]</td>\n",
       "      <td>[]</td>\n",
       "      <td>False</td>\n",
       "      <td>NaN</td>\n",
       "      <td>Please ignore prior tweets, as that was someon...</td>\n",
       "      <td>0</td>\n",
       "    </tr>\n",
       "    <tr>\n",
       "      <th>1</th>\n",
       "      <td>0</td>\n",
       "      <td>12</td>\n",
       "      <td>2011-12-28 22:27:08</td>\n",
       "      <td>https://twitter.com/elonmusk/status/1521536376...</td>\n",
       "      <td>[]</td>\n",
       "      <td>[]</td>\n",
       "      <td>False</td>\n",
       "      <td>NaN</td>\n",
       "      <td>@TheOnion So true :)</td>\n",
       "      <td>0</td>\n",
       "    </tr>\n",
       "    <tr>\n",
       "      <th>2</th>\n",
       "      <td>1</td>\n",
       "      <td>39</td>\n",
       "      <td>2011-12-27 23:38:55</td>\n",
       "      <td>https://twitter.com/elonmusk/status/1518093150...</td>\n",
       "      <td>[]</td>\n",
       "      <td>[]</td>\n",
       "      <td>False</td>\n",
       "      <td>NaN</td>\n",
       "      <td>If you ever wanted to know the *real* truth ab...</td>\n",
       "      <td>0</td>\n",
       "    </tr>\n",
       "    <tr>\n",
       "      <th>3</th>\n",
       "      <td>2</td>\n",
       "      <td>155</td>\n",
       "      <td>2011-12-26 16:29:50</td>\n",
       "      <td>https://twitter.com/elonmusk/status/1513389393...</td>\n",
       "      <td>['https://pbs.twimg.com/media/Ahmp9qtCAAAYPDX....</td>\n",
       "      <td>[]</td>\n",
       "      <td>False</td>\n",
       "      <td>NaN</td>\n",
       "      <td>Walked around a neighborhood recently rebuilt ...</td>\n",
       "      <td>1</td>\n",
       "    </tr>\n",
       "    <tr>\n",
       "      <th>4</th>\n",
       "      <td>3</td>\n",
       "      <td>158</td>\n",
       "      <td>2011-12-26 16:23:04</td>\n",
       "      <td>https://twitter.com/elonmusk/status/1513372374...</td>\n",
       "      <td>['https://pbs.twimg.com/media/AhmoamaCQAANvSt....</td>\n",
       "      <td>[]</td>\n",
       "      <td>False</td>\n",
       "      <td>NaN</td>\n",
       "      <td>It was Xmas, so we brought presents for the ki...</td>\n",
       "      <td>1</td>\n",
       "    </tr>\n",
       "    <tr>\n",
       "      <th>...</th>\n",
       "      <td>...</td>\n",
       "      <td>...</td>\n",
       "      <td>...</td>\n",
       "      <td>...</td>\n",
       "      <td>...</td>\n",
       "      <td>...</td>\n",
       "      <td>...</td>\n",
       "      <td>...</td>\n",
       "      <td>...</td>\n",
       "      <td>...</td>\n",
       "    </tr>\n",
       "    <tr>\n",
       "      <th>34873</th>\n",
       "      <td>1023</td>\n",
       "      <td>473530</td>\n",
       "      <td>2022-01-03</td>\n",
       "      <td>https://twitter.com/elonmusk/status/1477775713...</td>\n",
       "      <td>['https://pbs.twimg.com/media/FIIdLYoXoAEd2j_....</td>\n",
       "      <td>[]</td>\n",
       "      <td>False</td>\n",
       "      <td>NaN</td>\n",
       "      <td>https://t.co/LA9hPzVlGx</td>\n",
       "      <td>1</td>\n",
       "    </tr>\n",
       "    <tr>\n",
       "      <th>34874</th>\n",
       "      <td>1024</td>\n",
       "      <td>320201</td>\n",
       "      <td>2022-01-02</td>\n",
       "      <td>https://twitter.com/elonmusk/status/1477706142...</td>\n",
       "      <td>[]</td>\n",
       "      <td>[]</td>\n",
       "      <td>False</td>\n",
       "      <td>NaN</td>\n",
       "      <td>Let’s make the roaring 20’s happen!</td>\n",
       "      <td>0</td>\n",
       "    </tr>\n",
       "    <tr>\n",
       "      <th>34875</th>\n",
       "      <td>1025</td>\n",
       "      <td>66405</td>\n",
       "      <td>2022-01-02</td>\n",
       "      <td>https://twitter.com/elonmusk/status/1477700424...</td>\n",
       "      <td>[]</td>\n",
       "      <td>[]</td>\n",
       "      <td>False</td>\n",
       "      <td>NaN</td>\n",
       "      <td>Great work by Tesla team worldwide!</td>\n",
       "      <td>0</td>\n",
       "    </tr>\n",
       "    <tr>\n",
       "      <th>34876</th>\n",
       "      <td>1026</td>\n",
       "      <td>45704</td>\n",
       "      <td>2022-01-01</td>\n",
       "      <td>https://twitter.com/elonmusk/status/1477096955...</td>\n",
       "      <td>[]</td>\n",
       "      <td>[{'screen_name': 'BLKMDL3', 'name': 'Zack', 'i...</td>\n",
       "      <td>False</td>\n",
       "      <td>NaN</td>\n",
       "      <td>@BLKMDL3 @Tesla 🔥</td>\n",
       "      <td>0</td>\n",
       "    </tr>\n",
       "    <tr>\n",
       "      <th>34877</th>\n",
       "      <td>1027</td>\n",
       "      <td>4127</td>\n",
       "      <td>2022-01-01</td>\n",
       "      <td>https://twitter.com/elonmusk/status/1477080438...</td>\n",
       "      <td>[]</td>\n",
       "      <td>[{'screen_name': 'MiFSDBetaTester', 'name': 'R...</td>\n",
       "      <td>False</td>\n",
       "      <td>NaN</td>\n",
       "      <td>@MiFSDBetaTester @WholeMarsBlog 🤣</td>\n",
       "      <td>0</td>\n",
       "    </tr>\n",
       "  </tbody>\n",
       "</table>\n",
       "<p>34878 rows × 10 columns</p>\n",
       "</div>"
      ],
      "text/plain": [
       "       index  nlikes                 date  \\\n",
       "0          0    4652  2010-06-04 18:31:57   \n",
       "1          0      12  2011-12-28 22:27:08   \n",
       "2          1      39  2011-12-27 23:38:55   \n",
       "3          2     155  2011-12-26 16:29:50   \n",
       "4          3     158  2011-12-26 16:23:04   \n",
       "...      ...     ...                  ...   \n",
       "34873   1023  473530           2022-01-03   \n",
       "34874   1024  320201           2022-01-02   \n",
       "34875   1025   66405           2022-01-02   \n",
       "34876   1026   45704           2022-01-01   \n",
       "34877   1027    4127           2022-01-01   \n",
       "\n",
       "                                                    link  \\\n",
       "0        https://twitter.com/elonmusk/status/15434727182   \n",
       "1      https://twitter.com/elonmusk/status/1521536376...   \n",
       "2      https://twitter.com/elonmusk/status/1518093150...   \n",
       "3      https://twitter.com/elonmusk/status/1513389393...   \n",
       "4      https://twitter.com/elonmusk/status/1513372374...   \n",
       "...                                                  ...   \n",
       "34873  https://twitter.com/elonmusk/status/1477775713...   \n",
       "34874  https://twitter.com/elonmusk/status/1477706142...   \n",
       "34875  https://twitter.com/elonmusk/status/1477700424...   \n",
       "34876  https://twitter.com/elonmusk/status/1477096955...   \n",
       "34877  https://twitter.com/elonmusk/status/1477080438...   \n",
       "\n",
       "                                                  photos  \\\n",
       "0                                                     []   \n",
       "1                                                     []   \n",
       "2                                                     []   \n",
       "3      ['https://pbs.twimg.com/media/Ahmp9qtCAAAYPDX....   \n",
       "4      ['https://pbs.twimg.com/media/AhmoamaCQAANvSt....   \n",
       "...                                                  ...   \n",
       "34873  ['https://pbs.twimg.com/media/FIIdLYoXoAEd2j_....   \n",
       "34874                                                 []   \n",
       "34875                                                 []   \n",
       "34876                                                 []   \n",
       "34877                                                 []   \n",
       "\n",
       "                                                reply_to  retweet  source  \\\n",
       "0                                                     []    False     NaN   \n",
       "1                                                     []    False     NaN   \n",
       "2                                                     []    False     NaN   \n",
       "3                                                     []    False     NaN   \n",
       "4                                                     []    False     NaN   \n",
       "...                                                  ...      ...     ...   \n",
       "34873                                                 []    False     NaN   \n",
       "34874                                                 []    False     NaN   \n",
       "34875                                                 []    False     NaN   \n",
       "34876  [{'screen_name': 'BLKMDL3', 'name': 'Zack', 'i...    False     NaN   \n",
       "34877  [{'screen_name': 'MiFSDBetaTester', 'name': 'R...    False     NaN   \n",
       "\n",
       "                                                   tweet  video  \n",
       "0      Please ignore prior tweets, as that was someon...      0  \n",
       "1                                   @TheOnion So true :)      0  \n",
       "2      If you ever wanted to know the *real* truth ab...      0  \n",
       "3      Walked around a neighborhood recently rebuilt ...      1  \n",
       "4      It was Xmas, so we brought presents for the ki...      1  \n",
       "...                                                  ...    ...  \n",
       "34873                            https://t.co/LA9hPzVlGx      1  \n",
       "34874                Let’s make the roaring 20’s happen!      0  \n",
       "34875                Great work by Tesla team worldwide!      0  \n",
       "34876                                  @BLKMDL3 @Tesla 🔥      0  \n",
       "34877                  @MiFSDBetaTester @WholeMarsBlog 🤣      0  \n",
       "\n",
       "[34878 rows x 10 columns]"
      ]
     },
     "execution_count": 85,
     "metadata": {},
     "output_type": "execute_result"
    }
   ],
   "source": [
    "for year in tweets_from_years:\n",
    "    tweets_from_years[year] = tweets_from_years[year][['nlikes','date', 'link','photos','reply_to','retweet','source','tweet','video']]\n",
    "tweets_from_all_years = pd.concat([tweets_from_years[year] for year in tweets_from_years.keys()])\n",
    "tweets_from_all_years = tweets_from_all_years.reset_index()\n",
    "tweets_from_all_years"
   ]
  },
  {
   "cell_type": "code",
   "execution_count": 86,
   "metadata": {
    "pycharm": {
     "name": "#%%\n"
    }
   },
   "outputs": [],
   "source": [
    "# ein paar Typconvertierungen\n",
    "tweets_from_all_years['date'] = tweets_from_all_years['date'].astype('datetime64')"
   ]
  },
  {
   "cell_type": "code",
   "execution_count": 89,
   "metadata": {
    "pycharm": {
     "name": "#%%\n"
    }
   },
   "outputs": [],
   "source": [
    "tweets_from_all_years = tweets_from_all_years.drop_duplicates(subset='tweet')"
   ]
  },
  {
   "cell_type": "markdown",
   "metadata": {},
   "source": [
    "In den 15219 Tweets gibt es 10329 Antworten auf Tweets von anderen NutzerInnen. In der Wortwahl sind Antworten aber anders als eigenständige Tweets, weil Menschen ihre Sprache unterbewusst an die Sprache der anderen Menschen anpasst. Ohne den Kontext des ursprünglichen Tweet, ergibt ein Tweet außerdem inhaltlich auch nur wenig Sinn. Die automatische Generierung von Antworten wäre aber ein interessantes separates Projekt. In diesem Projekt werden aber nur eigenständige Tweets generiert, weshalb Tweets, die Antworten auf andere Tweets sind entfernt werden. In diesem Punkt unterscheidet sich das Projekt auch von einem anderen Projekt mit diesem Datensatz, in dem Tweets generiert wurden. In diesem Projekt waren auch antworten enthalten, weshalb primär fiktive Antworten auf andere Nutzer generiert werden. Es bleiben also 4890 Tweets für das Modell."
   ]
  },
  {
   "cell_type": "code",
   "execution_count": 92,
   "metadata": {
    "pycharm": {
     "name": "#%%\n"
    }
   },
   "outputs": [],
   "source": [
    "tweets_from_all_years = tweets_from_all_years[(tweets_from_all_years['reply_to']=='[]') & (tweets_from_all_years['retweet']==False)]"
   ]
  },
  {
   "cell_type": "code",
   "execution_count": 94,
   "metadata": {
    "pycharm": {
     "name": "#%%\n"
    }
   },
   "outputs": [
    {
     "data": {
      "text/plain": [
       "(0, 10)"
      ]
     },
     "execution_count": 94,
     "metadata": {},
     "output_type": "execute_result"
    }
   ],
   "source": [
    "tweets_from_all_years[(tweets_from_all_years['retweet']!=False)].shape"
   ]
  },
  {
   "cell_type": "markdown",
   "metadata": {
    "pycharm": {
     "name": "#%% md\n"
    }
   },
   "source": [
    "Für das Training werden außerdem Links durch einen Link Tag 'link' ersetzt, weil mit einem Modell natürlich keine echten Links generiert werden können."
   ]
  },
  {
   "cell_type": "code",
   "execution_count": 95,
   "metadata": {
    "pycharm": {
     "name": "#%%\n"
    }
   },
   "outputs": [],
   "source": [
    "url_re = re.compile(r\"https?:\\/\\/\\S*\")\n",
    "tweets_from_all_years['tweet']=tweets_from_all_years.apply(lambda x: url_re.sub('<link>',x['tweet'] if x['video'] == 0 else url_re.sub('<image>',x['tweet'])), axis=1)"
   ]
  },
  {
   "cell_type": "code",
   "execution_count": 99,
   "metadata": {
    "pycharm": {
     "name": "#%%\n"
    }
   },
   "outputs": [
    {
     "data": {
      "text/html": [
       "<div>\n",
       "<style scoped>\n",
       "    .dataframe tbody tr th:only-of-type {\n",
       "        vertical-align: middle;\n",
       "    }\n",
       "\n",
       "    .dataframe tbody tr th {\n",
       "        vertical-align: top;\n",
       "    }\n",
       "\n",
       "    .dataframe thead th {\n",
       "        text-align: right;\n",
       "    }\n",
       "</style>\n",
       "<table border=\"1\" class=\"dataframe\">\n",
       "  <thead>\n",
       "    <tr style=\"text-align: right;\">\n",
       "      <th></th>\n",
       "      <th>index</th>\n",
       "      <th>nlikes</th>\n",
       "      <th>date</th>\n",
       "      <th>link</th>\n",
       "      <th>photos</th>\n",
       "      <th>reply_to</th>\n",
       "      <th>retweet</th>\n",
       "      <th>source</th>\n",
       "      <th>tweet</th>\n",
       "      <th>video</th>\n",
       "    </tr>\n",
       "  </thead>\n",
       "  <tbody>\n",
       "    <tr>\n",
       "      <th>3776</th>\n",
       "      <td>522</td>\n",
       "      <td>144</td>\n",
       "      <td>2016-04-30 01:14:50</td>\n",
       "      <td>https://twitter.com/elonmusk/status/7262182181...</td>\n",
       "      <td>[]</td>\n",
       "      <td>[]</td>\n",
       "      <td>False</td>\n",
       "      <td>NaN</td>\n",
       "      <td>@phillipcjackson turns out it doesn't need sec...</td>\n",
       "      <td>0</td>\n",
       "    </tr>\n",
       "    <tr>\n",
       "      <th>11849</th>\n",
       "      <td>1143</td>\n",
       "      <td>114300</td>\n",
       "      <td>2019-07-27 18:15:32</td>\n",
       "      <td>https://twitter.com/elonmusk/status/1155179932...</td>\n",
       "      <td>[]</td>\n",
       "      <td>[]</td>\n",
       "      <td>False</td>\n",
       "      <td>NaN</td>\n",
       "      <td>Ability to stream YouTube &amp;amp; Netflix when c...</td>\n",
       "      <td>0</td>\n",
       "    </tr>\n",
       "    <tr>\n",
       "      <th>12459</th>\n",
       "      <td>1753</td>\n",
       "      <td>18065</td>\n",
       "      <td>2019-05-12 01:54:33</td>\n",
       "      <td>https://twitter.com/elonmusk/status/1127391581...</td>\n",
       "      <td>[]</td>\n",
       "      <td>[]</td>\n",
       "      <td>False</td>\n",
       "      <td>NaN</td>\n",
       "      <td>Much will likely go wrong on 1st mission. Also...</td>\n",
       "      <td>0</td>\n",
       "    </tr>\n",
       "    <tr>\n",
       "      <th>9917</th>\n",
       "      <td>1496</td>\n",
       "      <td>22488</td>\n",
       "      <td>2018-06-10 06:33:43</td>\n",
       "      <td>https://twitter.com/elonmusk/status/1005699514...</td>\n",
       "      <td>[]</td>\n",
       "      <td>[]</td>\n",
       "      <td>False</td>\n",
       "      <td>NaN</td>\n",
       "      <td>This is why I’m not impressed when reporters w...</td>\n",
       "      <td>0</td>\n",
       "    </tr>\n",
       "    <tr>\n",
       "      <th>1150</th>\n",
       "      <td>72</td>\n",
       "      <td>509</td>\n",
       "      <td>2014-08-03 19:11:50</td>\n",
       "      <td>https://twitter.com/elonmusk/status/4960105723...</td>\n",
       "      <td>[]</td>\n",
       "      <td>[]</td>\n",
       "      <td>False</td>\n",
       "      <td>NaN</td>\n",
       "      <td>While on the subject of AI risk, Our Final Inv...</td>\n",
       "      <td>0</td>\n",
       "    </tr>\n",
       "    <tr>\n",
       "      <th>201</th>\n",
       "      <td>173</td>\n",
       "      <td>21</td>\n",
       "      <td>2012-04-30 20:10:22</td>\n",
       "      <td>https://twitter.com/elonmusk/status/1970553142...</td>\n",
       "      <td>[]</td>\n",
       "      <td>[]</td>\n",
       "      <td>False</td>\n",
       "      <td>NaN</td>\n",
       "      <td>T minus five minutes to flame</td>\n",
       "      <td>0</td>\n",
       "    </tr>\n",
       "    <tr>\n",
       "      <th>33939</th>\n",
       "      <td>89</td>\n",
       "      <td>205929</td>\n",
       "      <td>2022-02-23 00:00:00</td>\n",
       "      <td>https://twitter.com/elonmusk/status/1496252264...</td>\n",
       "      <td>['https://pbs.twimg.com/media/FMPBgHWWUAoro-w....</td>\n",
       "      <td>[]</td>\n",
       "      <td>False</td>\n",
       "      <td>NaN</td>\n",
       "      <td>&lt;image&gt;</td>\n",
       "      <td>1</td>\n",
       "    </tr>\n",
       "    <tr>\n",
       "      <th>21311</th>\n",
       "      <td>2293</td>\n",
       "      <td>102318</td>\n",
       "      <td>2020-04-30 17:54:59</td>\n",
       "      <td>https://twitter.com/elonmusk/status/1255918585...</td>\n",
       "      <td>[]</td>\n",
       "      <td>[]</td>\n",
       "      <td>False</td>\n",
       "      <td>NaN</td>\n",
       "      <td>Classifying all deaths as corona even if coron...</td>\n",
       "      <td>0</td>\n",
       "    </tr>\n",
       "    <tr>\n",
       "      <th>31340</th>\n",
       "      <td>605</td>\n",
       "      <td>48501</td>\n",
       "      <td>2021-11-03 00:00:00</td>\n",
       "      <td>https://twitter.com/elonmusk/status/1455980193...</td>\n",
       "      <td>[]</td>\n",
       "      <td>[]</td>\n",
       "      <td>False</td>\n",
       "      <td>NaN</td>\n",
       "      <td>And Mars  &lt;link&gt;</td>\n",
       "      <td>0</td>\n",
       "    </tr>\n",
       "    <tr>\n",
       "      <th>33332</th>\n",
       "      <td>2597</td>\n",
       "      <td>99495</td>\n",
       "      <td>2021-03-12 00:00:00</td>\n",
       "      <td>https://twitter.com/elonmusk/status/1370449655...</td>\n",
       "      <td>[]</td>\n",
       "      <td>[]</td>\n",
       "      <td>False</td>\n",
       "      <td>NaN</td>\n",
       "      <td>Both do mining &amp;amp; use blocks &amp;amp; chains</td>\n",
       "      <td>0</td>\n",
       "    </tr>\n",
       "  </tbody>\n",
       "</table>\n",
       "</div>"
      ],
      "text/plain": [
       "       index  nlikes                date  \\\n",
       "3776     522     144 2016-04-30 01:14:50   \n",
       "11849   1143  114300 2019-07-27 18:15:32   \n",
       "12459   1753   18065 2019-05-12 01:54:33   \n",
       "9917    1496   22488 2018-06-10 06:33:43   \n",
       "1150      72     509 2014-08-03 19:11:50   \n",
       "201      173      21 2012-04-30 20:10:22   \n",
       "33939     89  205929 2022-02-23 00:00:00   \n",
       "21311   2293  102318 2020-04-30 17:54:59   \n",
       "31340    605   48501 2021-11-03 00:00:00   \n",
       "33332   2597   99495 2021-03-12 00:00:00   \n",
       "\n",
       "                                                    link  \\\n",
       "3776   https://twitter.com/elonmusk/status/7262182181...   \n",
       "11849  https://twitter.com/elonmusk/status/1155179932...   \n",
       "12459  https://twitter.com/elonmusk/status/1127391581...   \n",
       "9917   https://twitter.com/elonmusk/status/1005699514...   \n",
       "1150   https://twitter.com/elonmusk/status/4960105723...   \n",
       "201    https://twitter.com/elonmusk/status/1970553142...   \n",
       "33939  https://twitter.com/elonmusk/status/1496252264...   \n",
       "21311  https://twitter.com/elonmusk/status/1255918585...   \n",
       "31340  https://twitter.com/elonmusk/status/1455980193...   \n",
       "33332  https://twitter.com/elonmusk/status/1370449655...   \n",
       "\n",
       "                                                  photos reply_to  retweet  \\\n",
       "3776                                                  []       []    False   \n",
       "11849                                                 []       []    False   \n",
       "12459                                                 []       []    False   \n",
       "9917                                                  []       []    False   \n",
       "1150                                                  []       []    False   \n",
       "201                                                   []       []    False   \n",
       "33939  ['https://pbs.twimg.com/media/FMPBgHWWUAoro-w....       []    False   \n",
       "21311                                                 []       []    False   \n",
       "31340                                                 []       []    False   \n",
       "33332                                                 []       []    False   \n",
       "\n",
       "       source                                              tweet  video  \n",
       "3776      NaN  @phillipcjackson turns out it doesn't need sec...      0  \n",
       "11849     NaN  Ability to stream YouTube &amp; Netflix when c...      0  \n",
       "12459     NaN  Much will likely go wrong on 1st mission. Also...      0  \n",
       "9917      NaN  This is why I’m not impressed when reporters w...      0  \n",
       "1150      NaN  While on the subject of AI risk, Our Final Inv...      0  \n",
       "201       NaN                      T minus five minutes to flame      0  \n",
       "33939     NaN                                            <image>      1  \n",
       "21311     NaN  Classifying all deaths as corona even if coron...      0  \n",
       "31340     NaN                                   And Mars  <link>      0  \n",
       "33332     NaN       Both do mining &amp; use blocks &amp; chains      0  "
      ]
     },
     "execution_count": 99,
     "metadata": {},
     "output_type": "execute_result"
    }
   ],
   "source": [
    "tweets_from_all_years.sample(n=10)"
   ]
  },
  {
   "cell_type": "markdown",
   "metadata": {
    "pycharm": {
     "name": "#%% md\n"
    }
   },
   "source": [
    "## Datenanalyse"
   ]
  },
  {
   "cell_type": "markdown",
   "metadata": {
    "pycharm": {
     "name": "#%% md\n"
    }
   },
   "source": [
    "Bevor Text generiert wird, ist es interessant sich einmal anzusehen, wie der Datensatz aufgebaut ist. Bei strukturierten und numerischen Daten gibt es dafür klare Möglichkeiten, die sich etabliert haben, wie etwa sich mit den Durchschnitten und Quantilen zu beschäftigen. Im Fall von Text ist das aber nicht direkt möglich und auch nicht wirklich nötig, weil es, wie später beschrieben nur wenig direkte Evaluierung gibt. Es ist aber wichtig ein Gefühl für den Datensatz zu erhalten um zu verstehen, ob die Generierungen gut oder schwach sind. Zuerst lässt sich die Herkunft der Daten bestimmen, aus welchem Jahr sie kommen. Wie zu erwarten ist hat Elon Musk mit voranschreitender Zeit mehr Tweets veröffentlicht. Der Datensatz reicht nur bis März 2022, weshalb es für das Jahr 2022 deutlich weniger Tweets sind, als im Juli 2022 zu erwarten wäre. 2019 war das aktivste Jahr von Elon Musk von Elon Musk. 2020 war er dann vermutlich damit beschäftigt sich über das erste Jahr zu freuen, in dem sein Unternehmen Tesla einen Gewinn abgeworfen hat und er twitterte entsprechend weniger."
   ]
  },
  {
   "cell_type": "code",
   "execution_count": 15,
   "metadata": {
    "pycharm": {
     "name": "#%%\n"
    }
   },
   "outputs": [
    {
     "data": {
      "image/png": "[encoded data removed]",
      "text/plain": [
       "<Figure size 800x800 with 1 Axes>"
      ]
     },
     "metadata": {
      "needs_background": "light"
     },
     "output_type": "display_data"
    }
   ],
   "source": [
    "plt.figure(figsize=(10,10), dpi=80)\n",
    "tweets_from_all_years.groupby(pd.Grouper(key = 'date',freq='Y')).size().plot(kind='bar')\n",
    "plt.xticks(range(13),['2010','2011','2012','2013','2014','2015','2016','2017','2018','2019','2020', '2021','2022'])\n",
    "plt.show()"
   ]
  },
  {
   "cell_type": "markdown",
   "metadata": {
    "pycharm": {
     "name": "#%% md\n"
    }
   },
   "source": [
    "Zur Analyse des Textes der Tweets lässt sich ein tool wie Rake verwenden. Rake extrahiert die wichtigsten Keywords aus Texten. Dabei wird zuerst eine Stopwordliste angewendet, also eine Liste mit Wörtern die ignoriert werden sollen wie 'ist' oder 'das', weil sie sehr oft vorkommen aber nicht relevant für den Inhalt sind. Danach verwendet Rake verschiedene Methoden um die Wichtigkeit eines Wortes festzustellen, indem zum Beispiel die Co-Occurences mit anderen wichtigen Worten festgestellt wird."
   ]
  },
  {
   "cell_type": "code",
   "execution_count": 17,
   "metadata": {
    "pycharm": {
     "name": "#%%\n"
    }
   },
   "outputs": [
    {
     "data": {
      "text/plain": [
       "[(9.0, '🖤🖤🖤🖤 🚘🚘🚘🚘 🖤🖤🖤🖤'),\n",
       " (9.0, '♥️♥️🇮🇸🇮🇸 ísland 🇮🇸🇮🇸♥️♥️'),\n",
       " (9.0, 'vigorously opposed subpoena'),\n",
       " (9.0, 'tcp packet walks'),\n",
       " (9.0, 'tallakt various forms'),\n",
       " (9.0, 'spinal cord transplant'),\n",
       " (9.0, 'spiked choker machined'),\n",
       " (9.0, 'some1gg transpiration cooling'),\n",
       " (9.0, 'siberian permafrost melting'),\n",
       " (9.0, 'shortseller enrichment commission')]"
      ]
     },
     "execution_count": 17,
     "metadata": {},
     "output_type": "execute_result"
    }
   ],
   "source": [
    "tweet_buzzwords = Rake(max_length=3)\n",
    "tweet_buzzwords.extract_keywords_from_sentences(tweets_from_all_years['tweet'].to_list())\n",
    "tweet_buzzwords.get_ranked_phrases_with_scores()[:10]"
   ]
  },
  {
   "cell_type": "markdown",
   "metadata": {
    "pycharm": {
     "name": "#%% md\n"
    }
   },
   "source": [
    "Die Ergebnisse der Keyword Extraktion sind allerdings nicht sehr aussagegräftig, wenn davon abgesehen wird, dass Musk scheinbar eine große Liebe für Island hat. Das ergibt aber auch durchaus Sinn, wenn bedacht wird, dass Rake eigentlich für größere Texte entwickelt wurde. [(Vgl. Rose 2010 et. al.)](https://www.researchgate.net/publication/227988510_Automatic_Keyword_Extraction_from_Individual_Documents) Eine deutlich interessantere Metrik ist in diesem Fall aber die Wordfrequenz, mit den angewendeten Stopwords. Also das einfache Zählen der Wörter und dann einem Entfernen aller Stopwords."
   ]
  },
  {
   "cell_type": "code",
   "execution_count": 18,
   "metadata": {
    "pycharm": {
     "name": "#%%\n"
    }
   },
   "outputs": [],
   "source": [
    "kw_dist =  tweet_buzzwords.get_word_frequency_distribution()"
   ]
  },
  {
   "cell_type": "code",
   "execution_count": 19,
   "metadata": {
    "pycharm": {
     "name": "#%%\n"
    }
   },
   "outputs": [],
   "source": [
    "## remove technical words and tokens\n",
    "del(kw_dist['amp'])\n",
    "del(kw_dist['link'])\n",
    "del(kw_dist['image'])"
   ]
  },
  {
   "cell_type": "code",
   "execution_count": 20,
   "metadata": {
    "pycharm": {
     "name": "#%%\n"
    }
   },
   "outputs": [],
   "source": [
    "n = 25\n",
    "kw_dist_top = {k:v for k,v in kw_dist.items() if v >= min(sorted(kw_dist.values(), reverse=True)[:n])}\n",
    "kw_dist_top_sorted = dict(sorted(kw_dist_top.items(), key=lambda x:x[1]))"
   ]
  },
  {
   "cell_type": "code",
   "execution_count": 21,
   "metadata": {
    "pycharm": {
     "name": "#%%\n"
    }
   },
   "outputs": [
    {
     "data": {
      "image/png": "[encoded data removed]",
      "text/plain": [
       "<Figure size 800x800 with 1 Axes>"
      ]
     },
     "metadata": {
      "needs_background": "light"
     },
     "output_type": "display_data"
    }
   ],
   "source": [
    "plt.figure(figsize=(10,10), dpi= 80)\n",
    "lables = []\n",
    "for i, w in enumerate(kw_dist_top_sorted):\n",
    "    plt.bar(x = i,height= kw_dist[w])\n",
    "plt.xticks(range(n),kw_dist_top_sorted.keys(), rotation = 'vertical')\n",
    "plt.show()"
   ]
  },
  {
   "cell_type": "markdown",
   "metadata": {
    "pycharm": {
     "name": "#%% md\n"
    }
   },
   "source": [
    "In gewisser Weise sind diese Ergebnisse dann doch überraschen, denn es ist nicht zu erwarten gewesen, dass Musk 'Tesla' und 'model' (von Model S oder Model 3, Modellbezeichungen der Tesla-Fahrzeuge) mehr als doppelt so oft vorkommen, wie die nächsten Top Wörter. Sonst wird sehr oft Launch, also SpaceX Launches erwähnt und allgemein viel über 'cars' getwittert, was aber zu erwarten ist."
   ]
  },
  {
   "cell_type": "markdown",
   "metadata": {
    "pycharm": {
     "name": "#%% md\n"
    }
   },
   "source": [
    "## Erstellung der Datensätze und Entwicklung des Modells"
   ]
  },
  {
   "cell_type": "markdown",
   "metadata": {
    "pycharm": {
     "name": "#%% md\n"
    }
   },
   "source": [
    "Zur Generierung von Text gibt es viele Möglichkeiten. Die klassische Methode sind Markov-Ketten, in denen immer das nächste Wort auf Basis des vorherigen Wortes vorhergesagt wird. Der moderne Ansatz sind auf neuronalen Netzen aufbauende Modelle. Einfache Perceptrons bieten aber nur wenige bis keine Möglichkeiten zusammenhängende Sätze zu verarbeiten. Stattdessen wurden Architekturen wie Recurrent Neural Networks entwickelt, in denen Neuronen auch mit Ausgaben folgender Neuronen gefüttert werden. Das LSTM speichert Eingaben vorheriger Eingaben und kann so mit sequentiellen Daten arbeiten. Der heutige Standard sind aber sogenannte Transformer. Ihre Grundlage ist der Attention-Mechanismus. Attention beruht auf Lookup-Tabellen, die im Netzwerk anlernbar sind. Beim Vorhersagen eines Elements in einer Sequenz kann also auch gelernt werden, welche Elemente davor und danach vorkommen. Das Training ist dafür sehr aufwändigt und benätigt einen sehr großen Korpus. Ein Modell, das mit einem solchen Korpus trainiert wurde ist GPT2. Der Korpus besteht aus den Texten von 8 Millionen Websites, auf die von der Internet-Plattform Reddit verlinkt wird. Weil die generierten Texte dadurch sehr gut Texte widerspiegeln, die im Internet zu finden sind, wird GPT-2 sehr oft für die Generierung von Texten, die Sprache im Intenet imitieren sollen genutzt."
   ]
  },
  {
   "cell_type": "code",
   "execution_count": 24,
   "metadata": {
    "pycharm": {
     "name": "#%%\n"
    }
   },
   "outputs": [],
   "source": [
    "gen = pipeline('text-generation', model='gpt2')"
   ]
  },
  {
   "cell_type": "code",
   "execution_count": 25,
   "metadata": {
    "pycharm": {
     "name": "#%%\n"
    }
   },
   "outputs": [
    {
     "name": "stderr",
     "output_type": "stream",
     "text": [
      "Setting `pad_token_id` to `eos_token_id`:50256 for open-end generation.\n"
     ]
    },
    {
     "data": {
      "text/plain": [
       "[{'generated_text': \"Elon Musk is a ersatz social conservative. The internet does not represent any individual's political viewpoints. You might call him a fascist or a dictator, but he can't be taken into account by anyone. It is impossible to know if he\"}]"
      ]
     },
     "execution_count": 25,
     "metadata": {},
     "output_type": "execute_result"
    }
   ],
   "source": [
    "gen(\"Elon Musk is a \")"
   ]
  },
  {
   "cell_type": "markdown",
   "metadata": {
    "pycharm": {
     "name": "#%% md\n"
    }
   },
   "source": [
    "In diesem Modell ist aber die Sprache von Elon Musk nicht gut repräsentiert. Um das zu verbessern wird auf Transfer-Learning zurückgegriffen. Beim Transfer Learning wird statt ein neues Modell zu trainieren ein existierendes Modell wie GPT-2 mit den spezifischen Daten trainiert. Die Bibliothek `transformers` bietet dafür eine Reihe von existierienden Modellen, darunter auch GTP-2 an.\n",
    "Sprachemodelle können nicht mit den Rohen sprachdaten trainiert werden. Sie werden mit einer aneinanderreihung von Tokens, also numerischen Werten, die die einzelnen Wörter repräsentieren trainiert. GPT-2 bietet bereits einen passenden Tokenizer, der auf Texte mit Elon Musks Tweets angepasst werden muss. Weil das Modell immer ein Prompt braucht im Text zu generieren, wird ein `BOS_TOKEN` hinzugefügt, der als Prompt auch im Training vor jedem Tweet eingefügt wird. So lernt das Modell, dass jedem Prompt, ein Tweet von Elon Musk folgt. Es gibt auch einen End of Sequence Token, damit soll unter anderem gelernt werden, keine zu langen Texte zu generieren. In der Praxis funktioniert dies aber nur bedingt zuverlässig. Der `IMAGE_TOKEN` und der `LINK_TOKEN` sollen dafür sorgen, dass diese Teile des textes nicht aus anderne Tokens zusammengesetzt werden sondern immer am Stück vorhergesagt werden."
   ]
  },
  {
   "cell_type": "code",
   "execution_count": 22,
   "metadata": {
    "pycharm": {
     "name": "#%%\n"
    }
   },
   "outputs": [],
   "source": [
    "BOS_TOKEN = \"<|elontext|>\"\n",
    "EOS_TOKEN = \"<|endoftext|>\"\n",
    "PAD_TOKEN = \"<|pad|>\"\n",
    "IMAGE_TOKEN = \"<image>\"\n",
    "LINK_TOKEN = \"<link>\"\n",
    "MAX_TOKENS = 256"
   ]
  },
  {
   "cell_type": "code",
   "execution_count": 23,
   "metadata": {
    "pycharm": {
     "name": "#%%\n"
    }
   },
   "outputs": [
    {
     "name": "stderr",
     "output_type": "stream",
     "text": [
      "Special tokens have been added in the vocabulary, make sure the associated word embeddings are fine-tuned or trained.\n"
     ]
    },
    {
     "data": {
      "text/plain": [
       "2"
      ]
     },
     "execution_count": 23,
     "metadata": {},
     "output_type": "execute_result"
    }
   ],
   "source": [
    "\n",
    "tokenizer = AutoTokenizer.from_pretrained(\"gpt2\",\n",
    "    bos_token=BOS_TOKEN,\n",
    "    eos_token=EOS_TOKEN,\n",
    "    pad_token=PAD_TOKEN,\n",
    "    max_length=MAX_TOKENS,\n",
    "    is_split_into_words=True,\n",
    ")\n",
    "tokenizer.add_tokens([LINK_TOKEN, IMAGE_TOKEN])"
   ]
  },
  {
   "cell_type": "markdown",
   "metadata": {},
   "source": [
    "Die Tokenizer werden auch gespeichert, damit sie später zur Weiterverwendung verfügbar sind."
   ]
  },
  {
   "cell_type": "code",
   "execution_count": 24,
   "metadata": {
    "pycharm": {
     "name": "#%%\n"
    }
   },
   "outputs": [],
   "source": [
    "#tokenizer.save_pretrained('./musktokenizer')"
   ]
  },
  {
   "cell_type": "markdown",
   "metadata": {
    "pycharm": {
     "name": "#%% md\n"
    }
   },
   "source": [
    "Neben GPT-2 wird außerdem noch das Modell 'distil-gpt2' genutzt. Das ist eine kleinere Version von 'GPT-2' und nutzt etwa die Hälfte der Neuronen bzw. Parameter. Beide Modelle sollen verglichen werden."
   ]
  },
  {
   "cell_type": "code",
   "execution_count": 36,
   "metadata": {
    "pycharm": {
     "name": "#%%\n"
    }
   },
   "outputs": [
    {
     "name": "stderr",
     "output_type": "stream",
     "text": [
      "Special tokens have been added in the vocabulary, make sure the associated word embeddings are fine-tuned or trained.\n"
     ]
    },
    {
     "data": {
      "text/plain": [
       "2"
      ]
     },
     "execution_count": 36,
     "metadata": {},
     "output_type": "execute_result"
    }
   ],
   "source": [
    "distil_tokenizer = AutoTokenizer.from_pretrained(\"distilgpt2\",\n",
    "                                          bos_token=BOS_TOKEN,\n",
    "                                          eos_token=EOS_TOKEN,\n",
    "                                          pad_token=PAD_TOKEN,\n",
    "                                          max_length=MAX_TOKENS,\n",
    "                                          is_split_into_words=True,\n",
    "                                          )\n",
    "distil_tokenizer.add_tokens([LINK_TOKEN, IMAGE_TOKEN])"
   ]
  },
  {
   "cell_type": "markdown",
   "metadata": {
    "pycharm": {
     "name": "#%% md\n"
    }
   },
   "source": [
    "Um sicher zu gehen, dass mit korrekten Daten gelernt wird, werden die Tokenizer einmal getestet. Dafür wird ein Text encodiert und decodiert. Dann wird geprüft, ob der noch lesbar ist."
   ]
  },
  {
   "cell_type": "code",
   "execution_count": null,
   "metadata": {
    "pycharm": {
     "name": "#%%\n"
    },
    "scrolled": false
   },
   "outputs": [],
   "source": [
    "some_tweets = tweets_from_all_years.sample(n=10, random_state=30)\n",
    "encoded = tokenizer(some_tweets['tweet'].to_list()[0], padding=True, max_length=MAX_TOKENS, pad_to_max_length=True,)\n",
    "decoded = tokenizer.decode(encoded['input_ids'])\n",
    "some_tokens=[]\n",
    "for i in some_tweets['tweet']:\n",
    "    some_tokens.append(' '.join(i.split(' ')[:5]))\n"
   ]
  },
  {
   "cell_type": "code",
   "execution_count": null,
   "metadata": {
    "pycharm": {
     "name": "#%%\n"
    }
   },
   "outputs": [],
   "source": [
    "encoded = tokenizer(some_tweets['tweet'].to_list()[0], padding=True, max_length=MAX_TOKENS, pad_to_max_length=True,)\n",
    "decoded = tokenizer.decode(encoded['input_ids'])\n",
    "some_distil_tokens=[]\n",
    "for i in some_tweets['tweet']:\n",
    "    some_distil_tokens.append(' '.join(i.split(' ')[:5]))"
   ]
  },
  {
   "cell_type": "code",
   "execution_count": 39,
   "metadata": {
    "pycharm": {
     "name": "#%%\n"
    }
   },
   "outputs": [
    {
     "data": {
      "text/plain": [
       "['Tesla will make some merch',\n",
       " '0 to 155mph trap speed',\n",
       " 'Order at  <link>',\n",
       " '5 minutes from launch. Looks',\n",
       " 'Spacecraft arrives at Port of',\n",
       " 'Space Station tracking spaceship docking',\n",
       " \"Hope we're not just the\",\n",
       " 'Truth is a metaphorical concept',\n",
       " ' <image>',\n",
       " 'These are production design, unlike']"
      ]
     },
     "execution_count": 39,
     "metadata": {},
     "output_type": "execute_result"
    }
   ],
   "source": [
    "some_tokens"
   ]
  },
  {
   "cell_type": "markdown",
   "metadata": {
    "pycharm": {
     "name": "#%% md\n"
    }
   },
   "source": [
    "Die Erstellung von Datensätzen, die mit Tensorflow und dem Modell kompatibel sind ist eine größere Herausforderung. Dafür wird die `transformers` zugehörige Bibliothek `datasets` verwendet. Außerdem wird ein Train-und Test-Split erstellt. Das Test Split wird zum Hyperparameter-Tuning verwendet."
   ]
  },
  {
   "cell_type": "code",
   "execution_count": 40,
   "metadata": {
    "pycharm": {
     "name": "#%%\n"
    }
   },
   "outputs": [],
   "source": [
    "\n",
    "## Set tweets to subset or to full dataset\n",
    "#tweet_ds = some_tweets\n",
    "import datasets\n",
    "tweet_ds = tweets_from_all_years\n",
    "# Damit sich der Datensatz nachher sicher in das Tensorflow Datenformat konvertieren lässt muss mit dem Datenset-Format der transformers library erstellt werden\n",
    "tweets_ds = datasets.Dataset.from_pandas(tweet_ds[['tweet']])\n",
    "\n",
    "tweets_ds = tweets_ds.train_test_split(test_size=0.2)\n",
    "MAX_TOKENS = max([len(tokenizer.encode(tweet, add_special_tokens=True)) for tweet in tweet_ds['tweet']])+2\n",
    "DISTIL_MAX_TOKENS = max([len(distil_tokenizer.encode(tweet, add_special_tokens=True)) for tweet in tweet_ds['tweet']])+2"
   ]
  },
  {
   "cell_type": "code",
   "execution_count": 41,
   "metadata": {
    "pycharm": {
     "name": "#%%\n"
    }
   },
   "outputs": [
    {
     "data": {
      "text/plain": [
       "Dataset({\n",
       "    features: ['tweet', '__index_level_0__'],\n",
       "    num_rows: 3912\n",
       "})"
      ]
     },
     "execution_count": 41,
     "metadata": {},
     "output_type": "execute_result"
    }
   ],
   "source": [
    "tweets_ds['train']"
   ]
  },
  {
   "cell_type": "code",
   "execution_count": 42,
   "metadata": {
    "pycharm": {
     "name": "#%%\n"
    }
   },
   "outputs": [
    {
     "data": {
      "text/plain": [
       "Dataset({\n",
       "    features: ['tweet', '__index_level_0__'],\n",
       "    num_rows: 978\n",
       "})"
      ]
     },
     "execution_count": 42,
     "metadata": {},
     "output_type": "execute_result"
    }
   ],
   "source": [
    "tweets_ds['test']"
   ]
  },
  {
   "cell_type": "markdown",
   "metadata": {
    "pycharm": {
     "name": "#%% md\n"
    }
   },
   "source": [
    "Die `prepare_text` Funktion wird später mit einer `map` Funktion verwendet um die Texte in token-sequenzen umzuwandeln."
   ]
  },
  {
   "cell_type": "code",
   "execution_count": 43,
   "metadata": {
    "pycharm": {
     "name": "#%%\n"
    }
   },
   "outputs": [],
   "source": [
    "## mit anpassungen übernommen aus https://data-dive.com/finetune-german-gpt2-on-tpu-transformers-tensorflow-for-text-generation-of-reviews\n",
    "def prepare_text(tweets:list, prep_tokenizer, prep_MAX_TOKENS):\n",
    "    # Einfügen der Prompts vor jeden Tweet\n",
    "    text = [BOS_TOKEN + tweet + EOS_TOKEN for tweet in tweets['tweet']]\n",
    "\n",
    "    tokenized = prep_tokenizer(\n",
    "        text,\n",
    "        add_special_tokens=True,  # Only adds pad not eos and bos\n",
    "        max_length=prep_MAX_TOKENS,\n",
    "        truncation=True,\n",
    "        pad_to_max_length=True,\n",
    "    )\n",
    "    tokenized[\"labels\"] = tokenized[\"input_ids\"].copy()\n",
    "\n",
    "    return tokenized"
   ]
  },
  {
   "cell_type": "code",
   "execution_count": null,
   "metadata": {
    "pycharm": {
     "name": "#%%\n"
    }
   },
   "outputs": [],
   "source": [
    "distil_tweets_ds = tweets_ds.map(\n",
    "    lambda x: prepare_text(x, distil_tokenizer,DISTIL_MAX_TOKENS),\n",
    "    batched=True,\n",
    "    #num_proc=4,\n",
    "    # ursprünglich spalten entfernen\n",
    "    remove_columns=['tweet','__index_level_0__'],\n",
    "    load_from_cache_file=True,\n",
    ")"
   ]
  },
  {
   "cell_type": "code",
   "execution_count": null,
   "metadata": {
    "pycharm": {
     "name": "#%%\n"
    }
   },
   "outputs": [],
   "source": [
    "tweets_ds = tweets_ds.map(\n",
    "    lambda x: prepare_text(x, tokenizer, MAX_TOKENS),\n",
    "    batched=True,\n",
    "    #num_proc=4,\n",
    "    remove_columns=['tweet','__index_level_0__'],\n",
    "    load_from_cache_file=True,\n",
    ")"
   ]
  },
  {
   "cell_type": "markdown",
   "metadata": {
    "pycharm": {
     "name": "#%% md\n"
    }
   },
   "source": [
    "Der fertige Text wird zum Test nochmal dekodiert. Nun sind auch Padding Tokens vorhanden, um alle Sequenzen auf die gleiche Länge, und damit in ein für das Modell zu verarbeitende Format zu bringen."
   ]
  },
  {
   "cell_type": "code",
   "execution_count": 38,
   "metadata": {
    "pycharm": {
     "name": "#%%\n"
    }
   },
   "outputs": [
    {
     "name": "stdout",
     "output_type": "stream",
     "text": [
      "<|elontext|>Am getting lots of questions about the big Supercharger announcement. Aiming to do that the week after next.<|endoftext|><|pad|><|pad|><|pad|><|pad|><|pad|><|pad|><|pad|><|pad|><|pad|><|pad|><|pad|><|pad|><|pad|><|pad|><|pad|><|pad|><|pad|><|pad|><|pad|><|pad|><|pad|><|pad|><|pad|><|pad|><|pad|><|pad|><|pad|><|pad|><|pad|><|pad|><|pad|><|pad|><|pad|><|pad|><|pad|><|pad|><|pad|><|pad|><|pad|><|pad|><|pad|><|pad|><|pad|><|pad|><|pad|><|pad|><|pad|><|pad|><|pad|><|pad|><|pad|><|pad|><|pad|><|pad|><|pad|><|pad|><|pad|><|pad|><|pad|><|pad|><|pad|><|pad|><|pad|>\n"
     ]
    }
   ],
   "source": [
    "\n",
    "for i in tweets_ds['train']:\n",
    "    print(tokenizer.decode(i['input_ids']))\n",
    "    break"
   ]
  },
  {
   "cell_type": "markdown",
   "metadata": {
    "pycharm": {
     "name": "#%% md\n"
    }
   },
   "source": [
    "Das Datenset muss in das von Tensorflow Datenformat konvertiert werden. Dafür bietet `datasets` eine vorgefertigte Funktion und es muss lediglich eine funktion drum herum geschrieben werden, die das Schema an das Modell anpasst."
   ]
  },
  {
   "cell_type": "markdown",
   "metadata": {
    "pycharm": {
     "name": "#%% md\n"
    }
   },
   "source": [
    "DataCollators sind eine Funktion von `datasets` um weitere funktionen zu der Konvertierungs-Pipeline hinzuzufügen. In diesem Fall ist er nur ein Hilfswerkzeug zur generierung der Datensätze"
   ]
  },
  {
   "cell_type": "code",
   "execution_count": 46,
   "metadata": {
    "pycharm": {
     "name": "#%%\n"
    }
   },
   "outputs": [],
   "source": [
    "data_collator = DefaultDataCollator(return_tensors=\"tf\")\n",
    "BATCH_SIZE = 4"
   ]
  },
  {
   "cell_type": "code",
   "execution_count": 47,
   "metadata": {
    "pycharm": {
     "name": "#%%\n"
    }
   },
   "outputs": [],
   "source": [
    "train = tweets_ds['train'].to_tf_dataset(\n",
    "    columns=[\"attention_mask\", \"input_ids\", \"labels\"],\n",
    "    shuffle=True,\n",
    "    batch_size=BATCH_SIZE,\n",
    "    collate_fn=data_collator,\n",
    ")\n",
    "test = tweets_ds['test'].to_tf_dataset(\n",
    "    columns=[\"attention_mask\", \"input_ids\", \"labels\"],\n",
    "    shuffle=False,\n",
    "    batch_size=BATCH_SIZE,\n",
    "    collate_fn=data_collator,\n",
    ")"
   ]
  },
  {
   "cell_type": "code",
   "execution_count": 48,
   "metadata": {
    "pycharm": {
     "name": "#%%\n"
    }
   },
   "outputs": [],
   "source": [
    "distil_train = distil_tweets_ds['train'].to_tf_dataset(\n",
    "    columns=[\"attention_mask\", \"input_ids\", \"labels\"],\n",
    "    shuffle=True,\n",
    "    batch_size=BATCH_SIZE,\n",
    "    collate_fn=data_collator,\n",
    ")\n",
    "distil_test = distil_tweets_ds['test'].to_tf_dataset(\n",
    "    columns=[\"attention_mask\", \"input_ids\", \"labels\"],\n",
    "    shuffle=False,\n",
    "    batch_size=BATCH_SIZE,\n",
    "    collate_fn=data_collator,\n",
    ")"
   ]
  },
  {
   "cell_type": "markdown",
   "metadata": {
    "pycharm": {
     "name": "#%% md\n"
    }
   },
   "source": [
    "Für das Training werden einige Hyperparameter benötigt, die nicht manuell angepasst werden. Zudem wird der Datensatz in Batches unterteilt, damit Stochastic Gradient verwendet wird."
   ]
  },
  {
   "cell_type": "code",
   "execution_count": 51,
   "metadata": {
    "pycharm": {
     "name": "#%%\n"
    }
   },
   "outputs": [],
   "source": [
    "BUFFER_SIZE = len(train)\n",
    "DISTIL_BUFFER_SIZE = len(distil_train)"
   ]
  },
  {
   "cell_type": "code",
   "execution_count": 52,
   "metadata": {
    "pycharm": {
     "name": "#%%\n"
    }
   },
   "outputs": [],
   "source": [
    "distil_train = distil_train.shuffle(len(distil_train))\n",
    "train = train.shuffle(len(train))"
   ]
  },
  {
   "cell_type": "markdown",
   "metadata": {
    "pycharm": {
     "name": "#%% md\n"
    }
   },
   "source": [
    "Die Modelle von `transformers` sind mit Tensorflow kompatibel und lassen sich über die Bibliothek einfach laden"
   ]
  },
  {
   "cell_type": "code",
   "execution_count": null,
   "metadata": {
    "pycharm": {
     "is_executing": true,
     "name": "#%%\n"
    }
   },
   "outputs": [],
   "source": [
    "model = TFGPT2LMHeadModel.from_pretrained(\n",
    "    \"gpt2\",\n",
    "    pad_token_id=tokenizer.pad_token_id,\n",
    "    eos_token_id=tokenizer.eos_token_id,\n",
    "    bos_token_id=tokenizer.bos_token_id,\n",
    ")\n",
    "distil_model = TFGPT2LMHeadModel.from_pretrained(\n",
    "    \"distilgpt2\",\n",
    "    pad_token_id=tokenizer.pad_token_id,\n",
    "    eos_token_id=tokenizer.eos_token_id,\n",
    "    bos_token_id=tokenizer.bos_token_id,\n",
    ")\n",
    "\n",
    "# Weil die anzahl der Standard Tokens im Tokenizer angepasst wurde, müssen auch die Größen der ersten Layer angepasst werden.\n",
    "model.resize_token_embeddings(len(tokenizer))\n",
    "distil_model.resize_token_embeddings(len(distil_tokenizer))"
   ]
  },
  {
   "cell_type": "markdown",
   "metadata": {
    "pycharm": {
     "name": "#%% md\n"
    }
   },
   "source": [
    "Der am meisten genutzte Optimizer ist Adam. Dieser wird auch in GPT-2 und dementprechen duach hier verwendet. Die Parameter sind die, die auch im Grundtraining von Tensorflow verwendet werden."
   ]
  },
  {
   "cell_type": "code",
   "execution_count": 55,
   "metadata": {
    "pycharm": {
     "name": "#%%\n"
    }
   },
   "outputs": [
    {
     "name": "stderr",
     "output_type": "stream",
     "text": [
      "No loss specified in compile() - the model's internal loss computation will be used as the loss. Don't panic - this is a common way to train TensorFlow models in Transformers! To disable this behaviour, please pass a loss argument, or explicitly pass `loss=None` if you do not want your model to compute a loss.\n"
     ]
    },
    {
     "name": "stdout",
     "output_type": "stream",
     "text": [
      "Model: \"tfgpt2lm_head_model\"\n",
      "_________________________________________________________________\n",
      " Layer (type)                Output Shape              Param #   \n",
      "=================================================================\n",
      " transformer (TFGPT2MainLaye  multiple                 124442880 \n",
      " r)                                                              \n",
      "                                                                 \n",
      "=================================================================\n",
      "Total params: 124,442,880\n",
      "Trainable params: 124,442,880\n",
      "Non-trainable params: 0\n",
      "_________________________________________________________________\n"
     ]
    }
   ],
   "source": [
    "optimizer = AdamWeightDecay(learning_rate=2e-5, weight_decay_rate=0.01)\n",
    "model.compile(optimizer=optimizer)\n",
    "model.summary()"
   ]
  },
  {
   "cell_type": "code",
   "execution_count": 56,
   "metadata": {
    "pycharm": {
     "name": "#%%\n"
    }
   },
   "outputs": [
    {
     "name": "stderr",
     "output_type": "stream",
     "text": [
      "No loss specified in compile() - the model's internal loss computation will be used as the loss. Don't panic - this is a common way to train TensorFlow models in Transformers! To disable this behaviour, please pass a loss argument, or explicitly pass `loss=None` if you do not want your model to compute a loss.\n"
     ]
    },
    {
     "name": "stdout",
     "output_type": "stream",
     "text": [
      "Model: \"tfgpt2lm_head_model_1\"\n",
      "_________________________________________________________________\n",
      " Layer (type)                Output Shape              Param #   \n",
      "=================================================================\n",
      " transformer (TFGPT2MainLaye  multiple                 81915648  \n",
      " r)                                                              \n",
      "                                                                 \n",
      "=================================================================\n",
      "Total params: 81,915,648\n",
      "Trainable params: 81,915,648\n",
      "Non-trainable params: 0\n",
      "_________________________________________________________________\n"
     ]
    }
   ],
   "source": [
    "distil_optimizer = AdamWeightDecay(learning_rate=1e-6, weight_decay_rate=0.01)\n",
    "distil_model.compile(optimizer=distil_optimizer)\n",
    "distil_model.summary()"
   ]
  },
  {
   "cell_type": "markdown",
   "metadata": {
    "pycharm": {
     "name": "#%% md\n"
    }
   },
   "source": [
    "Wie zu sehen, hat das `distil_model` deutlich weniger Parameter als das normale Modell. In diesem Fall sind es aber nicht wie angegeben die Häflte sondern etwas mehr."
   ]
  },
  {
   "cell_type": "markdown",
   "metadata": {},
   "source": [
    "Mit der `fit` Funktion wird das Training gestartet. Bei GPT-2 dauert es etwa 1-2h auf einem MacBook Pro mit Intel Core i9 ohne GPU Beschleunigung. Mit der Hardware Beschleunigung einer GTX 1070 lässt sich diese Zeit auf wenige Minuten kürzen."
   ]
  },
  {
   "cell_type": "code",
   "execution_count": 84,
   "metadata": {
    "pycharm": {
     "name": "#%%\n"
    }
   },
   "outputs": [
    {
     "name": "stdout",
     "output_type": "stream",
     "text": [
      "Epoch 1/6\n",
      "244/244 [==============================] - 66s 203ms/step - loss: 2.3092\n",
      "Epoch 2/6\n",
      "244/244 [==============================] - 49s 202ms/step - loss: 1.2153\n",
      "Epoch 3/6\n",
      "244/244 [==============================] - 49s 200ms/step - loss: 1.0298\n",
      "Epoch 4/6\n",
      "244/244 [==============================] - 49s 202ms/step - loss: 1.0258\n",
      "Epoch 5/6\n",
      "244/244 [==============================] - 49s 201ms/step - loss: 0.9704\n",
      "Epoch 6/6\n",
      "244/244 [==============================] - 49s 200ms/step - loss: 0.9624\n"
     ]
    }
   ],
   "source": [
    "model_hist = model.fit(\n",
    "    train.repeat(),\n",
    "    epochs=6,\n",
    "    steps_per_epoch=BUFFER_SIZE / BATCH_SIZE,\n",
    ")"
   ]
  },
  {
   "cell_type": "markdown",
   "metadata": {
    "pycharm": {
     "name": "#%% md\n"
    }
   },
   "source": [
    "Das Modell lässt sich speichern, die Funktion sind aber auskommentiert, damit nicht aus versehen ein exisiterendes Modell überschrieben wird."
   ]
  },
  {
   "cell_type": "code",
   "execution_count": 85,
   "metadata": {
    "pycharm": {
     "name": "#%%\n"
    }
   },
   "outputs": [],
   "source": [
    "#model.save_pretrained(\"./MUSK_GPT_UNOPTIMIZED\")"
   ]
  },
  {
   "cell_type": "markdown",
   "metadata": {
    "pycharm": {
     "name": "#%% md\n"
    }
   },
   "source": [
    "Das Training von GPT-2 dauert mit dem MacBook unter 15 Minuten."
   ]
  },
  {
   "cell_type": "code",
   "execution_count": 75,
   "metadata": {
    "pycharm": {
     "name": "#%%\n"
    }
   },
   "outputs": [
    {
     "data": {
      "text/plain": [
       "<PrefetchDataset element_spec={'labels': TensorSpec(shape=(4, None), dtype=tf.int64, name=None), 'input_ids': TensorSpec(shape=(4, None), dtype=tf.int64, name=None), 'attention_mask': TensorSpec(shape=(4, None), dtype=tf.int64, name=None)}>"
      ]
     },
     "execution_count": 75,
     "metadata": {},
     "output_type": "execute_result"
    }
   ],
   "source": [
    "distil_train"
   ]
  },
  {
   "cell_type": "code",
   "execution_count": 76,
   "metadata": {
    "pycharm": {
     "name": "#%%\n"
    }
   },
   "outputs": [
    {
     "name": "stdout",
     "output_type": "stream",
     "text": [
      "Epoch 1/6\n",
      "244/244 [==============================] - 39s 161ms/step - loss: 1.8267 - val_loss: 1.7123\n",
      "Epoch 2/6\n",
      "244/244 [==============================] - 39s 159ms/step - loss: 1.7179 - val_loss: 1.5952\n",
      "Epoch 3/6\n",
      "244/244 [==============================] - 39s 159ms/step - loss: 1.5829 - val_loss: 1.5181\n",
      "Epoch 4/6\n",
      "244/244 [==============================] - 39s 159ms/step - loss: 1.5108 - val_loss: 1.4564\n",
      "Epoch 5/6\n",
      "244/244 [==============================] - 40s 162ms/step - loss: 1.4772 - val_loss: 1.3998\n",
      "Epoch 6/6\n",
      "244/244 [==============================] - 39s 160ms/step - loss: 1.4880 - val_loss: 1.3570\n"
     ]
    }
   ],
   "source": [
    "distil_model_hist = distil_model.fit(\n",
    "    distil_train.repeat(),\n",
    "    epochs=6,\n",
    "    steps_per_epoch= DISTIL_BUFFER_SIZE / BATCH_SIZE,\n",
    "    validation_data=distil_test,\n",
    ")"
   ]
  },
  {
   "cell_type": "code",
   "execution_count": 77,
   "metadata": {
    "pycharm": {
     "name": "#%%\n"
    }
   },
   "outputs": [],
   "source": [
    "#distil_model.save_pretrained(\"./MUSK_DISTIL_GPT_UNOPTIMIZED\")"
   ]
  },
  {
   "cell_type": "markdown",
   "metadata": {
    "pycharm": {
     "name": "#%% md\n"
    }
   },
   "source": [
    "## Hyperparameter Optimierung\n",
    "Hyperparameter Optimierung hat bei generativen Sprachemodellen nur einen geringen Einfluss. Ein Modell ist aufgrund schlechterer Metriken, in der Wahrnehmung eines Menschen zwangsläufig schlechter. Im Voraus lässt sich dazu allerdings kein Beurteilung machen. Sie wird aber trotzdem durchgeführt, weil sie für Machine Learning im allgemeinen obligatorisch ist. In diesem Fall wird das Framework KerasTrainer verwendet. Die Parameter die optimiert werden sollen sind die Batch Size, die Learning Rate, der Weight Decay und die anzahl der Epochen. Aufgrund des hohen Zeitaufwandes und des hohen Energieverbrauchs des Hyperparametertunings, gibt es nur einen sehr eng begrenzten Suchbereich. Dieser wird auch nicht erweitert, wenn die optimalen Werte ganz außen sind."
   ]
  },
  {
   "cell_type": "code",
   "execution_count": 57,
   "metadata": {
    "pycharm": {
     "name": "#%%\n"
    }
   },
   "outputs": [],
   "source": [
    "import keras_tuner as kt"
   ]
  },
  {
   "cell_type": "code",
   "execution_count": 58,
   "metadata": {
    "pycharm": {
     "name": "#%%\n"
    }
   },
   "outputs": [],
   "source": [
    "#tunable parameters\n",
    "batch_size=16\n",
    "lr=2e-5\n",
    "num_train_epochs=5"
   ]
  },
  {
   "cell_type": "code",
   "execution_count": 59,
   "metadata": {
    "pycharm": {
     "name": "#%%\n"
    }
   },
   "outputs": [],
   "source": [
    "#https://wandb.ai/amogkam/transformers/reports/Hyperparameter-Optimization-for-Huggingface-Transformers--VmlldzoyMTc2ODI\n",
    "class Musk_Model(kt.HyperModel):\n",
    "\n",
    "    def __init__(self, huggingface_model='gpt2', name=None, tunable=True):\n",
    "        self.huggingface_model = huggingface_model\n",
    "        super().__init__(name, tunable)\n",
    "\n",
    "    def build(self, hp: kt.HyperParameters):\n",
    "        self.BATCH_SIZE = hp.Choice('batch_size',[4,8,16,32])\n",
    "        model = TFGPT2LMHeadModel.from_pretrained(\n",
    "            self.huggingface_model,\n",
    "            pad_token_id=tokenizer.pad_token_id,\n",
    "            eos_token_id=tokenizer.eos_token_id,\n",
    "            bos_token_id=tokenizer.bos_token_id,\n",
    "        )\n",
    "        model.resize_token_embeddings(len(tokenizer))\n",
    "        optimizer = AdamWeightDecay(learning_rate=hp.Choice('learning_rate', [2e-5, 3e-5, 5e-5, 7e-5]), weight_decay_rate=hp.Choice('weight_decay_rate',[0.0,0.01, 0.001,0.1]))\n",
    "        model.compile(optimizer=optimizer)\n",
    "        return model\n",
    "    def fit(self, hp: kt.HyperParameters, model, *args, **kwargs):\n",
    "        return model.fit(\n",
    "            train.repeat(),\n",
    "            batch_size= self.BATCH_SIZE,\n",
    "            epochs=hp.Int('epochs',min_value=2, max_value=8),\n",
    "            steps_per_epoch=BUFFER_SIZE / self.BATCH_SIZE,\n",
    "            validation_data=test,\n",
    "        )\n"
   ]
  },
  {
   "cell_type": "markdown",
   "metadata": {
    "pycharm": {
     "name": "#%% md\n"
    }
   },
   "source": [
    "Als Optimierungsalgorithmus wird Bayesche Optimierung genutzt. Dies ist eine gute Balance zwischen Zeitaufwand, Entwicklungsaufwand und Qualität der Ergebnisse. Mit `val_loss` als objective wird der Validierungsdatensatz als Zielwert verwendet."
   ]
  },
  {
   "cell_type": "code",
   "execution_count": 107,
   "metadata": {
    "pycharm": {
     "name": "#%%\n"
    }
   },
   "outputs": [
    {
     "name": "stderr",
     "output_type": "stream",
     "text": [
      "All model checkpoint layers were used when initializing TFGPT2LMHeadModel.\n",
      "\n",
      "All the layers of TFGPT2LMHeadModel were initialized from the model checkpoint at gpt2.\n",
      "If your task is similar to the task the model of the checkpoint was trained on, you can already use TFGPT2LMHeadModel for predictions without further training.\n",
      "No loss specified in compile() - the model's internal loss computation will be used as the loss. Don't panic - this is a common way to train TensorFlow models in Transformers! To disable this behaviour, please pass a loss argument, or explicitly pass `loss=None` if you do not want your model to compute a loss.\n"
     ]
    },
    {
     "name": "stdout",
     "output_type": "stream",
     "text": [
      "Search space summary\n",
      "Default search space size: 3\n",
      "batch_size (Choice)\n",
      "{'default': 4, 'conditions': [], 'values': [4, 8, 16, 32], 'ordered': True}\n",
      "learning_rate (Choice)\n",
      "{'default': 2e-05, 'conditions': [], 'values': [2e-05, 3e-05, 5e-05, 7e-05], 'ordered': True}\n",
      "weight_decay_rate (Choice)\n",
      "{'default': 0.0, 'conditions': [], 'values': [0.0, 0.01, 0.001, 0.1], 'ordered': True}\n"
     ]
    }
   ],
   "source": [
    "tuner = kt.BayesianOptimization(\n",
    "    hypermodel=Musk_Model(),\n",
    "    objective=\"val_loss\",\n",
    "    max_trials=8,\n",
    "    overwrite=True,\n",
    "    directory=\"hyper-opt/\",\n",
    "    project_name=\"tune_tweet_generation\",\n",
    ")\n",
    "tuner.search_space_summary()"
   ]
  },
  {
   "cell_type": "code",
   "execution_count": 73,
   "metadata": {
    "pycharm": {
     "name": "#%%\n"
    }
   },
   "outputs": [
    {
     "name": "stdout",
     "output_type": "stream",
     "text": [
      "Trial 8 Complete [00h 04m 20s]\n",
      "val_loss: 0.9074983596801758\n",
      "\n",
      "Best val_loss So Far: 0.8868565559387207\n",
      "Total elapsed time: 00h 44m 09s\n",
      "INFO:tensorflow:Oracle triggered exit\n"
     ]
    }
   ],
   "source": [
    "tuner.search()\n",
    "best_hp: kt.engine.hyperparameters.HyperParameters = tuner.get_best_hyperparameters()[0]\n",
    "best_hp.values"
   ]
  },
  {
   "cell_type": "code",
   "execution_count": null,
   "metadata": {
    "pycharm": {
     "is_executing": true,
     "name": "#%%\n"
    }
   },
   "outputs": [],
   "source": [
    "hyper_model = Musk_Model()\n",
    "optimized_model = hyper_model.build(best_hp)\n",
    "optimized_hist = hyper_model.fit(best_hp,optimized_model)"
   ]
  },
  {
   "cell_type": "code",
   "execution_count": 78,
   "metadata": {
    "pycharm": {
     "name": "#%%\n"
    }
   },
   "outputs": [],
   "source": [
    "#optimized_model.save_pretrained(\"./MUSK_GPT_OPTIMIZED\")"
   ]
  },
  {
   "cell_type": "markdown",
   "metadata": {},
   "source": [
    "Hier lässt sich der Loss über den Zeitraum aller Iterationen beim optimiertenModell betrachten. Der Validierungs-Datensatz wird dabei immer nur ein Wenig besser, während das Modell im Trainingsdatensatz schnell besser und am Ende ein wenig schlechter wird."
   ]
  },
  {
   "cell_type": "code",
   "execution_count": 82,
   "metadata": {
    "pycharm": {
     "name": "#%%\n"
    }
   },
   "outputs": [
    {
     "data": {
      "image/png": "[encoded data removed]",
      "text/plain": [
       "<Figure size 432x288 with 1 Axes>"
      ]
     },
     "metadata": {
      "needs_background": "light"
     },
     "output_type": "display_data"
    }
   ],
   "source": [
    "plt.plot(optimized_hist.history['loss'], label=\"Loss über die Epochen\")\n",
    "plt.plot(optimized_hist.history['val_loss'], label=\"Validierungs-Loss über die Epochen\")\n",
    "plt.legend()\n",
    "plt.show()"
   ]
  },
  {
   "cell_type": "markdown",
   "metadata": {},
   "source": [
    "Auch das Tuning der Hyperparameter wird mit \"distilgpt2\" wiederholt. Die benötigte Zeit ist hiet deutlich geringer. Zur Vergleichbarkeit werden aber auch hier die gleichen Strategien angewendet."
   ]
  },
  {
   "cell_type": "code",
   "execution_count": null,
   "metadata": {
    "pycharm": {
     "name": "#%%\n"
    }
   },
   "outputs": [],
   "source": [
    "distil_tuner = kt.BayesianOptimization(\n",
    "    hypermodel=Musk_Model(huggingface_model='distilgpt2'),\n",
    "    objective=\"val_loss\",\n",
    "    max_trials=8,\n",
    "    overwrite=True,\n",
    "    directory=\"hyper-opt/\",\n",
    "    project_name=\"tune_distil_tweet_generation\",\n",
    ")"
   ]
  },
  {
   "cell_type": "code",
   "execution_count": 61,
   "metadata": {
    "pycharm": {
     "name": "#%%\n"
    }
   },
   "outputs": [
    {
     "name": "stdout",
     "output_type": "stream",
     "text": [
      "Trial 8 Complete [00h 02m 30s]\n",
      "val_loss: 0.9383436441421509\n",
      "\n",
      "Best val_loss So Far: 0.9278596639633179\n",
      "Total elapsed time: 00h 28m 35s\n",
      "INFO:tensorflow:Oracle triggered exit\n"
     ]
    }
   ],
   "source": [
    "distil_tuner.search()"
   ]
  },
  {
   "cell_type": "code",
   "execution_count": 62,
   "metadata": {
    "pycharm": {
     "name": "#%%\n"
    }
   },
   "outputs": [
    {
     "data": {
      "text/plain": [
       "{'batch_size': 4,\n",
       " 'learning_rate': 7e-05,\n",
       " 'weight_decay_rate': 0.1,\n",
       " 'epochs': 8}"
      ]
     },
     "execution_count": 62,
     "metadata": {},
     "output_type": "execute_result"
    }
   ],
   "source": [
    "best_d_hp: kt.engine.hyperparameters.HyperParameters = distil_tuner.get_best_hyperparameters()[0]\n",
    "best_d_hp.values"
   ]
  },
  {
   "cell_type": "code",
   "execution_count": 65,
   "metadata": {
    "pycharm": {
     "name": "#%%\n"
    }
   },
   "outputs": [
    {
     "name": "stderr",
     "output_type": "stream",
     "text": [
      "All model checkpoint layers were used when initializing TFGPT2LMHeadModel.\n",
      "\n",
      "All the layers of TFGPT2LMHeadModel were initialized from the model checkpoint at gpt2.\n",
      "If your task is similar to the task the model of the checkpoint was trained on, you can already use TFGPT2LMHeadModel for predictions without further training.\n",
      "No loss specified in compile() - the model's internal loss computation will be used as the loss. Don't panic - this is a common way to train TensorFlow models in Transformers! To disable this behaviour, please pass a loss argument, or explicitly pass `loss=None` if you do not want your model to compute a loss.\n"
     ]
    },
    {
     "name": "stdout",
     "output_type": "stream",
     "text": [
      "Epoch 1/8\n",
      "244/244 [==============================] - 79s 261ms/step - loss: 1.7410 - val_loss: 1.0410\n",
      "Epoch 2/8\n",
      "244/244 [==============================] - 61s 251ms/step - loss: 1.0790 - val_loss: 0.9673\n",
      "Epoch 3/8\n",
      "244/244 [==============================] - 61s 251ms/step - loss: 0.9805 - val_loss: 0.9487\n",
      "Epoch 4/8\n",
      "244/244 [==============================] - 62s 253ms/step - loss: 0.9648 - val_loss: 0.9196\n",
      "Epoch 5/8\n",
      "244/244 [==============================] - 61s 251ms/step - loss: 0.8874 - val_loss: 0.9142\n",
      "Epoch 6/8\n",
      "244/244 [==============================] - 61s 251ms/step - loss: 0.8540 - val_loss: 0.9032\n",
      "Epoch 7/8\n",
      "244/244 [==============================] - 61s 251ms/step - loss: 0.8446 - val_loss: 0.8976\n",
      "Epoch 8/8\n",
      "244/244 [==============================] - 61s 251ms/step - loss: 0.8460 - val_loss: 0.8940\n"
     ]
    }
   ],
   "source": [
    "distil_hyper_model = Musk_Model()\n",
    "optimized_distil_model = distil_hyper_model.build(best_d_hp)\n",
    "optimized_distil_hist = distil_hyper_model.fit(best_d_hp,optimized_distil_model)"
   ]
  },
  {
   "cell_type": "markdown",
   "metadata": {
    "pycharm": {
     "name": "#%% md\n"
    }
   },
   "source": [
    "Beide Modelle erreichen letztendlich einen ähnlichen Validation loss, dies sagt aber wenig über die allgemeine Qualität des Modells aus."
   ]
  },
  {
   "cell_type": "code",
   "execution_count": 66,
   "metadata": {
    "pycharm": {
     "name": "#%%\n"
    }
   },
   "outputs": [],
   "source": [
    "#optimized_distil_model.save_pretrained('./MUSK_DISTIL_GPT_OPTIMIZED')"
   ]
  },
  {
   "cell_type": "markdown",
   "metadata": {},
   "source": [
    "## Modelle laden und Inferencing"
   ]
  },
  {
   "cell_type": "markdown",
   "metadata": {},
   "source": [
    "Die Modelle können nun geladen werden und Ergebnisse produziert werden"
   ]
  },
  {
   "cell_type": "code",
   "execution_count": 68,
   "metadata": {
    "pycharm": {
     "name": "#%%\n"
    }
   },
   "outputs": [
    {
     "name": "stderr",
     "output_type": "stream",
     "text": [
      "All model checkpoint layers were used when initializing TFGPT2LMHeadModel.\n",
      "\n",
      "All the layers of TFGPT2LMHeadModel were initialized from the model checkpoint at ./MUSK_GPT_OPTIMIZED.\n",
      "If your task is similar to the task the model of the checkpoint was trained on, you can already use TFGPT2LMHeadModel for predictions without further training.\n",
      "All model checkpoint layers were used when initializing TFGPT2LMHeadModel.\n",
      "\n",
      "All the layers of TFGPT2LMHeadModel were initialized from the model checkpoint at ./MUSK_DISTIL_GPT_UNOPTIMIZED.\n",
      "If your task is similar to the task the model of the checkpoint was trained on, you can already use TFGPT2LMHeadModel for predictions without further training.\n",
      "All model checkpoint layers were used when initializing TFGPT2LMHeadModel.\n",
      "\n",
      "All the layers of TFGPT2LMHeadModel were initialized from the model checkpoint at ./MUSK_GPT_OPTIMIZED.\n",
      "If your task is similar to the task the model of the checkpoint was trained on, you can already use TFGPT2LMHeadModel for predictions without further training.\n",
      "All model checkpoint layers were used when initializing TFGPT2LMHeadModel.\n",
      "\n",
      "All the layers of TFGPT2LMHeadModel were initialized from the model checkpoint at ./MUSK_DISTIL_GPT_OPTIMIZED.\n",
      "If your task is similar to the task the model of the checkpoint was trained on, you can already use TFGPT2LMHeadModel for predictions without further training.\n"
     ]
    }
   ],
   "source": [
    "model = TFGPT2LMHeadModel.from_pretrained(\"./MUSK_GPT_OPTIMIZED\")\n",
    "distil_model = TFGPT2LMHeadModel.from_pretrained(\"./MUSK_DISTIL_GPT_UNOPTIMIZED\")\n",
    "optimized_model = TFGPT2LMHeadModel.from_pretrained(\"./MUSK_GPT_OPTIMIZED\")\n",
    "optimized_distil_model = TFGPT2LMHeadModel.from_pretrained(\"./MUSK_DISTIL_GPT_OPTIMIZED\")"
   ]
  },
  {
   "cell_type": "code",
   "execution_count": 103,
   "metadata": {
    "pycharm": {
     "name": "#%%\n"
    }
   },
   "outputs": [],
   "source": [
    "BOS_TOKEN = \"<|elontext|>\"\n",
    "default_gen = pipeline(\"text-generation\", model='gpt2')\n",
    "gen = pipeline(\"text-generation\", model=model, tokenizer=tokenizer)\n",
    "distil_gen= pipeline('text-generation', model=distil_model, tokenizer=distil_tokenizer)\n",
    "opt_gen = pipeline('text-generation', model=optimized_model, tokenizer=tokenizer)\n",
    "opt_distil_gen = pipeline('text-generation', model=optimized_distil_model, tokenizer=distil_tokenizer)"
   ]
  },
  {
   "cell_type": "markdown",
   "metadata": {
    "pycharm": {
     "name": "#%% md\n"
    }
   },
   "source": [
    "## Modell Evaluierung\n",
    "Mit den zuvor festgelegt Prompt lässt sich nun Text generieren. Die Texte von GPT-2 sind zwar manchmal etwas verwirrend und ergeben inhaltlich keinen besonderen Sinn, sind aber grammatikalisch meißt korrekt und passen auch zu Elon Musks sonstigen Tweets."
   ]
  },
  {
   "cell_type": "code",
   "execution_count": 104,
   "metadata": {
    "pycharm": {
     "name": "#%%\n"
    }
   },
   "outputs": [
    {
     "name": "stderr",
     "output_type": "stream",
     "text": [
      "Setting `pad_token_id` to `eos_token_id`:50256 for open-end generation.\n"
     ]
    },
    {
     "data": {
      "text/plain": [
       "[{'generated_text': '<|elontext|>\\n\\n<|b| | | a| |.\\n\\n:a b|\\n\\n.:c\\n\\n.||.\\n\\n|:m b|\\n\\n.|c\\n\\n'}]"
      ]
     },
     "execution_count": 104,
     "metadata": {},
     "output_type": "execute_result"
    }
   ],
   "source": [
    "#default model\n",
    "default_gen(BOS_TOKEN)"
   ]
  },
  {
   "cell_type": "code",
   "execution_count": null,
   "metadata": {
    "pycharm": {
     "name": "#%%\n"
    }
   },
   "outputs": [],
   "source": [
    "#default model mit tweet prompt"
   ]
  },
  {
   "cell_type": "code",
   "execution_count": 76,
   "metadata": {
    "pycharm": {
     "name": "#%%\n"
    }
   },
   "outputs": [
    {
     "data": {
      "text/plain": [
       "[{'generated_text': '<|elontext|>@jones3 @Gatorade No problem'}]"
      ]
     },
     "execution_count": 76,
     "metadata": {},
     "output_type": "execute_result"
    }
   ],
   "source": [
    "# trainiertes modell\n",
    "gen(BOS_TOKEN)"
   ]
  },
  {
   "cell_type": "code",
   "execution_count": null,
   "metadata": {
    "pycharm": {
     "name": "#%%\n"
    }
   },
   "outputs": [],
   "source": [
    "#trainiertes modell mit tweet prompt"
   ]
  },
  {
   "cell_type": "code",
   "execution_count": 73,
   "metadata": {
    "pycharm": {
     "name": "#%%\n"
    }
   },
   "outputs": [
    {
     "data": {
      "text/plain": [
       "[{'generated_text': '<|elontext|>@IDGAA That would be worth a lot of money.'}]"
      ]
     },
     "execution_count": 73,
     "metadata": {},
     "output_type": "execute_result"
    }
   ],
   "source": [
    "#trainiertes modell mit hyperparameter tuning\n",
    "opt_gen(BOS_TOKEN)"
   ]
  },
  {
   "cell_type": "markdown",
   "metadata": {
    "pycharm": {
     "name": "#%% md\n"
    }
   },
   "source": [
    "Das Distil-GPT-2 Modell ist im Gegensatz dazu eher unbrauchbar. Die Texte ergeben keinen Sinn und haben keinen Zusammenhang. Das zeigt sich vor allem auch darin, dass die Texte grammatikalische starke Schwächen haben, was bei GPT2 nicht der Fall ist.\n",
    " Dieser qualitative Unterschied bestätigt, dass der Loss kein besonders guter Indikator für die Qualität des Modells."
   ]
  },
  {
   "cell_type": "code",
   "execution_count": 74,
   "metadata": {
    "pycharm": {
     "name": "#%%\n"
    }
   },
   "outputs": [
    {
     "data": {
      "text/plain": [
       "[{'generated_text': '<|elontext|> is a personal injury, and is a with a non-cabin in the trunk, and is a one-piece container.'}]"
      ]
     },
     "execution_count": 74,
     "metadata": {},
     "output_type": "execute_result"
    }
   ],
   "source": [
    "#trainiertes distilgpt2 modell mit hyperparamerter tuning\n",
    "distil_gen(BOS_TOKEN)"
   ]
  },
  {
   "cell_type": "markdown",
   "metadata": {},
   "source": [
    "Das wird mit dem optimierten Modell ein wenig besser, allerdings gibt es auch hier keinen wirklichen Zusammenhang."
   ]
  },
  {
   "cell_type": "code",
   "execution_count": 80,
   "metadata": {
    "pycharm": {
     "name": "#%%\n"
    }
   },
   "outputs": [
    {
     "data": {
      "text/plain": [
       "[{'generated_text': \"<|elontext|>First time making a Model 3.0. Autopilot is great. Hopefully by then we're all fine.\"}]"
      ]
     },
     "execution_count": 80,
     "metadata": {},
     "output_type": "execute_result"
    }
   ],
   "source": [
    "#trainiertes distilgpt2 modell mit hyperparamerter tuning mit tweet prompt\n",
    "opt_distil_gen(BOS_TOKEN)"
   ]
  },
  {
   "cell_type": "markdown",
   "metadata": {
    "pycharm": {
     "name": "#%% md\n"
    }
   },
   "source": [
    "Stattdessen ist eine Evaluierung interessant, in der getestet wird, ob eine Gruppe aus Studierenden der Wirtschaftsinformatik die generierten Tweets von den echten Tweets unterscheiden können.\n",
    "Für diese Evaluierung wurden zufällig Paare aus echten Tweets und und falschen Tweets erstellt. Den Studierenden wurde der Auftrag gegeben, den echten Tweet von beiden zu bestimmen und dafür auf einer Website abzustimmen.  Die Ergebnisse wurden in einer Datenbank gespeichert. Das genutzte Modell ist dafür das erste GPT-2 Modell ohne Hyperparameter Tuning, weil dieses zu dem Zeitpunk noch nicht fertig war."
   ]
  },
  {
   "cell_type": "markdown",
   "metadata": {
    "pycharm": {
     "name": "#%% md\n"
    }
   },
   "source": [
    "Einige Beispielpaare sind:\n"
   ]
  },
  {
   "cell_type": "markdown",
   "metadata": {
    "pycharm": {
     "name": "#%% md\n"
    }
   },
   "source": [
    "Generierter Tweet \"The only way to reach me is to tweet @barned_slaming “@chris_nho\"\n",
    "Echter Tweet: \"Which leads me to my next subject of gun control ... just kidding\"\n",
    "\n",
    "Generierter Tweet: \"️ Thanks for a great AMA!\",\"real\":\n",
    "Echter Tweet: \"1st firing of Falcon 9-R advanced prototype rocket. Over 1M lbs thrust, enough to lift skyscraper  http://t.co/AUCsWTw77E\"\n",
    "\n",
    "Generierter Tweet: \"I'd love to make a nice big rock on ice! Maybe some great ice cream!\"\n",
    "Echter Tweet:\"@MaxMBerger The collective wisdom of the market is usually (not always) better than the smartest govt regulator.\""
   ]
  },
  {
   "cell_type": "markdown",
   "metadata": {
    "pycharm": {
     "name": "#%% md\n"
    }
   },
   "source": [
    "Bei der Abstimmung konnte GPT-2 zwar in weniger Fällen täuschen, dies ist aber zu erwarten, weil GPT-2 natürlich kein echter Mensch ist sondern noch immer ein Sprachmodell, das nur Sprache aber keine Inhalte versteht. Trotzdem ist die Anzahl der als falsch als echt benannten Tweets betrachtlich und Zeigt auch, dass es nicht unmöglich ist Menschen zu täuschen."
   ]
  },
  {
   "cell_type": "markdown",
   "metadata": {
    "pycharm": {
     "name": "#%% md\n"
    }
   },
   "source": [
    "## Auswahl eines Modells für eine Evaluierung mit Testsubjekten\n",
    "Mit einer Gruppe Studierender soll evaluiert werden ob es mit dem Modell möglich ist tweets zu generieren, die von echten Tweets nicht zu unterscheiden sind, dafür soll eines der Modelle ausgewählt werden.\n",
    "Weil zum Zeitpunkt des Test noch die Hyperparameter Optimierung lief, wurde das erste Modell verwendet. Dieses ist allerdings asugereift genug, um Tweets zu generieren.\n",
    "Die Gruppe Studierender öffnet eine Website, auf der immer jeweils 2 Tweets präsentiert werden. Die Studierenden sollen auswählen, von welchem beider Tweets sie glauben, dass er echt. Es existiert die Möglichkeit, dass die Tweets auch live generiert werden. Das genutzte Modell generiert allerdings gelegntlich Tweets die leer sind oder vollständig sinnlos sind. Diese automatisch herauszufiltern wäre ein großer Aufwand gewesen. Aus diesem Grund werden für das Experiment Tweets vorher generiert und auf 65 Tweets gekürzt, die syntaktisch Sinn ergeben. Diese wurden dann einem echten Tweet zugeordnert und als Paar in der Datenbank gespeichert, damit sie miteinander vergleichbar sind.\n",
    "\n",
    "Insgesamt wurde 78 Mal geraten, es gab also auch Tweets, die doppelt verwendet wurden. Dabei wurde 34 Mal der Falsche und 44 Mal der richtige Tweet ausgewählt. Ein optimales Ergebnis wäre 39 zu 39 gewesen\n",
    "\n",
    "![Statistik Raten](experiment.png)\n",
    "\n",
    "\n",
    "Dieses Ergebnis lässt sich aus zwei Perspektiven betrachten. Aus der Sicht, dass es sich um ein Modell handelt dass menschliche Sprache imitieren soll, sind die Ergebnisse relativ gut, weil es sich dabei um eine komplizierte Aufgabe handelt. Aus der Sicht, dass den 'Probanden' aber nur ein kurzer Text gegeben wird, anhand dessen die Echtheit allgemein schlecht zu unterscheiden ist, wäre ein Ergebniss näher am Optimimum wünschenswert gewesen.\n",
    "\n",
    "Einige Beispiele für generierte Tweets, die für echte Tweets gehalten wurden:\n",
    "\n",
    "Echt:\"My first prediction of 2012 has come true: ouch, my head hurts.\n",
    "\n",
    "Falsch: \" @JLobuchan @Yahoo! Will do a live demo at the Air Force Museum tonight at 3pm, where all 50 astronauts will have the opportunity to speak. Thanks to everyone!\"\n",
    "\n",
    "\n",
    "\n",
    "Echt:\"No kidding\"\n",
    "\n",
    "Falsch:\"I'm a proud Canadian proud of the incredible work of @Yahoo! I hope you guys can find a cure for cancer.  link\"\n",
    "\n",
    "\n",
    "\n",
    "Echt: \"My @SpaceX team is not working for  link link\"\n",
    "\n",
    "Falsch: \"Tesla articles 30 mins apart: \"This Stock is Screaming Buy\"  link and \"This Stock Could Get DESTROYED\"  link\""
   ]
  },
  {
   "cell_type": "markdown",
   "metadata": {
    "pycharm": {
     "name": "#%% md\n"
    }
   },
   "source": [
    "## Fazit und Ausblick\n",
    "In dieser Arbeit lies sich zeigen, dass State-of-the-Art Machine Learning Modelle dazu genutzt werden können kurze Texte zu generieren, mit denen sich Menschen in ein paar Fällen überzeugen lassen sie seien echt. Das zeigt auch, dass kurze Texte mit wenige großem Zusammenhang sehr einfach zu generieren sind\n",
    " Allerdings lassen sich noch viele Verbeserung auf dieses Modell anwenden. Es existieren noch viele andere Sprache-Modelle, die nicht verglichen wurden. Zudem gibt es verschiedene Arten, den Trainings-Datensatz zu struktuieren, was auch Einfluss auf das spätere Modell hat. Ein weiteres interessantes Experiment ist die Generierung von Antworten auf andere Tweets anhand bisheriger Antworten. Ein interessantes Experiment wäre es, mit dem Modell einen Bot zu entwickeln, der einen Twitter-Account als Elon Musk betreibt. Dies ist auch der einzige tatsächliche Use-Case, der für diese Art von Modell vorstellbar ist. Generell ist das weniger als ein sinnvolles Projekt zu sehen, sondern als eine Art Benchmark, in dem zu sehen ist, was mit heutigen Modell möglich ist. In diesem Fal hat sich gezeigt, dass Sprachmodelle zu sehr viel fähig sind, weshalb es viele Einsatzfelder für sie gibt."
   ]
  }
 ],
 "metadata": {
  "interpreter": {
   "hash": "b757419f8e9653efa3b1d0ab3e43e629cdfff8f48cf8c1e8bcae685186face11"
  },
  "kernelspec": {
   "display_name": "Python 3",
   "language": "python",
   "name": "python3"
  },
  "language_info": {
   "codemirror_mode": {
    "name": "ipython",
    "version": 3
   },
   "file_extension": ".py",
   "mimetype": "text/x-python",
   "name": "python",
   "nbconvert_exporter": "python",
   "pygments_lexer": "ipython3",
   "version": "3.10.5"
  }
 },
 "nbformat": 4,
 "nbformat_minor": 1
}