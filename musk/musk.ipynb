{
 "cells": [
  {
   "cell_type": "markdown",
   "metadata": {
    "collapsed": false,
    "pycharm": {
     "name": "#%% md\n"
    }
   },
   "source": [
    "# Warum ist es wichtig Elon Musk Tweets zu generieren?\n",
    "Elon Musk ist seit 2020 der reichste Mann der Welt. Zusätzlich ist er eine der einflussreichsten Personen auf der Plattform und baut diesen Einfluss damit aus, dass der seit 2022 der größte Anteilseigner der Plattform ist. Beim Theman Unternehmensanteile, Elon Musk und Twitter wird es auch abseits von Elon Musks persönlicher Finanzlage interessant. Musk ist bekannt dafür, in den letzten Jahren mit seinen Tweets Aktienkurse beeinflusst zu haben. Er hat beispielsweise 2002....\n",
    "Wer finanzielle Interessen hat, könnte sich davon ausgehen damit beschäftigen, ein System zu entwickeln, das anhand von Elon Musks Meinung Aktien und Optionen kauft.\n",
    "Wer finanzielle Interessen hat, sollte sich aber vielleicht auch nicht mit Elon Musks Tweets beschäftigen und denken, dass er anhand dessen der nächste Warren Buffet wird, sondern richtig arbeiten. Viel interessanter wäre es doch eigene Tweets zu generieren."
   ]
  },
  {
   "cell_type": "code",
   "execution_count": 1,
   "metadata": {
    "collapsed": false,
    "pycharm": {
     "name": "#%%\n"
    }
   },
   "outputs": [],
   "source": [
    "import numpy as np\n",
    "import pandas as pd\n",
    "from tensorflow import keras\n",
    "from sklearn.model_selection import train_test_split\n",
    "import os\n",
    "import torch"
   ]
  },
  {
   "cell_type": "code",
   "execution_count": 2,
   "metadata": {
    "collapsed": false,
    "pycharm": {
     "name": "#%%\n"
    }
   },
   "outputs": [],
   "source": [
    "tweets_from_years = {}"
   ]
  },
  {
   "cell_type": "code",
   "execution_count": 3,
   "metadata": {
    "collapsed": false,
    "pycharm": {
     "name": "#%%\n"
    }
   },
   "outputs": [
    {
     "name": "stdout",
     "output_type": "stream",
     "text": [
      "2010.csv\n",
      "2011.csv\n",
      "2012.csv\n",
      "2013.csv\n",
      "2014.csv\n",
      "2015.csv\n",
      "2016.csv\n",
      "2017.csv\n",
      "2018.csv\n",
      "2019.csv\n",
      "2020.csv\n",
      "2021.csv\n",
      "2022.csv\n"
     ]
    }
   ],
   "source": [
    "for i in os.listdir('musktweets'):\n",
    "    year = i.rstrip('.csv')\n",
    "    print(i)\n",
    "    if i == '2021.csv' or i == '2022.csv':\n",
    "        tweets_from_years[year] = pd.read_csv('musktweets/'+i)\n",
    "    else:\n",
    "        tweets_from_years[year] = pd.read_csv('musktweets/'+i, index_col='index')"
   ]
  },
  {
   "cell_type": "code",
   "execution_count": 4,
   "metadata": {
    "collapsed": false,
    "pycharm": {
     "name": "#%%\n"
    }
   },
   "outputs": [
    {
     "data": {
      "text/plain": [
       "['cashtags',\n",
       " 'conversation_id',\n",
       " 'created_at',\n",
       " 'date',\n",
       " 'day',\n",
       " 'geo',\n",
       " 'hashtags',\n",
       " 'hour',\n",
       " 'id',\n",
       " 'language',\n",
       " 'link',\n",
       " 'name',\n",
       " 'near',\n",
       " 'nlikes',\n",
       " 'nreplies',\n",
       " 'nretweets',\n",
       " 'photos',\n",
       " 'place',\n",
       " 'quote_url',\n",
       " 'reply_to',\n",
       " 'retweet',\n",
       " 'retweet_date',\n",
       " 'retweet_id',\n",
       " 'search',\n",
       " 'source',\n",
       " 'thumbnail',\n",
       " 'timezone',\n",
       " 'trans_dest',\n",
       " 'trans_src',\n",
       " 'translate',\n",
       " 'tweet',\n",
       " 'urls',\n",
       " 'user_id',\n",
       " 'user_id_str',\n",
       " 'user_rt',\n",
       " 'user_rt_id',\n",
       " 'username',\n",
       " 'video']"
      ]
     },
     "execution_count": 4,
     "metadata": {},
     "output_type": "execute_result"
    }
   ],
   "source": [
    "sorted(tweets_from_years['2020'].columns)"
   ]
  },
  {
   "cell_type": "code",
   "execution_count": 5,
   "metadata": {
    "collapsed": false,
    "pycharm": {
     "name": "#%%\n"
    }
   },
   "outputs": [
    {
     "data": {
      "text/plain": [
       "['cashtags',\n",
       " 'conversation_id',\n",
       " 'created_at',\n",
       " 'date',\n",
       " 'geo',\n",
       " 'hashtags',\n",
       " 'id',\n",
       " 'language',\n",
       " 'likes_count',\n",
       " 'link',\n",
       " 'mentions',\n",
       " 'name',\n",
       " 'near',\n",
       " 'photos',\n",
       " 'place',\n",
       " 'quote_url',\n",
       " 'replies_count',\n",
       " 'reply_to',\n",
       " 'retweet',\n",
       " 'retweet_date',\n",
       " 'retweet_id',\n",
       " 'retweets_count',\n",
       " 'source',\n",
       " 'thumbnail',\n",
       " 'time',\n",
       " 'timezone',\n",
       " 'trans_dest',\n",
       " 'trans_src',\n",
       " 'translate',\n",
       " 'tweet',\n",
       " 'urls',\n",
       " 'user_id',\n",
       " 'user_rt',\n",
       " 'user_rt_id',\n",
       " 'username',\n",
       " 'video']"
      ]
     },
     "execution_count": 5,
     "metadata": {},
     "output_type": "execute_result"
    }
   ],
   "source": [
    "sorted(tweets_from_years['2022'].columns)"
   ]
  },
  {
   "cell_type": "code",
   "execution_count": 6,
   "metadata": {
    "collapsed": false,
    "pycharm": {
     "name": "#%%\n"
    }
   },
   "outputs": [
    {
     "name": "stdout",
     "output_type": "stream",
     "text": [
      "Index(['id', 'conversation_id', 'created_at', 'date', 'timezone', 'place',\n",
      "       'tweet', 'language', 'hashtags', 'cashtags', 'user_id', 'user_id_str',\n",
      "       'username', 'name', 'day', 'hour', 'link', 'urls', 'photos', 'video',\n",
      "       'thumbnail', 'retweet', 'nlikes', 'nreplies', 'nretweets', 'quote_url',\n",
      "       'search', 'near', 'geo', 'source', 'user_rt_id', 'user_rt',\n",
      "       'retweet_id', 'reply_to', 'retweet_date', 'translate', 'trans_src',\n",
      "       'trans_dest'],\n",
      "      dtype='object')\n",
      "Index(['id', 'conversation_id', 'created_at', 'date', 'time', 'timezone',\n",
      "       'user_id', 'username', 'name', 'place', 'tweet', 'language', 'mentions',\n",
      "       'urls', 'photos', 'replies_count', 'retweets_count', 'nlikes',\n",
      "       'hashtags', 'cashtags', 'link', 'retweet', 'quote_url', 'video',\n",
      "       'thumbnail', 'near', 'geo', 'source', 'user_rt_id', 'user_rt',\n",
      "       'retweet_id', 'reply_to', 'retweet_date', 'translate', 'trans_src',\n",
      "       'trans_dest'],\n",
      "      dtype='object')\n",
      "Index(['id', 'conversation_id', 'created_at', 'date', 'time', 'timezone',\n",
      "       'user_id', 'username', 'name', 'place', 'tweet', 'language', 'mentions',\n",
      "       'urls', 'photos', 'replies_count', 'retweets_count', 'nlikes',\n",
      "       'hashtags', 'cashtags', 'link', 'retweet', 'quote_url', 'video',\n",
      "       'thumbnail', 'near', 'geo', 'source', 'user_rt_id', 'user_rt',\n",
      "       'retweet_id', 'reply_to', 'retweet_date', 'translate', 'trans_src',\n",
      "       'trans_dest'],\n",
      "      dtype='object')\n"
     ]
    }
   ],
   "source": [
    "for year in tweets_from_years:\n",
    "    if year == '2022' or year == '2021' or year == '2020':\n",
    "        tweets_from_years[year].rename(columns={'likes_count':'nlikes'}, inplace=True)\n",
    "        print(tweets_from_years[year].columns)"
   ]
  },
  {
   "cell_type": "code",
   "execution_count": 7,
   "metadata": {
    "collapsed": false,
    "pycharm": {
     "name": "#%%\n"
    }
   },
   "outputs": [
    {
     "data": {
      "text/html": [
       "<div>\n",
       "<style scoped>\n",
       "    .dataframe tbody tr th:only-of-type {\n",
       "        vertical-align: middle;\n",
       "    }\n",
       "\n",
       "    .dataframe tbody tr th {\n",
       "        vertical-align: top;\n",
       "    }\n",
       "\n",
       "    .dataframe thead th {\n",
       "        text-align: right;\n",
       "    }\n",
       "</style>\n",
       "<table border=\"1\" class=\"dataframe\">\n",
       "  <thead>\n",
       "    <tr style=\"text-align: right;\">\n",
       "      <th></th>\n",
       "      <th>id</th>\n",
       "      <th>conversation_id</th>\n",
       "      <th>created_at</th>\n",
       "      <th>date</th>\n",
       "      <th>time</th>\n",
       "      <th>timezone</th>\n",
       "      <th>user_id</th>\n",
       "      <th>username</th>\n",
       "      <th>name</th>\n",
       "      <th>place</th>\n",
       "      <th>...</th>\n",
       "      <th>geo</th>\n",
       "      <th>source</th>\n",
       "      <th>user_rt_id</th>\n",
       "      <th>user_rt</th>\n",
       "      <th>retweet_id</th>\n",
       "      <th>reply_to</th>\n",
       "      <th>retweet_date</th>\n",
       "      <th>translate</th>\n",
       "      <th>trans_src</th>\n",
       "      <th>trans_dest</th>\n",
       "    </tr>\n",
       "  </thead>\n",
       "  <tbody>\n",
       "    <tr>\n",
       "      <th>0</th>\n",
       "      <td>1476662222617251846</td>\n",
       "      <td>1476620230692679680</td>\n",
       "      <td>2021-12-31 01:11:23 Arabian Standard Time</td>\n",
       "      <td>2021-12-31</td>\n",
       "      <td>01:11:23</td>\n",
       "      <td>400</td>\n",
       "      <td>44196397</td>\n",
       "      <td>elonmusk</td>\n",
       "      <td>Elon Musk</td>\n",
       "      <td>NaN</td>\n",
       "      <td>...</td>\n",
       "      <td>NaN</td>\n",
       "      <td>NaN</td>\n",
       "      <td>NaN</td>\n",
       "      <td>NaN</td>\n",
       "      <td>NaN</td>\n",
       "      <td>[{'screen_name': 'roshanpateI', 'name': 'Rosha...</td>\n",
       "      <td>NaN</td>\n",
       "      <td>NaN</td>\n",
       "      <td>NaN</td>\n",
       "      <td>NaN</td>\n",
       "    </tr>\n",
       "    <tr>\n",
       "      <th>1</th>\n",
       "      <td>1476656306610216960</td>\n",
       "      <td>1476644467578859528</td>\n",
       "      <td>2021-12-31 00:47:53 Arabian Standard Time</td>\n",
       "      <td>2021-12-31</td>\n",
       "      <td>00:47:53</td>\n",
       "      <td>400</td>\n",
       "      <td>44196397</td>\n",
       "      <td>elonmusk</td>\n",
       "      <td>Elon Musk</td>\n",
       "      <td>NaN</td>\n",
       "      <td>...</td>\n",
       "      <td>NaN</td>\n",
       "      <td>NaN</td>\n",
       "      <td>NaN</td>\n",
       "      <td>NaN</td>\n",
       "      <td>NaN</td>\n",
       "      <td>[{'screen_name': 'tesla_raj', 'name': 'Tesla R...</td>\n",
       "      <td>NaN</td>\n",
       "      <td>NaN</td>\n",
       "      <td>NaN</td>\n",
       "      <td>NaN</td>\n",
       "    </tr>\n",
       "    <tr>\n",
       "      <th>2</th>\n",
       "      <td>1476651519986614281</td>\n",
       "      <td>1476252898115964928</td>\n",
       "      <td>2021-12-31 00:28:51 Arabian Standard Time</td>\n",
       "      <td>2021-12-31</td>\n",
       "      <td>00:28:51</td>\n",
       "      <td>400</td>\n",
       "      <td>44196397</td>\n",
       "      <td>elonmusk</td>\n",
       "      <td>Elon Musk</td>\n",
       "      <td>NaN</td>\n",
       "      <td>...</td>\n",
       "      <td>NaN</td>\n",
       "      <td>NaN</td>\n",
       "      <td>NaN</td>\n",
       "      <td>NaN</td>\n",
       "      <td>NaN</td>\n",
       "      <td>[{'screen_name': 'CSmithson80', 'name': 'Chris...</td>\n",
       "      <td>NaN</td>\n",
       "      <td>NaN</td>\n",
       "      <td>NaN</td>\n",
       "      <td>NaN</td>\n",
       "    </tr>\n",
       "    <tr>\n",
       "      <th>3</th>\n",
       "      <td>1476619907076923398</td>\n",
       "      <td>1476252898115964928</td>\n",
       "      <td>2021-12-30 22:23:14 Arabian Standard Time</td>\n",
       "      <td>2021-12-30</td>\n",
       "      <td>22:23:14</td>\n",
       "      <td>400</td>\n",
       "      <td>44196397</td>\n",
       "      <td>elonmusk</td>\n",
       "      <td>Elon Musk</td>\n",
       "      <td>NaN</td>\n",
       "      <td>...</td>\n",
       "      <td>NaN</td>\n",
       "      <td>NaN</td>\n",
       "      <td>NaN</td>\n",
       "      <td>NaN</td>\n",
       "      <td>NaN</td>\n",
       "      <td>[{'screen_name': 'BLKMDL3', 'name': 'Zack', 'i...</td>\n",
       "      <td>NaN</td>\n",
       "      <td>NaN</td>\n",
       "      <td>NaN</td>\n",
       "      <td>NaN</td>\n",
       "    </tr>\n",
       "    <tr>\n",
       "      <th>4</th>\n",
       "      <td>1476618021024190474</td>\n",
       "      <td>1476252898115964928</td>\n",
       "      <td>2021-12-30 22:15:45 Arabian Standard Time</td>\n",
       "      <td>2021-12-30</td>\n",
       "      <td>22:15:45</td>\n",
       "      <td>400</td>\n",
       "      <td>44196397</td>\n",
       "      <td>elonmusk</td>\n",
       "      <td>Elon Musk</td>\n",
       "      <td>NaN</td>\n",
       "      <td>...</td>\n",
       "      <td>NaN</td>\n",
       "      <td>NaN</td>\n",
       "      <td>NaN</td>\n",
       "      <td>NaN</td>\n",
       "      <td>NaN</td>\n",
       "      <td>[{'screen_name': 'mims', 'name': 'Christopher ...</td>\n",
       "      <td>NaN</td>\n",
       "      <td>NaN</td>\n",
       "      <td>NaN</td>\n",
       "      <td>NaN</td>\n",
       "    </tr>\n",
       "    <tr>\n",
       "      <th>...</th>\n",
       "      <td>...</td>\n",
       "      <td>...</td>\n",
       "      <td>...</td>\n",
       "      <td>...</td>\n",
       "      <td>...</td>\n",
       "      <td>...</td>\n",
       "      <td>...</td>\n",
       "      <td>...</td>\n",
       "      <td>...</td>\n",
       "      <td>...</td>\n",
       "      <td>...</td>\n",
       "      <td>...</td>\n",
       "      <td>...</td>\n",
       "      <td>...</td>\n",
       "      <td>...</td>\n",
       "      <td>...</td>\n",
       "      <td>...</td>\n",
       "      <td>...</td>\n",
       "      <td>...</td>\n",
       "      <td>...</td>\n",
       "      <td>...</td>\n",
       "    </tr>\n",
       "    <tr>\n",
       "      <th>3110</th>\n",
       "      <td>1345384139969552389</td>\n",
       "      <td>1345382294966571008</td>\n",
       "      <td>2021-01-02 18:59:09 Arabian Standard Time</td>\n",
       "      <td>2021-01-02</td>\n",
       "      <td>18:59:09</td>\n",
       "      <td>400</td>\n",
       "      <td>44196397</td>\n",
       "      <td>elonmusk</td>\n",
       "      <td>Elon Musk</td>\n",
       "      <td>NaN</td>\n",
       "      <td>...</td>\n",
       "      <td>NaN</td>\n",
       "      <td>NaN</td>\n",
       "      <td>NaN</td>\n",
       "      <td>NaN</td>\n",
       "      <td>NaN</td>\n",
       "      <td>[{'screen_name': 'flcnhvy', 'name': 'Viv ✶', '...</td>\n",
       "      <td>NaN</td>\n",
       "      <td>NaN</td>\n",
       "      <td>NaN</td>\n",
       "      <td>NaN</td>\n",
       "    </tr>\n",
       "    <tr>\n",
       "      <th>3111</th>\n",
       "      <td>1345382294966571008</td>\n",
       "      <td>1345382294966571008</td>\n",
       "      <td>2021-01-02 18:51:49 Arabian Standard Time</td>\n",
       "      <td>2021-01-02</td>\n",
       "      <td>18:51:49</td>\n",
       "      <td>400</td>\n",
       "      <td>44196397</td>\n",
       "      <td>elonmusk</td>\n",
       "      <td>Elon Musk</td>\n",
       "      <td>NaN</td>\n",
       "      <td>...</td>\n",
       "      <td>NaN</td>\n",
       "      <td>NaN</td>\n",
       "      <td>NaN</td>\n",
       "      <td>NaN</td>\n",
       "      <td>NaN</td>\n",
       "      <td>[]</td>\n",
       "      <td>NaN</td>\n",
       "      <td>NaN</td>\n",
       "      <td>NaN</td>\n",
       "      <td>NaN</td>\n",
       "    </tr>\n",
       "    <tr>\n",
       "      <th>3112</th>\n",
       "      <td>1345344958710992897</td>\n",
       "      <td>1345334831719337984</td>\n",
       "      <td>2021-01-02 16:23:28 Arabian Standard Time</td>\n",
       "      <td>2021-01-02</td>\n",
       "      <td>16:23:28</td>\n",
       "      <td>400</td>\n",
       "      <td>44196397</td>\n",
       "      <td>elonmusk</td>\n",
       "      <td>Elon Musk</td>\n",
       "      <td>NaN</td>\n",
       "      <td>...</td>\n",
       "      <td>NaN</td>\n",
       "      <td>NaN</td>\n",
       "      <td>NaN</td>\n",
       "      <td>NaN</td>\n",
       "      <td>NaN</td>\n",
       "      <td>[{'screen_name': 'newscientist', 'name': 'New ...</td>\n",
       "      <td>NaN</td>\n",
       "      <td>NaN</td>\n",
       "      <td>NaN</td>\n",
       "      <td>NaN</td>\n",
       "    </tr>\n",
       "    <tr>\n",
       "      <th>3113</th>\n",
       "      <td>1345208391958888448</td>\n",
       "      <td>1344675033231237120</td>\n",
       "      <td>2021-01-02 07:20:48 Arabian Standard Time</td>\n",
       "      <td>2021-01-02</td>\n",
       "      <td>07:20:48</td>\n",
       "      <td>400</td>\n",
       "      <td>44196397</td>\n",
       "      <td>elonmusk</td>\n",
       "      <td>Elon Musk</td>\n",
       "      <td>NaN</td>\n",
       "      <td>...</td>\n",
       "      <td>NaN</td>\n",
       "      <td>NaN</td>\n",
       "      <td>NaN</td>\n",
       "      <td>NaN</td>\n",
       "      <td>NaN</td>\n",
       "      <td>[{'screen_name': 'comma_ai', 'name': 'comma', ...</td>\n",
       "      <td>NaN</td>\n",
       "      <td>NaN</td>\n",
       "      <td>NaN</td>\n",
       "      <td>NaN</td>\n",
       "    </tr>\n",
       "    <tr>\n",
       "      <th>3114</th>\n",
       "      <td>1344810193952014336</td>\n",
       "      <td>1344518758707113986</td>\n",
       "      <td>2021-01-01 04:58:30 Arabian Standard Time</td>\n",
       "      <td>2021-01-01</td>\n",
       "      <td>04:58:30</td>\n",
       "      <td>400</td>\n",
       "      <td>44196397</td>\n",
       "      <td>elonmusk</td>\n",
       "      <td>Elon Musk</td>\n",
       "      <td>NaN</td>\n",
       "      <td>...</td>\n",
       "      <td>NaN</td>\n",
       "      <td>NaN</td>\n",
       "      <td>NaN</td>\n",
       "      <td>NaN</td>\n",
       "      <td>NaN</td>\n",
       "      <td>[{'screen_name': 'PPathole', 'name': 'Pranay P...</td>\n",
       "      <td>NaN</td>\n",
       "      <td>NaN</td>\n",
       "      <td>NaN</td>\n",
       "      <td>NaN</td>\n",
       "    </tr>\n",
       "  </tbody>\n",
       "</table>\n",
       "<p>3115 rows × 36 columns</p>\n",
       "</div>"
      ],
      "text/plain": [
       "                       id      conversation_id  \\\n",
       "0     1476662222617251846  1476620230692679680   \n",
       "1     1476656306610216960  1476644467578859528   \n",
       "2     1476651519986614281  1476252898115964928   \n",
       "3     1476619907076923398  1476252898115964928   \n",
       "4     1476618021024190474  1476252898115964928   \n",
       "...                   ...                  ...   \n",
       "3110  1345384139969552389  1345382294966571008   \n",
       "3111  1345382294966571008  1345382294966571008   \n",
       "3112  1345344958710992897  1345334831719337984   \n",
       "3113  1345208391958888448  1344675033231237120   \n",
       "3114  1344810193952014336  1344518758707113986   \n",
       "\n",
       "                                     created_at        date      time  \\\n",
       "0     2021-12-31 01:11:23 Arabian Standard Time  2021-12-31  01:11:23   \n",
       "1     2021-12-31 00:47:53 Arabian Standard Time  2021-12-31  00:47:53   \n",
       "2     2021-12-31 00:28:51 Arabian Standard Time  2021-12-31  00:28:51   \n",
       "3     2021-12-30 22:23:14 Arabian Standard Time  2021-12-30  22:23:14   \n",
       "4     2021-12-30 22:15:45 Arabian Standard Time  2021-12-30  22:15:45   \n",
       "...                                         ...         ...       ...   \n",
       "3110  2021-01-02 18:59:09 Arabian Standard Time  2021-01-02  18:59:09   \n",
       "3111  2021-01-02 18:51:49 Arabian Standard Time  2021-01-02  18:51:49   \n",
       "3112  2021-01-02 16:23:28 Arabian Standard Time  2021-01-02  16:23:28   \n",
       "3113  2021-01-02 07:20:48 Arabian Standard Time  2021-01-02  07:20:48   \n",
       "3114  2021-01-01 04:58:30 Arabian Standard Time  2021-01-01  04:58:30   \n",
       "\n",
       "      timezone   user_id  username       name  place  ... geo source  \\\n",
       "0          400  44196397  elonmusk  Elon Musk    NaN  ... NaN    NaN   \n",
       "1          400  44196397  elonmusk  Elon Musk    NaN  ... NaN    NaN   \n",
       "2          400  44196397  elonmusk  Elon Musk    NaN  ... NaN    NaN   \n",
       "3          400  44196397  elonmusk  Elon Musk    NaN  ... NaN    NaN   \n",
       "4          400  44196397  elonmusk  Elon Musk    NaN  ... NaN    NaN   \n",
       "...        ...       ...       ...        ...    ...  ...  ..    ...   \n",
       "3110       400  44196397  elonmusk  Elon Musk    NaN  ... NaN    NaN   \n",
       "3111       400  44196397  elonmusk  Elon Musk    NaN  ... NaN    NaN   \n",
       "3112       400  44196397  elonmusk  Elon Musk    NaN  ... NaN    NaN   \n",
       "3113       400  44196397  elonmusk  Elon Musk    NaN  ... NaN    NaN   \n",
       "3114       400  44196397  elonmusk  Elon Musk    NaN  ... NaN    NaN   \n",
       "\n",
       "     user_rt_id user_rt retweet_id  \\\n",
       "0           NaN     NaN        NaN   \n",
       "1           NaN     NaN        NaN   \n",
       "2           NaN     NaN        NaN   \n",
       "3           NaN     NaN        NaN   \n",
       "4           NaN     NaN        NaN   \n",
       "...         ...     ...        ...   \n",
       "3110        NaN     NaN        NaN   \n",
       "3111        NaN     NaN        NaN   \n",
       "3112        NaN     NaN        NaN   \n",
       "3113        NaN     NaN        NaN   \n",
       "3114        NaN     NaN        NaN   \n",
       "\n",
       "                                               reply_to  retweet_date  \\\n",
       "0     [{'screen_name': 'roshanpateI', 'name': 'Rosha...           NaN   \n",
       "1     [{'screen_name': 'tesla_raj', 'name': 'Tesla R...           NaN   \n",
       "2     [{'screen_name': 'CSmithson80', 'name': 'Chris...           NaN   \n",
       "3     [{'screen_name': 'BLKMDL3', 'name': 'Zack', 'i...           NaN   \n",
       "4     [{'screen_name': 'mims', 'name': 'Christopher ...           NaN   \n",
       "...                                                 ...           ...   \n",
       "3110  [{'screen_name': 'flcnhvy', 'name': 'Viv ✶', '...           NaN   \n",
       "3111                                                 []           NaN   \n",
       "3112  [{'screen_name': 'newscientist', 'name': 'New ...           NaN   \n",
       "3113  [{'screen_name': 'comma_ai', 'name': 'comma', ...           NaN   \n",
       "3114  [{'screen_name': 'PPathole', 'name': 'Pranay P...           NaN   \n",
       "\n",
       "      translate trans_src trans_dest  \n",
       "0           NaN       NaN        NaN  \n",
       "1           NaN       NaN        NaN  \n",
       "2           NaN       NaN        NaN  \n",
       "3           NaN       NaN        NaN  \n",
       "4           NaN       NaN        NaN  \n",
       "...         ...       ...        ...  \n",
       "3110        NaN       NaN        NaN  \n",
       "3111        NaN       NaN        NaN  \n",
       "3112        NaN       NaN        NaN  \n",
       "3113        NaN       NaN        NaN  \n",
       "3114        NaN       NaN        NaN  \n",
       "\n",
       "[3115 rows x 36 columns]"
      ]
     },
     "execution_count": 7,
     "metadata": {},
     "output_type": "execute_result"
    }
   ],
   "source": [
    "tweets_from_years['2021']"
   ]
  },
  {
   "cell_type": "code",
   "execution_count": 8,
   "metadata": {
    "collapsed": false,
    "pycharm": {
     "name": "#%%\n"
    }
   },
   "outputs": [
    {
     "name": "stdout",
     "output_type": "stream",
     "text": [
      "2010\n",
      "2011\n",
      "2012\n",
      "2013\n",
      "2014\n",
      "2015\n",
      "2016\n",
      "2017\n",
      "2018\n",
      "2019\n",
      "2020\n",
      "2021\n",
      "2022\n"
     ]
    }
   ],
   "source": [
    "for year in tweets_from_years:\n",
    "    print(year)\n",
    "    tweets_from_years[year] = tweets_from_years[year][['nlikes','date', 'link','photos','reply_to','retweet','source','tweet','video']]\n"
   ]
  },
  {
   "cell_type": "code",
   "execution_count": 9,
   "metadata": {
    "collapsed": false,
    "pycharm": {
     "name": "#%%\n"
    }
   },
   "outputs": [],
   "source": [
    "tweets_from_all_years = pd.concat([tweets_from_years[year] for year in tweets_from_years.keys()])\n",
    "tweets_from_all_years = tweets_from_all_years.reset_index()"
   ]
  },
  {
   "cell_type": "code",
   "execution_count": 10,
   "metadata": {
    "collapsed": false,
    "pycharm": {
     "name": "#%%\n"
    }
   },
   "outputs": [],
   "source": [
    "tweets_from_all_years = tweets_from_all_years[(tweets_from_all_years['reply_to']=='[]') & (tweets_from_all_years['retweet']==False)]"
   ]
  },
  {
   "cell_type": "code",
   "execution_count": 11,
   "metadata": {
    "collapsed": false,
    "pycharm": {
     "name": "#%%\n"
    }
   },
   "outputs": [
    {
     "data": {
      "text/html": [
       "<div>\n",
       "<style scoped>\n",
       "    .dataframe tbody tr th:only-of-type {\n",
       "        vertical-align: middle;\n",
       "    }\n",
       "\n",
       "    .dataframe tbody tr th {\n",
       "        vertical-align: top;\n",
       "    }\n",
       "\n",
       "    .dataframe thead th {\n",
       "        text-align: right;\n",
       "    }\n",
       "</style>\n",
       "<table border=\"1\" class=\"dataframe\">\n",
       "  <thead>\n",
       "    <tr style=\"text-align: right;\">\n",
       "      <th></th>\n",
       "      <th>index</th>\n",
       "      <th>nlikes</th>\n",
       "      <th>date</th>\n",
       "      <th>link</th>\n",
       "      <th>photos</th>\n",
       "      <th>reply_to</th>\n",
       "      <th>retweet</th>\n",
       "      <th>source</th>\n",
       "      <th>tweet</th>\n",
       "      <th>video</th>\n",
       "    </tr>\n",
       "  </thead>\n",
       "  <tbody>\n",
       "    <tr>\n",
       "      <th>0</th>\n",
       "      <td>0</td>\n",
       "      <td>4652</td>\n",
       "      <td>2010-06-04 18:31:57</td>\n",
       "      <td>https://twitter.com/elonmusk/status/15434727182</td>\n",
       "      <td>[]</td>\n",
       "      <td>[]</td>\n",
       "      <td>False</td>\n",
       "      <td>NaN</td>\n",
       "      <td>Please ignore prior tweets, as that was someon...</td>\n",
       "      <td>0</td>\n",
       "    </tr>\n",
       "    <tr>\n",
       "      <th>1</th>\n",
       "      <td>0</td>\n",
       "      <td>12</td>\n",
       "      <td>2011-12-28 22:27:08</td>\n",
       "      <td>https://twitter.com/elonmusk/status/1521536376...</td>\n",
       "      <td>[]</td>\n",
       "      <td>[]</td>\n",
       "      <td>False</td>\n",
       "      <td>NaN</td>\n",
       "      <td>@TheOnion So true :)</td>\n",
       "      <td>0</td>\n",
       "    </tr>\n",
       "    <tr>\n",
       "      <th>2</th>\n",
       "      <td>1</td>\n",
       "      <td>39</td>\n",
       "      <td>2011-12-27 23:38:55</td>\n",
       "      <td>https://twitter.com/elonmusk/status/1518093150...</td>\n",
       "      <td>[]</td>\n",
       "      <td>[]</td>\n",
       "      <td>False</td>\n",
       "      <td>NaN</td>\n",
       "      <td>If you ever wanted to know the *real* truth ab...</td>\n",
       "      <td>0</td>\n",
       "    </tr>\n",
       "    <tr>\n",
       "      <th>3</th>\n",
       "      <td>2</td>\n",
       "      <td>155</td>\n",
       "      <td>2011-12-26 16:29:50</td>\n",
       "      <td>https://twitter.com/elonmusk/status/1513389393...</td>\n",
       "      <td>['https://pbs.twimg.com/media/Ahmp9qtCAAAYPDX....</td>\n",
       "      <td>[]</td>\n",
       "      <td>False</td>\n",
       "      <td>NaN</td>\n",
       "      <td>Walked around a neighborhood recently rebuilt ...</td>\n",
       "      <td>1</td>\n",
       "    </tr>\n",
       "    <tr>\n",
       "      <th>4</th>\n",
       "      <td>3</td>\n",
       "      <td>158</td>\n",
       "      <td>2011-12-26 16:23:04</td>\n",
       "      <td>https://twitter.com/elonmusk/status/1513372374...</td>\n",
       "      <td>['https://pbs.twimg.com/media/AhmoamaCQAANvSt....</td>\n",
       "      <td>[]</td>\n",
       "      <td>False</td>\n",
       "      <td>NaN</td>\n",
       "      <td>It was Xmas, so we brought presents for the ki...</td>\n",
       "      <td>1</td>\n",
       "    </tr>\n",
       "    <tr>\n",
       "      <th>...</th>\n",
       "      <td>...</td>\n",
       "      <td>...</td>\n",
       "      <td>...</td>\n",
       "      <td>...</td>\n",
       "      <td>...</td>\n",
       "      <td>...</td>\n",
       "      <td>...</td>\n",
       "      <td>...</td>\n",
       "      <td>...</td>\n",
       "      <td>...</td>\n",
       "    </tr>\n",
       "    <tr>\n",
       "      <th>34865</th>\n",
       "      <td>1015</td>\n",
       "      <td>412729</td>\n",
       "      <td>2022-01-04</td>\n",
       "      <td>https://twitter.com/elonmusk/status/1478419298...</td>\n",
       "      <td>['https://pbs.twimg.com/media/FIRmg5_VQAAedm3....</td>\n",
       "      <td>[]</td>\n",
       "      <td>False</td>\n",
       "      <td>NaN</td>\n",
       "      <td>https://t.co/NH4S2wDizC</td>\n",
       "      <td>1</td>\n",
       "    </tr>\n",
       "    <tr>\n",
       "      <th>34869</th>\n",
       "      <td>1019</td>\n",
       "      <td>57660</td>\n",
       "      <td>2022-01-04</td>\n",
       "      <td>https://twitter.com/elonmusk/status/1478125263...</td>\n",
       "      <td>[]</td>\n",
       "      <td>[]</td>\n",
       "      <td>False</td>\n",
       "      <td>NaN</td>\n",
       "      <td>Raptor 2 now operates routinely at 300 bar mai...</td>\n",
       "      <td>0</td>\n",
       "    </tr>\n",
       "    <tr>\n",
       "      <th>34873</th>\n",
       "      <td>1023</td>\n",
       "      <td>473530</td>\n",
       "      <td>2022-01-03</td>\n",
       "      <td>https://twitter.com/elonmusk/status/1477775713...</td>\n",
       "      <td>['https://pbs.twimg.com/media/FIIdLYoXoAEd2j_....</td>\n",
       "      <td>[]</td>\n",
       "      <td>False</td>\n",
       "      <td>NaN</td>\n",
       "      <td>https://t.co/LA9hPzVlGx</td>\n",
       "      <td>1</td>\n",
       "    </tr>\n",
       "    <tr>\n",
       "      <th>34874</th>\n",
       "      <td>1024</td>\n",
       "      <td>320201</td>\n",
       "      <td>2022-01-02</td>\n",
       "      <td>https://twitter.com/elonmusk/status/1477706142...</td>\n",
       "      <td>[]</td>\n",
       "      <td>[]</td>\n",
       "      <td>False</td>\n",
       "      <td>NaN</td>\n",
       "      <td>Let’s make the roaring 20’s happen!</td>\n",
       "      <td>0</td>\n",
       "    </tr>\n",
       "    <tr>\n",
       "      <th>34875</th>\n",
       "      <td>1025</td>\n",
       "      <td>66405</td>\n",
       "      <td>2022-01-02</td>\n",
       "      <td>https://twitter.com/elonmusk/status/1477700424...</td>\n",
       "      <td>[]</td>\n",
       "      <td>[]</td>\n",
       "      <td>False</td>\n",
       "      <td>NaN</td>\n",
       "      <td>Great work by Tesla team worldwide!</td>\n",
       "      <td>0</td>\n",
       "    </tr>\n",
       "  </tbody>\n",
       "</table>\n",
       "<p>16413 rows × 10 columns</p>\n",
       "</div>"
      ],
      "text/plain": [
       "       index  nlikes                 date  \\\n",
       "0          0    4652  2010-06-04 18:31:57   \n",
       "1          0      12  2011-12-28 22:27:08   \n",
       "2          1      39  2011-12-27 23:38:55   \n",
       "3          2     155  2011-12-26 16:29:50   \n",
       "4          3     158  2011-12-26 16:23:04   \n",
       "...      ...     ...                  ...   \n",
       "34865   1015  412729           2022-01-04   \n",
       "34869   1019   57660           2022-01-04   \n",
       "34873   1023  473530           2022-01-03   \n",
       "34874   1024  320201           2022-01-02   \n",
       "34875   1025   66405           2022-01-02   \n",
       "\n",
       "                                                    link  \\\n",
       "0        https://twitter.com/elonmusk/status/15434727182   \n",
       "1      https://twitter.com/elonmusk/status/1521536376...   \n",
       "2      https://twitter.com/elonmusk/status/1518093150...   \n",
       "3      https://twitter.com/elonmusk/status/1513389393...   \n",
       "4      https://twitter.com/elonmusk/status/1513372374...   \n",
       "...                                                  ...   \n",
       "34865  https://twitter.com/elonmusk/status/1478419298...   \n",
       "34869  https://twitter.com/elonmusk/status/1478125263...   \n",
       "34873  https://twitter.com/elonmusk/status/1477775713...   \n",
       "34874  https://twitter.com/elonmusk/status/1477706142...   \n",
       "34875  https://twitter.com/elonmusk/status/1477700424...   \n",
       "\n",
       "                                                  photos reply_to  retweet  \\\n",
       "0                                                     []       []    False   \n",
       "1                                                     []       []    False   \n",
       "2                                                     []       []    False   \n",
       "3      ['https://pbs.twimg.com/media/Ahmp9qtCAAAYPDX....       []    False   \n",
       "4      ['https://pbs.twimg.com/media/AhmoamaCQAANvSt....       []    False   \n",
       "...                                                  ...      ...      ...   \n",
       "34865  ['https://pbs.twimg.com/media/FIRmg5_VQAAedm3....       []    False   \n",
       "34869                                                 []       []    False   \n",
       "34873  ['https://pbs.twimg.com/media/FIIdLYoXoAEd2j_....       []    False   \n",
       "34874                                                 []       []    False   \n",
       "34875                                                 []       []    False   \n",
       "\n",
       "       source                                              tweet  video  \n",
       "0         NaN  Please ignore prior tweets, as that was someon...      0  \n",
       "1         NaN                               @TheOnion So true :)      0  \n",
       "2         NaN  If you ever wanted to know the *real* truth ab...      0  \n",
       "3         NaN  Walked around a neighborhood recently rebuilt ...      1  \n",
       "4         NaN  It was Xmas, so we brought presents for the ki...      1  \n",
       "...       ...                                                ...    ...  \n",
       "34865     NaN                            https://t.co/NH4S2wDizC      1  \n",
       "34869     NaN  Raptor 2 now operates routinely at 300 bar mai...      0  \n",
       "34873     NaN                            https://t.co/LA9hPzVlGx      1  \n",
       "34874     NaN                Let’s make the roaring 20’s happen!      0  \n",
       "34875     NaN                Great work by Tesla team worldwide!      0  \n",
       "\n",
       "[16413 rows x 10 columns]"
      ]
     },
     "execution_count": 11,
     "metadata": {},
     "output_type": "execute_result"
    }
   ],
   "source": [
    "tweets_from_all_years"
   ]
  },
  {
   "cell_type": "code",
   "execution_count": 12,
   "metadata": {
    "collapsed": false,
    "pycharm": {
     "name": "#%%\n"
    }
   },
   "outputs": [
    {
     "data": {
      "application/vnd.jupyter.widget-view+json": {
       "model_id": "5ebaf62165c84a3a8c30a56bbb55cd72",
       "version_major": 2,
       "version_minor": 0
      },
      "text/plain": [
       "Downloading:   0%|          | 0.00/665 [00:00<?, ?B/s]"
      ]
     },
     "metadata": {},
     "output_type": "display_data"
    },
    {
     "data": {
      "application/vnd.jupyter.widget-view+json": {
       "model_id": "aaee03149d80418d9b4fe024adc5d326",
       "version_major": 2,
       "version_minor": 0
      },
      "text/plain": [
       "Downloading:   0%|          | 0.00/523M [00:00<?, ?B/s]"
      ]
     },
     "metadata": {},
     "output_type": "display_data"
    },
    {
     "data": {
      "application/vnd.jupyter.widget-view+json": {
       "model_id": "b3bd7c5b90884ff2a7fd13e0ddb2c469",
       "version_major": 2,
       "version_minor": 0
      },
      "text/plain": [
       "Downloading:   0%|          | 0.00/0.99M [00:00<?, ?B/s]"
      ]
     },
     "metadata": {},
     "output_type": "display_data"
    },
    {
     "data": {
      "application/vnd.jupyter.widget-view+json": {
       "model_id": "fb90e3ae047b40ea9f3c1d1f8ca39bf1",
       "version_major": 2,
       "version_minor": 0
      },
      "text/plain": [
       "Downloading:   0%|          | 0.00/446k [00:00<?, ?B/s]"
      ]
     },
     "metadata": {},
     "output_type": "display_data"
    },
    {
     "data": {
      "application/vnd.jupyter.widget-view+json": {
       "model_id": "1978a7e3eedb441dac4ca6115179ac6b",
       "version_major": 2,
       "version_minor": 0
      },
      "text/plain": [
       "Downloading:   0%|          | 0.00/1.29M [00:00<?, ?B/s]"
      ]
     },
     "metadata": {},
     "output_type": "display_data"
    }
   ],
   "source": [
    "from transformers import pipeline\n",
    "gen = pipeline('text-generation', model='gpt2')"
   ]
  },
  {
   "cell_type": "code",
   "execution_count": 48,
   "metadata": {
    "collapsed": false,
    "pycharm": {
     "name": "#%%\n"
    }
   },
   "outputs": [
    {
     "name": "stderr",
     "output_type": "stream",
     "text": [
      "Special tokens have been added in the vocabulary, make sure the associated word embeddings are fine-tuned or trained.\n"
     ]
    }
   ],
   "source": [
    "from transformers import AutoTokenizer, AutoModelForCausalLM\n",
    "\n",
    "BOS_TOKEN = \"<|elontext|>\"\n",
    "EOS_TOKEN = \"<|endoftext|>\"\n",
    "PAD_TOKEN = \"<|pad|>\"\n",
    "MAX_TOKENS = 512\n",
    "\n",
    "tokenizer = AutoTokenizer.from_pretrained(\"gpt2\",\n",
    "    bos_token=BOS_TOKEN,\n",
    "    eos_token=EOS_TOKEN,\n",
    "    pad_token=PAD_TOKEN,\n",
    "    max_length=MAX_TOKENS,\n",
    "    is_split_into_words=True,\n",
    ")\n",
    "\n",
    "model = AutoModelForCausalLM.from_pretrained(\"gpt2\")"
   ]
  },
  {
   "cell_type": "code",
   "execution_count": 49,
   "metadata": {
    "collapsed": false,
    "pycharm": {
     "name": "#%%\n"
    }
   },
   "outputs": [
    {
     "name": "stdout",
     "output_type": "stream",
     "text": [
      "{'input_ids': [10248, 10638, 286, 10701, 9581, 2106, 13, 1318, 547, 734, 4388, 1660, 1956, 654, 881, 2961, 11, 475, 484, 1422, 470, 7866, 890, 13, 220, 3740, 1378, 83, 13, 1073, 14, 45, 21, 74, 5324, 48, 68, 37, 1525], 'attention_mask': [1, 1, 1, 1, 1, 1, 1, 1, 1, 1, 1, 1, 1, 1, 1, 1, 1, 1, 1, 1, 1, 1, 1, 1, 1, 1, 1, 1, 1, 1, 1, 1, 1, 1, 1, 1, 1, 1, 1]}\n",
      "Good summary of rocket landing history. There were two successful water landings much earlier, but they didn't survive long.  https://t.co/N6kxxQeFby\n"
     ]
    }
   ],
   "source": [
    "some_tweets = tweets_from_all_years.sample(n=10, random_state=30)\n",
    "some_tokens = []\n",
    "encoded = tokenizer(some_tweets['tweet'].to_list()[0], padding=True, max_length=MAX_TOKENS, pad_to_max_length=True,)\n",
    "decoded = tokenizer.decode(encoded['input_ids'])\n",
    "print(encoded)\n",
    "print (decoded)\n",
    "#for i in some_tweets['tweet']:\n",
    "    #some_tokens.append(' '.join(i.split(' ')[:5]))"
   ]
  },
  {
   "cell_type": "code",
   "execution_count": 15,
   "metadata": {
    "collapsed": false,
    "pycharm": {
     "name": "#%%\n"
    }
   },
   "outputs": [
    {
     "data": {
      "text/plain": [
       "['Good summary of rocket landing',\n",
       " 'Thanks George!',\n",
       " 'Looks like sooner than expected.',\n",
       " '@patrickdorey81 Model S starts at',\n",
       " 'And so the robots spared',\n",
       " 'After 50k hats, we will',\n",
       " 'We need to do one',\n",
       " '@arenpageler Storm Watch was active',\n",
       " 'Excited to have Larry Ellison',\n",
       " 'Desire to help Boeing is']"
      ]
     },
     "execution_count": 15,
     "metadata": {},
     "output_type": "execute_result"
    }
   ],
   "source": [
    "some_tokens"
   ]
  },
  {
   "cell_type": "code",
   "execution_count": 16,
   "metadata": {
    "collapsed": false,
    "pycharm": {
     "name": "#%%\n"
    }
   },
   "outputs": [
    {
     "name": "stderr",
     "output_type": "stream",
     "text": [
      "Setting `pad_token_id` to `eos_token_id`:50256 for open-end generation.\n",
      "Setting `pad_token_id` to `eos_token_id`:50256 for open-end generation.\n"
     ]
    },
    {
     "name": "stdout",
     "output_type": "stream",
     "text": [
      "[{'generated_text': \"Good summary of rocket landing.\\n\\nThis one, from the NIMBY:\\n\\nAnd here's a story from The Washington Post to celebrate the fact that there was no landing:\\n\\nThe NIMBY's Michael Ledeen describes his\"}]\n"
     ]
    },
    {
     "name": "stderr",
     "output_type": "stream",
     "text": [
      "Setting `pad_token_id` to `eos_token_id`:50256 for open-end generation.\n",
      "Setting `pad_token_id` to `eos_token_id`:50256 for open-end generation.\n"
     ]
    },
    {
     "name": "stdout",
     "output_type": "stream",
     "text": [
      "[{'generated_text': \"Thanks George! And please pray for us. All of our friends are here today to show their strength. All of George's friends and family has also been there to support our cause so it is great to see George here and pray we can continue to\"}]\n",
      "[{'generated_text': 'Looks like sooner than expected.'}]\n"
     ]
    },
    {
     "name": "stderr",
     "output_type": "stream",
     "text": [
      "Setting `pad_token_id` to `eos_token_id`:50256 for open-end generation.\n"
     ]
    },
    {
     "name": "stdout",
     "output_type": "stream",
     "text": [
      "[{'generated_text': '@patrickdorey81 Model S starts at $50,000, goes up at $65,000 but for some reason not enough people want to spend the money for the next model they are buying\\n\\nSo who are the people that you'}]\n"
     ]
    },
    {
     "name": "stderr",
     "output_type": "stream",
     "text": [
      "Setting `pad_token_id` to `eos_token_id`:50256 for open-end generation.\n"
     ]
    },
    {
     "name": "stdout",
     "output_type": "stream",
     "text": [
      "[{'generated_text': 'And so the robots spared the robots the chance to kill each other, and that is what they did.'}]\n"
     ]
    },
    {
     "name": "stderr",
     "output_type": "stream",
     "text": [
      "Setting `pad_token_id` to `eos_token_id`:50256 for open-end generation.\n"
     ]
    },
    {
     "name": "stdout",
     "output_type": "stream",
     "text": [
      "[{'generated_text': 'After 50k hats, we will get 15,000 to 15,000 donations. We hope to be able to finish it by 2020. I will always remember your beautiful past.\\n\\nWe know that the best of the people will support us on'}]\n"
     ]
    },
    {
     "name": "stderr",
     "output_type": "stream",
     "text": [
      "Setting `pad_token_id` to `eos_token_id`:50256 for open-end generation.\n"
     ]
    },
    {
     "name": "stdout",
     "output_type": "stream",
     "text": [
      "[{'generated_text': 'We need to do one of two things. We can take this and use it as a way to take action on crime. If things are going to get worse and we need you to go forward and fight, then you ought to take the action you'}]\n"
     ]
    },
    {
     "name": "stderr",
     "output_type": "stream",
     "text": [
      "Setting `pad_token_id` to `eos_token_id`:50256 for open-end generation.\n"
     ]
    },
    {
     "name": "stdout",
     "output_type": "stream",
     "text": [
      "[{'generated_text': \"@arenpageler Storm Watch was active for a long time and when you've been on this team you know things are going to be a lot different from last year. It was really cool how much the team cared about the fans and the\"}]\n"
     ]
    },
    {
     "name": "stderr",
     "output_type": "stream",
     "text": [
      "Setting `pad_token_id` to `eos_token_id`:50256 for open-end generation.\n"
     ]
    },
    {
     "name": "stdout",
     "output_type": "stream",
     "text": [
      "[{'generated_text': 'Excited to have Larry Ellison as our Chairman? His role in our process of appointing an independent federal law clerk would be especially important as the first of many changes that are needed to ensure that Congress is not beholden to special interests and not beholden'}]\n",
      "[{'generated_text': \"Desire to help Boeing is the result of a partnership between the Boeing Co. Group, the company that develops the C-Series jet, and the U.S. Department of Defense's Aviation Safety and Health Program. The Air Force's program supports\"}]\n"
     ]
    }
   ],
   "source": [
    "for token in some_tokens:\n",
    "    print(gen(token, max_length=50, num_return_sequences=1))"
   ]
  },
  {
   "cell_type": "code",
   "execution_count": null,
   "metadata": {
    "collapsed": false,
    "pycharm": {
     "name": "#%%\n"
    }
   },
   "outputs": [],
   "source": []
  }
 ],
 "metadata": {
  "interpreter": {
   "hash": "b757419f8e9653efa3b1d0ab3e43e629cdfff8f48cf8c1e8bcae685186face11"
  },
  "kernelspec": {
   "display_name": "Python 3.9.5 64-bit",
   "language": "python",
   "name": "python3"
  },
  "language_info": {
   "codemirror_mode": {
    "name": "ipython",
    "version": 3
   },
   "file_extension": ".py",
   "mimetype": "text/x-python",
   "name": "python",
   "nbconvert_exporter": "python",
   "pygments_lexer": "ipython3",
   "version": "3.9.5"
  }
 },
 "nbformat": 4,
 "nbformat_minor": 0
}
